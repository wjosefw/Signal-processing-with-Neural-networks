{
  "cells": [
    {
      "cell_type": "markdown",
      "metadata": {
        "id": "-Yjvn94jdzSF"
      },
      "source": [
        "# **IMPORTADO DE MÓDULOS**"
      ]
    },
    {
      "cell_type": "code",
      "execution_count": null,
      "metadata": {
        "colab": {
          "base_uri": "https://localhost:8080/"
        },
        "id": "oz_-giGDdyi5",
        "outputId": "4eb91d82-08a7-4740-c15d-8ffe660abe5a"
      },
      "outputs": [],
      "source": [
        "import numpy as np\n",
        "import numpy.matlib\n",
        "\n",
        "import os\n",
        "import matplotlib.pyplot as plt\n",
        "from scipy.interpolate import interp1d\n",
        "from scipy.ndimage import gaussian_filter1d\n",
        "\n",
        "import tensorflow as tf\n",
        "tf.version.VERSION"
      ]
    },
    {
      "cell_type": "code",
      "execution_count": null,
      "metadata": {
        "id": "0-ZfwGb2d88X"
      },
      "outputs": [],
      "source": [
        "from scipy.optimize import curve_fit\n",
        "#https://gist.github.com/cpascual/a03d0d49ddd2c87d7e84b9f4ad2df466\n",
        "def gauss(x, H, A, x0, sigma):\n",
        "    return H + A * np.exp(-(x - x0) ** 2 / (2 * sigma ** 2))\n",
        "def gauss_fit(x, y):\n",
        "    mean = sum(x * y) / sum(y)\n",
        "    sigma = np.sqrt(sum(y * (x - mean) ** 2) / sum(y))\n",
        "    popt, pcov = curve_fit(gauss, x, y, p0=[min(y), max(y), mean, sigma])\n",
        "    return popt"
      ]
    },
    {
      "cell_type": "code",
      "execution_count": null,
      "metadata": {
        "id": "j8F6eUNJ8G0w"
      },
      "outputs": [],
      "source": [
        "from tensorflow.keras.layers import Input\n",
        "from tensorflow.keras.models import Model\n",
        "from tensorflow.keras.layers import Dense, LeakyReLU\n",
        "from tensorflow.keras import initializers\n",
        "from keras.regularizers import l2\n",
        "from keras.losses import mse\n",
        "import keras.backend as K"
      ]
    },
    {
      "cell_type": "code",
      "execution_count": null,
      "metadata": {
        "id": "mR9IsdkZk3Pj"
      },
      "outputs": [],
      "source": [
        "!wget 'http://tomografia.es/data/Co60_5cm_5cm.npy' -q\n",
        "!wget 'http://tomografia.es/data/Co60_2cm_8cm.npy' -q\n",
        "!wget 'http://tomografia.es/data/Co60_8cm_2cm.npy' -q\n",
        "\n",
        "V55= np.load('Co60_5cm_5cm.npy')\n",
        "V28= np.load('Co60_2cm_8cm.npy')\n",
        "V82= np.load('Co60_8cm_2cm.npy')"
      ]
    },
    {
      "cell_type": "markdown",
      "metadata": {
        "id": "BSDzDaE8-vzc"
      },
      "source": [
        "# **PREPROCESSING AND FUNCTIONS**"
      ]
    },
    {
      "cell_type": "code",
      "execution_count": null,
      "metadata": {
        "colab": {
          "base_uri": "https://localhost:8080/"
        },
        "id": "DdH1gzfZ6gic",
        "outputId": "bcf1ae52-3d31-4299-d322-8434a9baea08"
      },
      "outputs": [
        {
          "name": "stdout",
          "output_type": "stream",
          "text": [
            "Number of time points: 30\n",
            "Time step: 0.20\n",
            "New number of time points: 240\n",
            "New time step: 0.0250\n"
          ]
        }
      ],
      "source": [
        "start_cfd = 50\n",
        "stop_cfd = 80\n",
        "\n",
        "#--------------------------------Interpolar pulsos reales---------------------------------\n",
        "input = V28[:,start_cfd:stop_cfd,:]\n",
        "EXTRASAMPLING = 8\n",
        "Nt = np.shape(input)[1]\n",
        "Nt_new = Nt *  EXTRASAMPLING\n",
        "time_step = 0.2\n",
        "new_time_step = time_step / EXTRASAMPLING\n",
        "\n",
        "tiempo = np.linspace(0, Nt, Nt)\n",
        "tiempo_new = np.linspace(0,Nt,Nt_new)\n",
        "\n",
        "interp_func_V28 = interp1d(tiempo,V28[:,start_cfd:stop_cfd,:],  kind='cubic', axis=1)\n",
        "new_V28 = interp_func_V28(tiempo_new)\n",
        "\n",
        "interp_func_V55 = interp1d(tiempo,V55[:,start_cfd:stop_cfd,:],  kind='cubic', axis=1)\n",
        "new_V55 = interp_func_V55(tiempo_new)\n",
        "\n",
        "interp_func_V82 = interp1d(tiempo,V82[:,start_cfd:stop_cfd,:],  kind='cubic', axis=1)\n",
        "new_V82 = interp_func_V82(tiempo_new)\n",
        "\n",
        "\n",
        "print('Number of time points: %.d' % (Nt))\n",
        "print('Time step: %.2f' % (time_step))\n",
        "print('New number of time points: %.d' % (Nt_new))\n",
        "print('New time step: %.4f' % (new_time_step))"
      ]
    },
    {
      "cell_type": "code",
      "execution_count": null,
      "metadata": {
        "id": "kfnsyXJtOe_N"
      },
      "outputs": [],
      "source": [
        "def find_fraction_index(vector, fraction=0.1):\n",
        "  new_vector = np.copy(vector)\n",
        "  energy = np.sum(new_vector, axis = 1)\n",
        "  cumulative = np.cumsum(new_vector, axis = 1)\n",
        "  for i in range(new_vector.shape[0]):\n",
        "    indices = np.where(cumulative[i,:] >= energy[i]*fraction)[0]\n",
        "    index = indices[0]\n",
        "    new_vector[i,index:] = 0\n",
        "  return new_vector\n",
        "\n",
        "\n",
        "#-----------------------------------------------------------------------------------------------------------\n",
        "\n",
        "def constant_fraction_discrimination(vector, fraction = 0.1):\n",
        "    fraction_part = np.zeros_like(vector)\n",
        "    shifted_fraction_part = np.zeros_like(vector)\n",
        "    corrected_signal = np.zeros_like(vector)\n",
        "    for i in range(vector.shape[0]):\n",
        "      fraction_part[i,:] = vector[i,:] - fraction\n",
        "      shift  = -np.argmax(fraction_part[i,:])\n",
        "      shifted_fraction_part[i,:] = np.roll(fraction_part[i,:], shift)\n",
        "      shifted_fraction_part[i,:shift] =  0 #fraction_part[i,shift:]\n",
        "      corrected_signal[i,:] = vector[i,:] + shifted_fraction_part[i,:]\n",
        "      plt.plot(corrected_signal[i,:])\n",
        "    return corrected_signal"
      ]
    },
    {
      "cell_type": "code",
      "execution_count": null,
      "metadata": {
        "colab": {
          "base_uri": "https://localhost:8080/",
          "height": 430
        },
        "id": "E5dnY5s4qPNT",
        "outputId": "17ee83da-a128-4712-9ba3-0ca8d3c6461c"
      },
      "outputs": [
        {
          "data": {
            "image/png": "[encoded data removed]",
            "text/plain": [
              "<Figure size 640x480 with 1 Axes>"
            ]
          },
          "metadata": {},
          "output_type": "display_data"
        }
      ],
      "source": [
        "#new_V28_dec0 = find_fraction_index(new_V28[:,:,0])\n",
        "#new_V55_dec0 = find_fraction_index(new_V55[:,:,0])\n",
        "#new_V82_dec0 = find_fraction_index(new_V82[:,:,0])\n",
        "\n",
        "#new_V28_dec1 = find_fraction_index(new_V28[:,:,1])\n",
        "#new_V55_dec1 = find_fraction_index(new_V55[:,:,1])\n",
        "#new_V82_dec1 = find_fraction_index(new_V82[:,:,1])\n",
        "\n",
        "\n",
        "new_V28_dec0 = constant_fraction_discrimination(new_V28[:,:,0])\n",
        "new_V55_dec0 = constant_fraction_discrimination(new_V55[:,:,0])\n",
        "new_V82_dec0 = constant_fraction_discrimination(new_V82[:,:,0])\n",
        "\n",
        "new_V28_dec1 = constant_fraction_discrimination(new_V28[:,:,1])\n",
        "new_V55_dec1 = constant_fraction_discrimination(new_V55[:,:,1])\n",
        "new_V82_dec1 = constant_fraction_discrimination(new_V82[:,:,1])\n",
        "\n",
        "V28_fraction = np.concatenate((new_V28_dec0[:,:,np.newaxis],new_V28_dec1[:,:,np.newaxis]), axis = 2)\n",
        "V55_fraction = np.concatenate((new_V55_dec0[:,:,np.newaxis],new_V55_dec1[:,:,np.newaxis]), axis = 2)\n",
        "V82_fraction = np.concatenate((new_V82_dec0[:,:,np.newaxis],new_V82_dec1[:,:,np.newaxis]), axis = 2)"
      ]
    },
    {
      "cell_type": "code",
      "execution_count": null,
      "metadata": {
        "id": "SfQrN71c-Noh"
      },
      "outputs": [],
      "source": [
        "def momentos(vector):\n",
        "  Nev,Nt,Nc = np.shape(vector)    #Nev: Núm eventos, Nt: Núm puntos temporales, Nc: Número canales\n",
        "  t = np.reshape(np.linspace(0,Nt, Nt)/float(Nt),(1,-1,1))#Normalized array of time\n",
        "  MOMENT = np.zeros((Nev,0,Nc))\n",
        "\n",
        "  for i in range(4): #Number of moments used\n",
        "\n",
        "    W = t**(i+1)\n",
        "    W = np.tile(W,(Nev,1,2))\n",
        "    MM = np.sum(vector*W,axis=1,keepdims=True)\n",
        "    MOMENT = np.append(MOMENT,MM,axis= 1)\n",
        "\n",
        "    W = np.exp(-(i*t))\n",
        "    W = np.tile(W,(Nev,1,2))\n",
        "    MM = np.sum(vector*W,axis=1,keepdims=True)\n",
        "    MOMENT = np.append(MOMENT,MM,axis= 1)\n",
        "\n",
        "    W = np.exp(-(t**(i)))\n",
        "    W = np.tile(W,(Nev,1,2))\n",
        "    MM = np.sum(vector*W,axis=1,keepdims=True)\n",
        "    MOMENT = np.append(MOMENT,MM,axis=1)\n",
        "\n",
        "\n",
        "  return MOMENT"
      ]
    },
    {
      "cell_type": "code",
      "execution_count": null,
      "metadata": {
        "id": "iL8V6HnwB1Cg"
      },
      "outputs": [],
      "source": [
        "INPUT = np.concatenate((V55_fraction,V28_fraction,V82_fraction),axis= 0)\n",
        "Ncasos = INPUT.shape[0]\n",
        "Ntrain = int(0.8*Ncasos)"
      ]
    },
    {
      "cell_type": "markdown",
      "metadata": {
        "id": "uZIemAJK7tId"
      },
      "source": [
        "# **DETECTOR 0**"
      ]
    },
    {
      "cell_type": "markdown",
      "metadata": {
        "id": "iUQlqFvh2NS7"
      },
      "source": [
        "## DATA CREATION\n"
      ]
    },
    {
      "cell_type": "code",
      "execution_count": null,
      "metadata": {
        "id": "WheTbSZ3ze9l"
      },
      "outputs": [],
      "source": [
        "INPUT2_dec0 = np.zeros_like(INPUT)\n",
        "REF_dec0 = np.zeros((Ncasos,),dtype=np.float32)\n",
        "\n",
        "NRD0 = np.random.randint(20, size=Ncasos)\n",
        "NRD1 = np.random.randint(20, size=Ncasos)\n",
        "\n",
        "for i in range(Ncasos):\n",
        "  N0 = NRD0[i]\n",
        "  noise0 = np.random.normal(scale=1e-3, size=N0)\n",
        "  noise00 = np.random.normal(scale=0.01, size=INPUT.shape[1])\n",
        "  smoothed_noise = gaussian_filter1d(noise00, sigma=10)\n",
        "  INPUT2_dec0[i,:,0]=np.roll(INPUT[i,:,0],N0)\n",
        "  INPUT2_dec0[i,:,0] = INPUT2_dec0[i,:,0] + smoothed_noise\n",
        "  INPUT2_dec0[i,0:N0,0] =  INPUT[i,0:N0,0] + noise0\n",
        "\n",
        "  N1 = NRD1[i]\n",
        "  noise1 = np.random.normal(scale=1e-3, size=N1)\n",
        "  noise11 = np.random.normal(scale=0.01, size=INPUT.shape[1])\n",
        "  smoothed_noise = gaussian_filter1d(noise11, sigma=10)\n",
        "  INPUT2_dec0[i,:,1]=np.roll(INPUT[i,:,0],N1)\n",
        "  INPUT2_dec0[i,:,1] = INPUT2_dec0[i,:,1] + smoothed_noise\n",
        "  INPUT2_dec0[i,0:N1,1] = INPUT[i,0:N1,0] + noise1\n",
        "\n",
        "  REF_dec0[i]=new_time_step*(N0-N1)  #in ns (t_shift is defined above)\n",
        "\n",
        "\n",
        "trainX_dec0 = INPUT2_dec0[0:Ntrain,:,:]\n",
        "valX_dec0 = INPUT2_dec0[Ntrain:,:,:]\n",
        "\n",
        "REF_train_dec0 = REF_dec0[0:Ntrain]\n",
        "REF_val_dec0 = REF_dec0[Ntrain:]"
      ]
    },
    {
      "cell_type": "code",
      "execution_count": null,
      "metadata": {
        "colab": {
          "base_uri": "https://localhost:8080/"
        },
        "id": "QAVMYvd7QTs2",
        "outputId": "5fe84e54-3757-4033-a283-ec7efec8f3e8"
      },
      "outputs": [
        {
          "data": {
            "image/png": "[encoded data removed]",
            "text/plain": [
              "<Figure size 640x480 with 1 Axes>"
            ]
          },
          "metadata": {},
          "output_type": "display_data"
        }
      ],
      "source": [
        "t = np.arange(Nt_new) / float(Nt_new)\n",
        "for i in range(trainX_dec0.shape[0]):\n",
        "  plt.plot(t*trainX_dec0[i,:,0],'b-')\n",
        "  plt.plot(t*trainX_dec0[i,:,1],'r-')"
      ]
    },
    {
      "cell_type": "code",
      "execution_count": null,
      "metadata": {
        "colab": {
          "base_uri": "https://localhost:8080/"
        },
        "id": "dFdKtkWwe6Fa",
        "outputId": "f90167eb-a3ee-47c2-a09a-cb0161056133"
      },
      "outputs": [
        {
          "name": "stdout",
          "output_type": "stream",
          "text": [
            "(588, 12, 2) (148, 12, 2) NM = 12\n"
          ]
        }
      ],
      "source": [
        "#-------------------------------------------------------------- Calculate moments ---------------------------------------------------\n",
        "M_Train_dec0 = momentos(trainX_dec0)\n",
        "M_Val_dec0 = momentos(valX_dec0)\n",
        "\n",
        "min_dec0 = np.min(M_Train_dec0)\n",
        "max_dec0 = np.max(M_Train_dec0)\n",
        "\n",
        "M_Train_dec0 = (M_Train_dec0-min_dec0)/(max_dec0 - min_dec0)\n",
        "M_Val_dec0 = (M_Val_dec0-min_dec0)/(max_dec0 - min_dec0)\n",
        "\n",
        "NM = np.shape(M_Train_dec0)[1]\n",
        "print(M_Train_dec0.shape,M_Val_dec0.shape, \"NM =\", NM)"
      ]
    },
    {
      "cell_type": "markdown",
      "metadata": {
        "id": "Frtk8qxweE3g"
      },
      "source": [
        "## NEURAL NETWORK"
      ]
    },
    {
      "cell_type": "code",
      "execution_count": null,
      "metadata": {
        "id": "J1irs4s-P3cS"
      },
      "outputs": [],
      "source": [
        "#------------------------------------------------------------- Initialize Model --------------------------------------------------------------------------------------\n",
        "inputA = Input(shape=(NM,),)\n",
        "inputB = Input(shape=(NM,))\n",
        "\n",
        "x1 = Dense(4, activation='relu',kernel_initializer=initializers.RandomNormal(mean=0,stddev=1),kernel_regularizer=l2(0.01))\n",
        "x2 = Dense(4, activation='relu',kernel_initializer=initializers.RandomNormal(mean=0,stddev=1),kernel_regularizer=l2(0.01))\n",
        "x3 = Dense(4, activation='relu',kernel_initializer=initializers.RandomNormal(mean=0,stddev=1),kernel_regularizer=l2(0.01))\n",
        "x4 = Dense(1, activation=\"linear\")\n",
        "\n",
        "op1A = x1(inputA)\n",
        "op2A = x2(op1A)\n",
        "op3A = x3(op2A)\n",
        "outA = x4(op3A)\n",
        "\n",
        "op1B = x1(inputB)\n",
        "op2B = x2(op1B)\n",
        "op3B = x3(op2B)\n",
        "outB = x4(op3B)\n",
        "\n",
        "\n",
        "model_dec0 = Model(inputs=[inputA, inputB], outputs= outA-outB)"
      ]
    },
    {
      "cell_type": "code",
      "execution_count": null,
      "metadata": {
        "colab": {
          "base_uri": "https://localhost:8080/"
        },
        "id": "d-Zd81FSQRo9",
        "outputId": "b7a61a74-5170-4c8d-bbbb-92f7e62e7bd1"
      },
      "outputs": [
        {
          "name": "stdout",
          "output_type": "stream",
          "text": [
            "Model: \"model_55\"\n",
            "__________________________________________________________________________________________________\n",
            " Layer (type)                Output Shape                 Param #   Connected to                  \n",
            "==================================================================================================\n",
            " input_111 (InputLayer)      [(None, 12)]                 0         []                            \n",
            "                                                                                                  \n",
            " input_112 (InputLayer)      [(None, 12)]                 0         []                            \n",
            "                                                                                                  \n",
            " dense_252 (Dense)           (None, 4)                    52        ['input_111[0][0]',           \n",
            "                                                                     'input_112[0][0]']           \n",
            "                                                                                                  \n",
            " dense_253 (Dense)           (None, 4)                    20        ['dense_252[0][0]',           \n",
            "                                                                     'dense_252[1][0]']           \n",
            "                                                                                                  \n",
            " dense_254 (Dense)           (None, 4)                    20        ['dense_253[0][0]',           \n",
            "                                                                     'dense_253[1][0]']           \n",
            "                                                                                                  \n",
            " dense_255 (Dense)           (None, 1)                    5         ['dense_254[0][0]',           \n",
            "                                                                     'dense_254[1][0]']           \n",
            "                                                                                                  \n",
            " tf.math.subtract_55 (TFOpL  (None, 1)                    0         ['dense_255[0][0]',           \n",
            " ambda)                                                              'dense_255[1][0]']           \n",
            "                                                                                                  \n",
            "==================================================================================================\n",
            "Total params: 97 (388.00 Byte)\n",
            "Trainable params: 97 (388.00 Byte)\n",
            "Non-trainable params: 0 (0.00 Byte)\n",
            "__________________________________________________________________________________________________\n"
          ]
        }
      ],
      "source": [
        "opt = tf.keras.optimizers.AdamW(learning_rate=1e-3)\n",
        "model_dec0.compile(optimizer=opt, loss = 'MSE')\n",
        "model_dec0.summary()"
      ]
    },
    {
      "cell_type": "code",
      "execution_count": null,
      "metadata": {
        "colab": {
          "base_uri": "https://localhost:8080/"
        },
        "id": "KpUS33nIavL3",
        "outputId": "28bde26f-6d65-4ae4-e7b1-eff971effab6"
      },
      "outputs": [
        {
          "name": "stdout",
          "output_type": "stream",
          "text": [
            "Epoch 1/250\n",
            "19/19 [==============================] - 1s 39ms/step - loss: 1.2506 - val_loss: 1.2608\n",
            "Epoch 2/250\n",
            "19/19 [==============================] - 0s 1ms/step - loss: 1.1881 - val_loss: 1.1966\n",
            "Epoch 3/250\n",
            "19/19 [==============================] - 0s 1ms/step - loss: 1.1317 - val_loss: 1.1409\n",
            "Epoch 4/250\n",
            "19/19 [==============================] - 0s 1ms/step - loss: 1.0825 - val_loss: 1.0906\n",
            "Epoch 5/250\n",
            "19/19 [==============================] - 0s 1ms/step - loss: 1.0377 - val_loss: 1.0458\n",
            "Epoch 6/250\n",
            "19/19 [==============================] - 0s 1ms/step - loss: 0.9968 - val_loss: 1.0048\n",
            "Epoch 7/250\n",
            "19/19 [==============================] - 0s 1ms/step - loss: 0.9599 - val_loss: 0.9668\n",
            "Epoch 8/250\n",
            "19/19 [==============================] - 0s 1ms/step - loss: 0.9255 - val_loss: 0.9321\n",
            "Epoch 9/250\n",
            "19/19 [==============================] - 0s 1ms/step - loss: 0.8936 - val_loss: 0.8998\n",
            "Epoch 10/250\n",
            "19/19 [==============================] - 0s 1ms/step - loss: 0.8635 - val_loss: 0.8697\n",
            "Epoch 11/250\n",
            "19/19 [==============================] - 0s 1ms/step - loss: 0.8353 - val_loss: 0.8412\n",
            "Epoch 12/250\n",
            "19/19 [==============================] - 0s 1ms/step - loss: 0.8086 - val_loss: 0.8142\n",
            "Epoch 13/250\n",
            "19/19 [==============================] - 0s 2ms/step - loss: 0.7833 - val_loss: 0.7886\n",
            "Epoch 14/250\n",
            "19/19 [==============================] - 0s 4ms/step - loss: 0.7591 - val_loss: 0.7645\n",
            "Epoch 15/250\n",
            "19/19 [==============================] - 0s 1ms/step - loss: 0.7363 - val_loss: 0.7413\n",
            "Epoch 16/250\n",
            "19/19 [==============================] - 0s 1ms/step - loss: 0.7142 - val_loss: 0.7192\n",
            "Epoch 17/250\n",
            "19/19 [==============================] - 0s 1ms/step - loss: 0.6932 - val_loss: 0.6978\n",
            "Epoch 18/250\n",
            "19/19 [==============================] - 0s 1ms/step - loss: 0.6728 - val_loss: 0.6775\n",
            "Epoch 19/250\n",
            "19/19 [==============================] - 0s 1ms/step - loss: 0.6533 - val_loss: 0.6579\n",
            "Epoch 20/250\n",
            "19/19 [==============================] - 0s 1ms/step - loss: 0.6346 - val_loss: 0.6391\n",
            "Epoch 21/250\n",
            "19/19 [==============================] - 0s 1ms/step - loss: 0.6166 - val_loss: 0.6210\n",
            "Epoch 22/250\n",
            "19/19 [==============================] - 0s 1ms/step - loss: 0.5992 - val_loss: 0.6035\n",
            "Epoch 23/250\n",
            "19/19 [==============================] - 0s 1ms/step - loss: 0.5824 - val_loss: 0.5867\n",
            "Epoch 24/250\n",
            "19/19 [==============================] - 0s 1ms/step - loss: 0.5661 - val_loss: 0.5704\n",
            "Epoch 25/250\n",
            "19/19 [==============================] - 0s 1ms/step - loss: 0.5504 - val_loss: 0.5547\n",
            "Epoch 26/250\n",
            "19/19 [==============================] - 0s 1ms/step - loss: 0.5353 - val_loss: 0.5395\n",
            "Epoch 27/250\n",
            "19/19 [==============================] - 0s 1ms/step - loss: 0.5206 - val_loss: 0.5248\n",
            "Epoch 28/250\n",
            "19/19 [==============================] - 0s 1ms/step - loss: 0.5064 - val_loss: 0.5106\n",
            "Epoch 29/250\n",
            "19/19 [==============================] - 0s 1ms/step - loss: 0.4926 - val_loss: 0.4969\n",
            "Epoch 30/250\n",
            "19/19 [==============================] - 0s 1ms/step - loss: 0.4793 - val_loss: 0.4836\n",
            "Epoch 31/250\n",
            "19/19 [==============================] - 0s 1ms/step - loss: 0.4664 - val_loss: 0.4707\n",
            "Epoch 32/250\n",
            "19/19 [==============================] - 0s 1ms/step - loss: 0.4538 - val_loss: 0.4582\n",
            "Epoch 33/250\n",
            "19/19 [==============================] - 0s 1ms/step - loss: 0.4417 - val_loss: 0.4460\n",
            "Epoch 34/250\n",
            "19/19 [==============================] - 0s 1ms/step - loss: 0.4299 - val_loss: 0.4343\n",
            "Epoch 35/250\n",
            "19/19 [==============================] - 0s 1ms/step - loss: 0.4185 - val_loss: 0.4229\n",
            "Epoch 36/250\n",
            "19/19 [==============================] - 0s 1ms/step - loss: 0.4074 - val_loss: 0.4118\n",
            "Epoch 37/250\n",
            "19/19 [==============================] - 0s 1ms/step - loss: 0.3967 - val_loss: 0.4011\n",
            "Epoch 38/250\n",
            "19/19 [==============================] - 0s 1ms/step - loss: 0.3862 - val_loss: 0.3907\n",
            "Epoch 39/250\n",
            "19/19 [==============================] - 0s 2ms/step - loss: 0.3761 - val_loss: 0.3806\n",
            "Epoch 40/250\n",
            "19/19 [==============================] - 0s 2ms/step - loss: 0.3663 - val_loss: 0.3708\n",
            "Epoch 41/250\n",
            "19/19 [==============================] - 0s 1ms/step - loss: 0.3567 - val_loss: 0.3613\n",
            "Epoch 42/250\n",
            "19/19 [==============================] - 0s 1ms/step - loss: 0.3474 - val_loss: 0.3521\n",
            "Epoch 43/250\n",
            "19/19 [==============================] - 0s 1ms/step - loss: 0.3384 - val_loss: 0.3431\n",
            "Epoch 44/250\n",
            "19/19 [==============================] - 0s 1ms/step - loss: 0.3297 - val_loss: 0.3344\n",
            "Epoch 45/250\n",
            "19/19 [==============================] - 0s 1ms/step - loss: 0.3212 - val_loss: 0.3259\n",
            "Epoch 46/250\n",
            "19/19 [==============================] - 0s 1ms/step - loss: 0.3129 - val_loss: 0.3177\n",
            "Epoch 47/250\n",
            "19/19 [==============================] - 0s 1ms/step - loss: 0.3049 - val_loss: 0.3097\n",
            "Epoch 48/250\n",
            "19/19 [==============================] - 0s 1ms/step - loss: 0.2971 - val_loss: 0.3020\n",
            "Epoch 49/250\n",
            "19/19 [==============================] - 0s 1ms/step - loss: 0.2895 - val_loss: 0.2945\n",
            "Epoch 50/250\n",
            "19/19 [==============================] - 0s 2ms/step - loss: 0.2821 - val_loss: 0.2872\n",
            "Epoch 51/250\n",
            "19/19 [==============================] - 0s 1ms/step - loss: 0.2750 - val_loss: 0.2801\n",
            "Epoch 52/250\n",
            "19/19 [==============================] - 0s 1ms/step - loss: 0.2681 - val_loss: 0.2732\n",
            "Epoch 53/250\n",
            "19/19 [==============================] - 0s 1ms/step - loss: 0.2613 - val_loss: 0.2665\n",
            "Epoch 54/250\n",
            "19/19 [==============================] - 0s 1ms/step - loss: 0.2548 - val_loss: 0.2599\n",
            "Epoch 55/250\n",
            "19/19 [==============================] - 0s 1ms/step - loss: 0.2484 - val_loss: 0.2536\n",
            "Epoch 56/250\n",
            "19/19 [==============================] - 0s 1ms/step - loss: 0.2422 - val_loss: 0.2475\n",
            "Epoch 57/250\n",
            "19/19 [==============================] - 0s 1ms/step - loss: 0.2362 - val_loss: 0.2415\n",
            "Epoch 58/250\n",
            "19/19 [==============================] - 0s 1ms/step - loss: 0.2303 - val_loss: 0.2357\n",
            "Epoch 59/250\n",
            "19/19 [==============================] - 0s 1ms/step - loss: 0.2246 - val_loss: 0.2300\n",
            "Epoch 60/250\n",
            "19/19 [==============================] - 0s 1ms/step - loss: 0.2191 - val_loss: 0.2246\n",
            "Epoch 61/250\n",
            "19/19 [==============================] - 0s 1ms/step - loss: 0.2137 - val_loss: 0.2192\n",
            "Epoch 62/250\n",
            "19/19 [==============================] - 0s 1ms/step - loss: 0.2085 - val_loss: 0.2141\n",
            "Epoch 63/250\n",
            "19/19 [==============================] - 0s 1ms/step - loss: 0.2035 - val_loss: 0.2090\n",
            "Epoch 64/250\n",
            "19/19 [==============================] - 0s 1ms/step - loss: 0.1985 - val_loss: 0.2042\n",
            "Epoch 65/250\n",
            "19/19 [==============================] - 0s 1ms/step - loss: 0.1937 - val_loss: 0.1994\n",
            "Epoch 66/250\n",
            "19/19 [==============================] - 0s 1ms/step - loss: 0.1891 - val_loss: 0.1948\n",
            "Epoch 67/250\n",
            "19/19 [==============================] - 0s 1ms/step - loss: 0.1846 - val_loss: 0.1903\n",
            "Epoch 68/250\n",
            "19/19 [==============================] - 0s 1ms/step - loss: 0.1802 - val_loss: 0.1859\n",
            "Epoch 69/250\n",
            "19/19 [==============================] - 0s 2ms/step - loss: 0.1759 - val_loss: 0.1817\n",
            "Epoch 70/250\n",
            "19/19 [==============================] - 0s 1ms/step - loss: 0.1718 - val_loss: 0.1776\n",
            "Epoch 71/250\n",
            "19/19 [==============================] - 0s 1ms/step - loss: 0.1677 - val_loss: 0.1736\n",
            "Epoch 72/250\n",
            "19/19 [==============================] - 0s 1ms/step - loss: 0.1638 - val_loss: 0.1697\n",
            "Epoch 73/250\n",
            "19/19 [==============================] - 0s 1ms/step - loss: 0.1600 - val_loss: 0.1660\n",
            "Epoch 74/250\n",
            "19/19 [==============================] - 0s 1ms/step - loss: 0.1563 - val_loss: 0.1623\n",
            "Epoch 75/250\n",
            "19/19 [==============================] - 0s 1ms/step - loss: 0.1527 - val_loss: 0.1587\n",
            "Epoch 76/250\n",
            "19/19 [==============================] - 0s 1ms/step - loss: 0.1492 - val_loss: 0.1551\n",
            "Epoch 77/250\n",
            "19/19 [==============================] - 0s 1ms/step - loss: 0.1454 - val_loss: 0.1512\n",
            "Epoch 78/250\n",
            "19/19 [==============================] - 0s 1ms/step - loss: 0.1419 - val_loss: 0.1477\n",
            "Epoch 79/250\n",
            "19/19 [==============================] - 0s 1ms/step - loss: 0.1386 - val_loss: 0.1446\n",
            "Epoch 80/250\n",
            "19/19 [==============================] - 0s 1ms/step - loss: 0.1356 - val_loss: 0.1416\n",
            "Epoch 81/250\n",
            "19/19 [==============================] - 0s 1ms/step - loss: 0.1326 - val_loss: 0.1387\n",
            "Epoch 82/250\n",
            "19/19 [==============================] - 0s 1ms/step - loss: 0.1298 - val_loss: 0.1359\n",
            "Epoch 83/250\n",
            "19/19 [==============================] - 0s 1ms/step - loss: 0.1270 - val_loss: 0.1331\n",
            "Epoch 84/250\n",
            "19/19 [==============================] - 0s 1ms/step - loss: 0.1243 - val_loss: 0.1305\n",
            "Epoch 85/250\n",
            "19/19 [==============================] - 0s 3ms/step - loss: 0.1217 - val_loss: 0.1279\n",
            "Epoch 86/250\n",
            "19/19 [==============================] - 0s 1ms/step - loss: 0.1192 - val_loss: 0.1254\n",
            "Epoch 87/250\n",
            "19/19 [==============================] - 0s 1ms/step - loss: 0.1168 - val_loss: 0.1230\n",
            "Epoch 88/250\n",
            "19/19 [==============================] - 0s 1ms/step - loss: 0.1144 - val_loss: 0.1206\n",
            "Epoch 89/250\n",
            "19/19 [==============================] - 0s 1ms/step - loss: 0.1120 - val_loss: 0.1183\n",
            "Epoch 90/250\n",
            "19/19 [==============================] - 0s 1ms/step - loss: 0.1098 - val_loss: 0.1161\n",
            "Epoch 91/250\n",
            "19/19 [==============================] - 0s 1ms/step - loss: 0.1076 - val_loss: 0.1140\n",
            "Epoch 92/250\n",
            "19/19 [==============================] - 0s 1ms/step - loss: 0.1055 - val_loss: 0.1119\n",
            "Epoch 93/250\n",
            "19/19 [==============================] - 0s 1ms/step - loss: 0.1034 - val_loss: 0.1098\n",
            "Epoch 94/250\n",
            "19/19 [==============================] - 0s 2ms/step - loss: 0.1014 - val_loss: 0.1078\n",
            "Epoch 95/250\n",
            "19/19 [==============================] - 0s 1ms/step - loss: 0.0994 - val_loss: 0.1059\n",
            "Epoch 96/250\n",
            "19/19 [==============================] - 0s 1ms/step - loss: 0.0975 - val_loss: 0.1040\n",
            "Epoch 97/250\n",
            "19/19 [==============================] - 0s 1ms/step - loss: 0.0957 - val_loss: 0.1022\n",
            "Epoch 98/250\n",
            "19/19 [==============================] - 0s 1ms/step - loss: 0.0939 - val_loss: 0.1005\n",
            "Epoch 99/250\n",
            "19/19 [==============================] - 0s 1ms/step - loss: 0.0922 - val_loss: 0.0987\n",
            "Epoch 100/250\n",
            "19/19 [==============================] - 0s 1ms/step - loss: 0.0905 - val_loss: 0.0971\n",
            "Epoch 101/250\n",
            "19/19 [==============================] - 0s 1ms/step - loss: 0.0888 - val_loss: 0.0955\n",
            "Epoch 102/250\n",
            "19/19 [==============================] - 0s 1ms/step - loss: 0.0872 - val_loss: 0.0939\n",
            "Epoch 103/250\n",
            "19/19 [==============================] - 0s 2ms/step - loss: 0.0857 - val_loss: 0.0924\n",
            "Epoch 104/250\n",
            "19/19 [==============================] - 0s 1ms/step - loss: 0.0842 - val_loss: 0.0909\n",
            "Epoch 105/250\n",
            "19/19 [==============================] - 0s 1ms/step - loss: 0.0827 - val_loss: 0.0895\n",
            "Epoch 106/250\n",
            "19/19 [==============================] - 0s 1ms/step - loss: 0.0813 - val_loss: 0.0881\n",
            "Epoch 107/250\n",
            "19/19 [==============================] - 0s 1ms/step - loss: 0.0799 - val_loss: 0.0867\n",
            "Epoch 108/250\n",
            "19/19 [==============================] - 0s 1ms/step - loss: 0.0786 - val_loss: 0.0854\n",
            "Epoch 109/250\n",
            "19/19 [==============================] - 0s 1ms/step - loss: 0.0773 - val_loss: 0.0841\n",
            "Epoch 110/250\n",
            "19/19 [==============================] - 0s 1ms/step - loss: 0.0760 - val_loss: 0.0829\n",
            "Epoch 111/250\n",
            "19/19 [==============================] - 0s 1ms/step - loss: 0.0748 - val_loss: 0.0817\n",
            "Epoch 112/250\n",
            "19/19 [==============================] - 0s 1ms/step - loss: 0.0736 - val_loss: 0.0805\n",
            "Epoch 113/250\n",
            "19/19 [==============================] - 0s 1ms/step - loss: 0.0725 - val_loss: 0.0794\n",
            "Epoch 114/250\n",
            "19/19 [==============================] - 0s 1ms/step - loss: 0.0714 - val_loss: 0.0783\n",
            "Epoch 115/250\n",
            "19/19 [==============================] - 0s 1ms/step - loss: 0.0703 - val_loss: 0.0772\n",
            "Epoch 116/250\n",
            "19/19 [==============================] - 0s 1ms/step - loss: 0.0693 - val_loss: 0.0762\n",
            "Epoch 117/250\n",
            "19/19 [==============================] - 0s 1ms/step - loss: 0.0682 - val_loss: 0.0752\n",
            "Epoch 118/250\n",
            "19/19 [==============================] - 0s 1ms/step - loss: 0.0673 - val_loss: 0.0743\n",
            "Epoch 119/250\n",
            "19/19 [==============================] - 0s 1ms/step - loss: 0.0663 - val_loss: 0.0733\n",
            "Epoch 120/250\n",
            "19/19 [==============================] - 0s 1ms/step - loss: 0.0654 - val_loss: 0.0724\n",
            "Epoch 121/250\n",
            "19/19 [==============================] - 0s 1ms/step - loss: 0.0645 - val_loss: 0.0715\n",
            "Epoch 122/250\n",
            "19/19 [==============================] - 0s 2ms/step - loss: 0.0636 - val_loss: 0.0707\n",
            "Epoch 123/250\n",
            "19/19 [==============================] - 0s 1ms/step - loss: 0.0628 - val_loss: 0.0699\n",
            "Epoch 124/250\n",
            "19/19 [==============================] - 0s 1ms/step - loss: 0.0620 - val_loss: 0.0691\n",
            "Epoch 125/250\n",
            "19/19 [==============================] - 0s 1ms/step - loss: 0.0612 - val_loss: 0.0683\n",
            "Epoch 126/250\n",
            "19/19 [==============================] - 0s 1ms/step - loss: 0.0604 - val_loss: 0.0675\n",
            "Epoch 127/250\n",
            "19/19 [==============================] - 0s 1ms/step - loss: 0.0597 - val_loss: 0.0668\n",
            "Epoch 128/250\n",
            "19/19 [==============================] - 0s 1ms/step - loss: 0.0590 - val_loss: 0.0661\n",
            "Epoch 129/250\n",
            "19/19 [==============================] - 0s 1ms/step - loss: 0.0583 - val_loss: 0.0655\n",
            "Epoch 130/250\n",
            "19/19 [==============================] - 0s 1ms/step - loss: 0.0577 - val_loss: 0.0648\n",
            "Epoch 131/250\n",
            "19/19 [==============================] - 0s 1ms/step - loss: 0.0570 - val_loss: 0.0642\n",
            "Epoch 132/250\n",
            "19/19 [==============================] - 0s 1ms/step - loss: 0.0564 - val_loss: 0.0636\n",
            "Epoch 133/250\n",
            "19/19 [==============================] - 0s 1000us/step - loss: 0.0558 - val_loss: 0.0630\n",
            "Epoch 134/250\n",
            "19/19 [==============================] - 0s 1ms/step - loss: 0.0552 - val_loss: 0.0624\n",
            "Epoch 135/250\n",
            "19/19 [==============================] - 0s 1ms/step - loss: 0.0547 - val_loss: 0.0619\n",
            "Epoch 136/250\n",
            "19/19 [==============================] - 0s 1ms/step - loss: 0.0541 - val_loss: 0.0613\n",
            "Epoch 137/250\n",
            "19/19 [==============================] - 0s 1ms/step - loss: 0.0536 - val_loss: 0.0608\n",
            "Epoch 138/250\n",
            "19/19 [==============================] - 0s 1ms/step - loss: 0.0531 - val_loss: 0.0603\n",
            "Epoch 139/250\n",
            "19/19 [==============================] - 0s 1ms/step - loss: 0.0526 - val_loss: 0.0599\n",
            "Epoch 140/250\n",
            "19/19 [==============================] - 0s 1ms/step - loss: 0.0522 - val_loss: 0.0594\n",
            "Epoch 141/250\n",
            "19/19 [==============================] - 0s 1ms/step - loss: 0.0517 - val_loss: 0.0590\n",
            "Epoch 142/250\n",
            "19/19 [==============================] - 0s 1ms/step - loss: 0.0513 - val_loss: 0.0585\n",
            "Epoch 143/250\n",
            "19/19 [==============================] - 0s 1ms/step - loss: 0.0509 - val_loss: 0.0581\n",
            "Epoch 144/250\n",
            "19/19 [==============================] - 0s 1ms/step - loss: 0.0505 - val_loss: 0.0577\n",
            "Epoch 145/250\n",
            "19/19 [==============================] - 0s 1ms/step - loss: 0.0501 - val_loss: 0.0573\n",
            "Epoch 146/250\n",
            "19/19 [==============================] - 0s 2ms/step - loss: 0.0497 - val_loss: 0.0570\n",
            "Epoch 147/250\n",
            "19/19 [==============================] - 0s 1ms/step - loss: 0.0493 - val_loss: 0.0566\n",
            "Epoch 148/250\n",
            "19/19 [==============================] - 0s 1ms/step - loss: 0.0490 - val_loss: 0.0563\n",
            "Epoch 149/250\n",
            "19/19 [==============================] - 0s 1ms/step - loss: 0.0486 - val_loss: 0.0559\n",
            "Epoch 150/250\n",
            "19/19 [==============================] - 0s 3ms/step - loss: 0.0483 - val_loss: 0.0556\n",
            "Epoch 151/250\n",
            "19/19 [==============================] - 0s 1ms/step - loss: 0.0480 - val_loss: 0.0553\n",
            "Epoch 152/250\n",
            "19/19 [==============================] - 0s 1ms/step - loss: 0.0477 - val_loss: 0.0550\n",
            "Epoch 153/250\n",
            "19/19 [==============================] - 0s 2ms/step - loss: 0.0474 - val_loss: 0.0547\n",
            "Epoch 154/250\n",
            "19/19 [==============================] - 0s 1ms/step - loss: 0.0471 - val_loss: 0.0545\n",
            "Epoch 155/250\n",
            "19/19 [==============================] - 0s 1ms/step - loss: 0.0469 - val_loss: 0.0542\n",
            "Epoch 156/250\n",
            "19/19 [==============================] - 0s 1ms/step - loss: 0.0466 - val_loss: 0.0539\n",
            "Epoch 157/250\n",
            "19/19 [==============================] - 0s 1ms/step - loss: 0.0464 - val_loss: 0.0537\n",
            "Epoch 158/250\n",
            "19/19 [==============================] - 0s 2ms/step - loss: 0.0461 - val_loss: 0.0535\n",
            "Epoch 159/250\n",
            "19/19 [==============================] - 0s 1ms/step - loss: 0.0459 - val_loss: 0.0532\n",
            "Epoch 160/250\n",
            "19/19 [==============================] - 0s 1ms/step - loss: 0.0457 - val_loss: 0.0530\n",
            "Epoch 161/250\n",
            "19/19 [==============================] - 0s 2ms/step - loss: 0.0454 - val_loss: 0.0528\n",
            "Epoch 162/250\n",
            "19/19 [==============================] - 0s 1ms/step - loss: 0.0452 - val_loss: 0.0526\n",
            "Epoch 163/250\n",
            "19/19 [==============================] - 0s 2ms/step - loss: 0.0450 - val_loss: 0.0524\n",
            "Epoch 164/250\n",
            "19/19 [==============================] - 0s 2ms/step - loss: 0.0449 - val_loss: 0.0522\n",
            "Epoch 165/250\n",
            "19/19 [==============================] - 0s 1ms/step - loss: 0.0447 - val_loss: 0.0520\n",
            "Epoch 166/250\n",
            "19/19 [==============================] - 0s 1ms/step - loss: 0.0445 - val_loss: 0.0519\n",
            "Epoch 167/250\n",
            "19/19 [==============================] - 0s 1ms/step - loss: 0.0443 - val_loss: 0.0517\n",
            "Epoch 168/250\n",
            "19/19 [==============================] - 0s 2ms/step - loss: 0.0442 - val_loss: 0.0515\n",
            "Epoch 169/250\n",
            "19/19 [==============================] - 0s 1ms/step - loss: 0.0440 - val_loss: 0.0514\n",
            "Epoch 170/250\n",
            "19/19 [==============================] - 0s 1ms/step - loss: 0.0439 - val_loss: 0.0512\n",
            "Epoch 171/250\n",
            "19/19 [==============================] - 0s 1ms/step - loss: 0.0437 - val_loss: 0.0511\n",
            "Epoch 172/250\n",
            "19/19 [==============================] - 0s 1ms/step - loss: 0.0436 - val_loss: 0.0510\n",
            "Epoch 173/250\n",
            "19/19 [==============================] - 0s 1ms/step - loss: 0.0434 - val_loss: 0.0508\n",
            "Epoch 174/250\n",
            "19/19 [==============================] - 0s 1ms/step - loss: 0.0433 - val_loss: 0.0507\n",
            "Epoch 175/250\n",
            "19/19 [==============================] - 0s 1ms/step - loss: 0.0432 - val_loss: 0.0506\n",
            "Epoch 176/250\n",
            "19/19 [==============================] - 0s 1ms/step - loss: 0.0431 - val_loss: 0.0505\n",
            "Epoch 177/250\n",
            "19/19 [==============================] - 0s 1ms/step - loss: 0.0429 - val_loss: 0.0504\n",
            "Epoch 178/250\n",
            "19/19 [==============================] - 0s 1ms/step - loss: 0.0428 - val_loss: 0.0502\n",
            "Epoch 179/250\n",
            "19/19 [==============================] - 0s 1ms/step - loss: 0.0427 - val_loss: 0.0501\n",
            "Epoch 180/250\n",
            "19/19 [==============================] - 0s 1ms/step - loss: 0.0426 - val_loss: 0.0500\n",
            "Epoch 181/250\n",
            "19/19 [==============================] - 0s 2ms/step - loss: 0.0425 - val_loss: 0.0499\n",
            "Epoch 182/250\n",
            "19/19 [==============================] - 0s 1ms/step - loss: 0.0424 - val_loss: 0.0499\n",
            "Epoch 183/250\n",
            "19/19 [==============================] - 0s 1ms/step - loss: 0.0424 - val_loss: 0.0498\n",
            "Epoch 184/250\n",
            "19/19 [==============================] - 0s 1ms/step - loss: 0.0423 - val_loss: 0.0497\n",
            "Epoch 185/250\n",
            "19/19 [==============================] - 0s 2ms/step - loss: 0.0422 - val_loss: 0.0496\n",
            "Epoch 186/250\n",
            "19/19 [==============================] - 0s 1ms/step - loss: 0.0421 - val_loss: 0.0495\n",
            "Epoch 187/250\n",
            "19/19 [==============================] - 0s 1ms/step - loss: 0.0420 - val_loss: 0.0495\n",
            "Epoch 188/250\n",
            "19/19 [==============================] - 0s 1ms/step - loss: 0.0420 - val_loss: 0.0494\n",
            "Epoch 189/250\n",
            "19/19 [==============================] - 0s 1ms/step - loss: 0.0419 - val_loss: 0.0493\n",
            "Epoch 190/250\n",
            "19/19 [==============================] - 0s 3ms/step - loss: 0.0418 - val_loss: 0.0492\n",
            "Epoch 191/250\n",
            "19/19 [==============================] - 0s 1ms/step - loss: 0.0418 - val_loss: 0.0492\n",
            "Epoch 192/250\n",
            "19/19 [==============================] - 0s 1ms/step - loss: 0.0417 - val_loss: 0.0491\n",
            "Epoch 193/250\n",
            "19/19 [==============================] - 0s 1ms/step - loss: 0.0416 - val_loss: 0.0491\n",
            "Epoch 194/250\n",
            "19/19 [==============================] - 0s 1ms/step - loss: 0.0416 - val_loss: 0.0490\n",
            "Epoch 195/250\n",
            "19/19 [==============================] - 0s 2ms/step - loss: 0.0415 - val_loss: 0.0490\n",
            "Epoch 196/250\n",
            "19/19 [==============================] - 0s 2ms/step - loss: 0.0415 - val_loss: 0.0489\n",
            "Epoch 197/250\n",
            "19/19 [==============================] - 0s 2ms/step - loss: 0.0414 - val_loss: 0.0489\n",
            "Epoch 198/250\n",
            "19/19 [==============================] - 0s 2ms/step - loss: 0.0414 - val_loss: 0.0488\n",
            "Epoch 199/250\n",
            "19/19 [==============================] - 0s 1ms/step - loss: 0.0413 - val_loss: 0.0488\n",
            "Epoch 200/250\n",
            "19/19 [==============================] - 0s 2ms/step - loss: 0.0413 - val_loss: 0.0487\n",
            "Epoch 201/250\n",
            "19/19 [==============================] - 0s 1ms/step - loss: 0.0413 - val_loss: 0.0487\n",
            "Epoch 202/250\n",
            "19/19 [==============================] - 0s 1ms/step - loss: 0.0412 - val_loss: 0.0487\n",
            "Epoch 203/250\n",
            "19/19 [==============================] - 0s 1ms/step - loss: 0.0412 - val_loss: 0.0486\n",
            "Epoch 204/250\n",
            "19/19 [==============================] - 0s 1ms/step - loss: 0.0411 - val_loss: 0.0486\n",
            "Epoch 205/250\n",
            "19/19 [==============================] - 0s 1ms/step - loss: 0.0411 - val_loss: 0.0485\n",
            "Epoch 206/250\n",
            "19/19 [==============================] - 0s 1ms/step - loss: 0.0411 - val_loss: 0.0485\n",
            "Epoch 207/250\n",
            "19/19 [==============================] - 0s 2ms/step - loss: 0.0410 - val_loss: 0.0485\n",
            "Epoch 208/250\n",
            "19/19 [==============================] - 0s 1ms/step - loss: 0.0410 - val_loss: 0.0485\n",
            "Epoch 209/250\n",
            "19/19 [==============================] - 0s 1ms/step - loss: 0.0410 - val_loss: 0.0484\n",
            "Epoch 210/250\n",
            "19/19 [==============================] - 0s 1ms/step - loss: 0.0410 - val_loss: 0.0484\n",
            "Epoch 211/250\n",
            "19/19 [==============================] - 0s 1ms/step - loss: 0.0409 - val_loss: 0.0484\n",
            "Epoch 212/250\n",
            "19/19 [==============================] - 0s 1ms/step - loss: 0.0409 - val_loss: 0.0484\n",
            "Epoch 213/250\n",
            "19/19 [==============================] - 0s 1ms/step - loss: 0.0409 - val_loss: 0.0483\n",
            "Epoch 214/250\n",
            "19/19 [==============================] - 0s 2ms/step - loss: 0.0409 - val_loss: 0.0483\n",
            "Epoch 215/250\n",
            "19/19 [==============================] - 0s 1ms/step - loss: 0.0408 - val_loss: 0.0483\n",
            "Epoch 216/250\n",
            "19/19 [==============================] - 0s 1ms/step - loss: 0.0408 - val_loss: 0.0483\n",
            "Epoch 217/250\n",
            "19/19 [==============================] - 0s 1ms/step - loss: 0.0408 - val_loss: 0.0482\n",
            "Epoch 218/250\n",
            "19/19 [==============================] - 0s 1ms/step - loss: 0.0408 - val_loss: 0.0482\n",
            "Epoch 219/250\n",
            "19/19 [==============================] - 0s 3ms/step - loss: 0.0408 - val_loss: 0.0482\n",
            "Epoch 220/250\n",
            "19/19 [==============================] - 0s 1ms/step - loss: 0.0408 - val_loss: 0.0482\n",
            "Epoch 221/250\n",
            "19/19 [==============================] - 0s 1ms/step - loss: 0.0407 - val_loss: 0.0482\n",
            "Epoch 222/250\n",
            "19/19 [==============================] - 0s 2ms/step - loss: 0.0407 - val_loss: 0.0482\n",
            "Epoch 223/250\n",
            "19/19 [==============================] - 0s 1ms/step - loss: 0.0407 - val_loss: 0.0482\n",
            "Epoch 224/250\n",
            "19/19 [==============================] - 0s 1ms/step - loss: 0.0407 - val_loss: 0.0481\n",
            "Epoch 225/250\n",
            "19/19 [==============================] - 0s 1ms/step - loss: 0.0407 - val_loss: 0.0481\n",
            "Epoch 226/250\n",
            "19/19 [==============================] - 0s 1ms/step - loss: 0.0407 - val_loss: 0.0481\n",
            "Epoch 227/250\n",
            "19/19 [==============================] - 0s 1ms/step - loss: 0.0407 - val_loss: 0.0481\n",
            "Epoch 228/250\n",
            "19/19 [==============================] - 0s 1ms/step - loss: 0.0406 - val_loss: 0.0481\n",
            "Epoch 229/250\n",
            "19/19 [==============================] - 0s 1ms/step - loss: 0.0406 - val_loss: 0.0481\n",
            "Epoch 230/250\n",
            "19/19 [==============================] - 0s 1ms/step - loss: 0.0406 - val_loss: 0.0481\n",
            "Epoch 231/250\n",
            "19/19 [==============================] - 0s 1ms/step - loss: 0.0406 - val_loss: 0.0481\n",
            "Epoch 232/250\n",
            "19/19 [==============================] - 0s 1ms/step - loss: 0.0406 - val_loss: 0.0481\n",
            "Epoch 233/250\n",
            "19/19 [==============================] - 0s 1ms/step - loss: 0.0406 - val_loss: 0.0481\n",
            "Epoch 234/250\n",
            "19/19 [==============================] - 0s 1ms/step - loss: 0.0406 - val_loss: 0.0480\n",
            "Epoch 235/250\n",
            "19/19 [==============================] - 0s 1ms/step - loss: 0.0406 - val_loss: 0.0480\n",
            "Epoch 236/250\n",
            "19/19 [==============================] - 0s 1ms/step - loss: 0.0406 - val_loss: 0.0480\n",
            "Epoch 237/250\n",
            "19/19 [==============================] - 0s 1ms/step - loss: 0.0406 - val_loss: 0.0480\n",
            "Epoch 238/250\n",
            "19/19 [==============================] - 0s 1ms/step - loss: 0.0406 - val_loss: 0.0480\n",
            "Epoch 239/250\n",
            "19/19 [==============================] - 0s 1ms/step - loss: 0.0406 - val_loss: 0.0480\n",
            "Epoch 240/250\n",
            "19/19 [==============================] - 0s 1ms/step - loss: 0.0406 - val_loss: 0.0480\n",
            "Epoch 241/250\n",
            "19/19 [==============================] - 0s 1ms/step - loss: 0.0406 - val_loss: 0.0480\n",
            "Epoch 242/250\n",
            "19/19 [==============================] - 0s 1ms/step - loss: 0.0405 - val_loss: 0.0480\n",
            "Epoch 243/250\n",
            "19/19 [==============================] - 0s 1ms/step - loss: 0.0405 - val_loss: 0.0480\n",
            "Epoch 244/250\n",
            "19/19 [==============================] - 0s 1ms/step - loss: 0.0405 - val_loss: 0.0480\n",
            "Epoch 245/250\n",
            "19/19 [==============================] - 0s 1ms/step - loss: 0.0405 - val_loss: 0.0480\n",
            "Epoch 246/250\n",
            "19/19 [==============================] - 0s 1ms/step - loss: 0.0405 - val_loss: 0.0480\n",
            "Epoch 247/250\n",
            "19/19 [==============================] - 0s 1ms/step - loss: 0.0405 - val_loss: 0.0480\n",
            "Epoch 248/250\n",
            "19/19 [==============================] - 0s 1ms/step - loss: 0.0405 - val_loss: 0.0480\n",
            "Epoch 249/250\n",
            "19/19 [==============================] - 0s 1ms/step - loss: 0.0405 - val_loss: 0.0480\n",
            "Epoch 250/250\n",
            "19/19 [==============================] - 0s 1ms/step - loss: 0.0405 - val_loss: 0.0480\n"
          ]
        }
      ],
      "source": [
        "history_dec0 = model_dec0.fit(x=[M_Train_dec0[:,:,0], M_Train_dec0[:,:,1]], y=REF_train_dec0, validation_data=([M_Val_dec0[:,:,0],M_Val_dec0[:,:,1]],REF_val_dec0),epochs=250, batch_size=32,shuffle=True,verbose=1)"
      ]
    },
    {
      "cell_type": "code",
      "execution_count": null,
      "metadata": {
        "colab": {
          "base_uri": "https://localhost:8080/"
        },
        "id": "pV-mcoxzmXUk",
        "outputId": "992060df-a19f-4e24-d7ca-9f3012db5aaf"
      },
      "outputs": [
        {
          "data": {
            "image/png": "[encoded data removed]",
            "text/plain": [
              "<Figure size 600x400 with 1 Axes>"
            ]
          },
          "metadata": {},
          "output_type": "display_data"
        }
      ],
      "source": [
        "plt.figure(figsize=(6,4))\n",
        "plt.plot(history_dec0.history['loss'])\n",
        "plt.plot(history_dec0.history['val_loss'])\n",
        "plt.title('model loss')\n",
        "plt.ylabel('loss')\n",
        "plt.xlabel('epoch')\n",
        "plt.legend(['train', 'val'], loc='upper right')\n",
        "plt.show()"
      ]
    },
    {
      "cell_type": "code",
      "execution_count": null,
      "metadata": {
        "colab": {
          "base_uri": "https://localhost:8080/"
        },
        "id": "V8vbyTVcmXya",
        "outputId": "a9527ebf-ec38-4335-82d3-9735d4712153"
      },
      "outputs": [
        {
          "name": "stdout",
          "output_type": "stream",
          "text": [
            "5/5 [==============================] - 0s 916us/step\n",
            "-3.8079624e-09\n",
            "9.593204e-08\n"
          ]
        }
      ],
      "source": [
        "TOFN_dec0 = model_dec0.predict([M_Val_dec0[:,:,0],M_Val_dec0[:,:,1]])\n",
        "\n",
        "print(np.mean(TOFN_dec0))\n",
        "print(np.std(TOFN_dec0))"
      ]
    },
    {
      "cell_type": "code",
      "execution_count": null,
      "metadata": {
        "colab": {
          "base_uri": "https://localhost:8080/"
        },
        "id": "BQO4p7nQjVB-",
        "outputId": "3fca8bc6-c3fd-48d2-e075-4223eb315ff7"
      },
      "outputs": [
        {
          "name": "stdout",
          "output_type": "stream",
          "text": [
            "9/9 [==============================] - 0s 417us/step\n",
            "6.7812536e-08\n",
            "1.6362453e-08\n"
          ]
        }
      ],
      "source": [
        "t_shift = 8\n",
        "V55_fraction_dec0 = np.zeros_like(V55_fraction)\n",
        "\n",
        "for i in range(new_V55.shape[0]):\n",
        "  noise_V55 = np.random.normal(scale=1e-3, size=t_shift)\n",
        "  V55_fraction_dec0[i,:,0] = V55_fraction[i,:,0]\n",
        "  V55_fraction_dec0[i,:,1] = np.roll(V55_fraction[i,:,0], t_shift)\n",
        "  V55_fraction_dec0[i,0:t_shift,1] = noise_V55\n",
        "\n",
        "M_V55_dec0 = momentos(V55_fraction_dec0)\n",
        "M_V55_dec0_norm = (M_V55_dec0 - min_dec0)/(max_dec0-min_dec0)\n",
        "TOFN_dec0_V55 = model_dec0.predict([M_V55_dec0_norm[:,:,0],M_V55_dec0_norm[:,:,1]])\n",
        "\n",
        "print(np.mean(TOFN_dec0_V55))\n",
        "print(np.std(TOFN_dec0_V55))"
      ]
    },
    {
      "cell_type": "code",
      "execution_count": null,
      "metadata": {
        "colab": {
          "base_uri": "https://localhost:8080/"
        },
        "id": "c4UrQDvGmofu",
        "outputId": "ba3b2f2f-edda-4ff3-9844-1b975c68d7a1"
      },
      "outputs": [
        {
          "name": "stdout",
          "output_type": "stream",
          "text": [
            "CENTROID=  0.0007843137136660516\n",
            "SIGMA =  0.0\n",
            "FWHM (ns)=  0.0\n"
          ]
        },
        {
          "name": "stderr",
          "output_type": "stream",
          "text": [
            "/tmp/ipykernel_2518645/1054039308.py:4: RuntimeWarning: divide by zero encountered in divide\n",
            "  return H + A * np.exp(-(x - x0) ** 2 / (2 * sigma ** 2))\n",
            "/tmp/ipykernel_2518645/1054039308.py:4: RuntimeWarning: invalid value encountered in divide\n",
            "  return H + A * np.exp(-(x - x0) ** 2 / (2 * sigma ** 2))\n"
          ]
        },
        {
          "data": {
            "text/plain": [
              "Text(0.5, 0, 'Tiempo (ns)')"
            ]
          },
          "execution_count": 358,
          "metadata": {},
          "output_type": "execute_result"
        },
        {
          "data": {
            "image/png": "[encoded data removed]",
            "text/plain": [
              "<Figure size 600x600 with 1 Axes>"
            ]
          },
          "metadata": {},
          "output_type": "display_data"
        }
      ],
      "source": [
        "plt.figure(figsize=(6,6))\n",
        "nbins=510\n",
        "histogN, binsN, patchesN  = plt.hist(TOFN_dec0_V55,bins=nbins,range=[-0.4,0.4],alpha=0.5);\n",
        "cbinsN = 0.5*(binsN[1:]+binsN[0:-1])\n",
        "\n",
        "\n",
        "\n",
        "HN, AN, x0N, sigmaN = gauss_fit(cbinsN, histogN)\n",
        "FWHMN = 2.35482 * sigmaN\n",
        "plt.plot(cbinsN,gauss(cbinsN, HN, AN, x0N, sigmaN),'r-')\n",
        "print(\"CENTROID= \",x0N)\n",
        "print(\"SIGMA = \",sigmaN)\n",
        "print(\"FWHM (ns)= \",FWHMN)\n",
        "\n",
        "\n",
        "plt.xlabel('Tiempo (ns)')"
      ]
    },
    {
      "cell_type": "markdown",
      "metadata": {
        "id": "HIaEMP4vxdsM"
      },
      "source": [
        "# **DETECTOR 1**"
      ]
    },
    {
      "cell_type": "markdown",
      "metadata": {
        "id": "wYytZTYDxdsN"
      },
      "source": [
        "## DATA CREATION\n"
      ]
    },
    {
      "cell_type": "code",
      "execution_count": null,
      "metadata": {
        "id": "IFDVeD8oxdsQ"
      },
      "outputs": [],
      "source": [
        "INPUT2_dec1 = np.zeros_like(INPUT)\n",
        "REF_dec1 = np.zeros((Ncasos,),dtype=np.float32)\n",
        "\n",
        "NRD0 = np.random.randint(20, size=Ncasos)\n",
        "NRD1 = np.random.randint(20, size=Ncasos)\n",
        "\n",
        "for i in range(Ncasos):\n",
        "  N0 = NRD0[i]\n",
        "  noise0 = np.random.normal(scale=1e-3, size=N0)\n",
        "  noise00 = np.random.normal(scale=0.01, size=INPUT.shape[1])\n",
        "  smoothed_noise = gaussian_filter1d(noise00, sigma=10)\n",
        "  INPUT2_dec1[i,:,0]=np.roll(INPUT[i,:,1],N0)\n",
        "  INPUT2_dec1[i,:,0] = INPUT2_dec1[i,:,0] + smoothed_noise\n",
        "  INPUT2_dec1[i,0:N0,0] = INPUT[i,0:N0,1] + noise0\n",
        "\n",
        "  N1 = NRD1[i]\n",
        "  noise1 = np.random.normal(scale=1e-3, size=N1)\n",
        "  noise11 = np.random.normal(scale=0.01, size=INPUT.shape[1])\n",
        "  smoothed_noise = gaussian_filter1d(noise11, sigma=10)\n",
        "  INPUT2_dec1[i,:,1]=np.roll(INPUT[i,:,1],N1)\n",
        "  INPUT2_dec1[i,:,1] = INPUT2_dec1[i,:,1] + smoothed_noise\n",
        "  INPUT2_dec1[i,0:N1,1] = INPUT[i,0:N1,1] + noise1\n",
        "\n",
        "  REF_dec1[i]=new_time_step*(N0-N1)  #in ns (t_shift is defined above)\n",
        "\n",
        "\n",
        "trainX_dec1 = INPUT2_dec1[0:Ntrain,:,:]\n",
        "valX_dec1 = INPUT2_dec1[Ntrain:,:,:]\n",
        "\n",
        "REF_train_dec1 = REF_dec1[0:Ntrain]\n",
        "REF_val_dec1 = REF_dec1[Ntrain:]"
      ]
    },
    {
      "cell_type": "code",
      "execution_count": null,
      "metadata": {
        "colab": {
          "base_uri": "https://localhost:8080/"
        },
        "id": "VQbyE6UrxdsR",
        "outputId": "40d425c0-eedf-4b73-a1a9-6773681643fc"
      },
      "outputs": [
        {
          "name": "stdout",
          "output_type": "stream",
          "text": [
            "(588, 12, 2) (148, 12, 2) NM = 12\n"
          ]
        }
      ],
      "source": [
        "#-------------------------------------------------------------- Calculate moments ---------------------------------------------------\n",
        "M_Train_dec1 = momentos(trainX_dec1)\n",
        "M_Val_dec1 = momentos(valX_dec1)\n",
        "\n",
        "min_dec1 = np.min(M_Train_dec1)\n",
        "max_dec1 = np.max(M_Train_dec1)\n",
        "\n",
        "M_Train_dec1 = (M_Train_dec1-min_dec1)/(max_dec1 - min_dec1)\n",
        "M_Val_dec1 = (M_Val_dec1-min_dec1)/(max_dec1 - min_dec1)\n",
        "\n",
        "NM = np.shape(M_Train_dec1)[1]\n",
        "\n",
        "print(M_Train_dec1.shape,M_Val_dec1.shape, \"NM =\", NM)"
      ]
    },
    {
      "cell_type": "markdown",
      "metadata": {
        "id": "zqafQuCIxdsT"
      },
      "source": [
        "## NEURAL NETWORK"
      ]
    },
    {
      "cell_type": "code",
      "execution_count": null,
      "metadata": {
        "id": "PkLP_lsnxdsU"
      },
      "outputs": [],
      "source": [
        "#------------------------------------------------------------- Initialize Model --------------------------------------------------------------------------------------\n",
        "inputA = Input(shape=(NM,),)\n",
        "inputB = Input(shape=(NM,))\n",
        "\n",
        "x1 = Dense(4, activation='relu',kernel_initializer=initializers.RandomNormal(mean=0,stddev=1),kernel_regularizer=l2(0.01))\n",
        "x2 = Dense(4, activation='relu',kernel_initializer=initializers.RandomNormal(mean=0,stddev=1),kernel_regularizer=l2(0.01))\n",
        "x3 = Dense(4, activation='relu',kernel_initializer=initializers.RandomNormal(mean=0,stddev=1),kernel_regularizer=l2(0.01))\n",
        "x4 = Dense(1, activation=\"linear\")\n",
        "\n",
        "op1A = x1(inputA)\n",
        "op2A = x2(op1A)\n",
        "op3A = x3(op2A)\n",
        "outA = x4(op3A)\n",
        "\n",
        "op1B = x1(inputB)\n",
        "op2B = x2(op1B)\n",
        "op3B = x3(op2B)\n",
        "outB = x4(op3B)\n",
        "\n",
        "\n",
        "model_dec1 = Model(inputs=[inputA, inputB], outputs= outA-outB)"
      ]
    },
    {
      "cell_type": "code",
      "execution_count": null,
      "metadata": {
        "colab": {
          "base_uri": "https://localhost:8080/"
        },
        "id": "Y0ZEU_0WxdsV",
        "outputId": "7f89b8cc-317c-41fd-b605-d47cf895603f"
      },
      "outputs": [
        {
          "name": "stdout",
          "output_type": "stream",
          "text": [
            "Model: \"model_56\"\n",
            "__________________________________________________________________________________________________\n",
            " Layer (type)                Output Shape                 Param #   Connected to                  \n",
            "==================================================================================================\n",
            " input_113 (InputLayer)      [(None, 12)]                 0         []                            \n",
            "                                                                                                  \n",
            " input_114 (InputLayer)      [(None, 12)]                 0         []                            \n",
            "                                                                                                  \n",
            " dense_256 (Dense)           (None, 4)                    52        ['input_113[0][0]',           \n",
            "                                                                     'input_114[0][0]']           \n",
            "                                                                                                  \n",
            " dense_257 (Dense)           (None, 4)                    20        ['dense_256[0][0]',           \n",
            "                                                                     'dense_256[1][0]']           \n",
            "                                                                                                  \n",
            " dense_258 (Dense)           (None, 4)                    20        ['dense_257[0][0]',           \n",
            "                                                                     'dense_257[1][0]']           \n",
            "                                                                                                  \n",
            " dense_259 (Dense)           (None, 1)                    5         ['dense_258[0][0]',           \n",
            "                                                                     'dense_258[1][0]']           \n",
            "                                                                                                  \n",
            " tf.math.subtract_56 (TFOpL  (None, 1)                    0         ['dense_259[0][0]',           \n",
            " ambda)                                                              'dense_259[1][0]']           \n",
            "                                                                                                  \n",
            "==================================================================================================\n",
            "Total params: 97 (388.00 Byte)\n",
            "Trainable params: 97 (388.00 Byte)\n",
            "Non-trainable params: 0 (0.00 Byte)\n",
            "__________________________________________________________________________________________________\n"
          ]
        }
      ],
      "source": [
        "opt = tf.keras.optimizers.AdamW(learning_rate=1e-3)\n",
        "model_dec1.compile(optimizer=opt, loss = 'MSE')\n",
        "model_dec1.summary()"
      ]
    },
    {
      "cell_type": "code",
      "execution_count": null,
      "metadata": {
        "colab": {
          "base_uri": "https://localhost:8080/"
        },
        "id": "aC-7uuZyxdsW",
        "outputId": "fc6f8cf4-3b9b-4bbb-efa2-c4b14c497d3d"
      },
      "outputs": [
        {
          "name": "stdout",
          "output_type": "stream",
          "text": [
            "Epoch 1/250\n",
            "19/19 [==============================] - 0s 4ms/step - loss: 0.6278 - val_loss: 0.6188\n",
            "Epoch 2/250\n",
            "19/19 [==============================] - 0s 1ms/step - loss: 0.6046 - val_loss: 0.5976\n",
            "Epoch 3/250\n",
            "19/19 [==============================] - 0s 1ms/step - loss: 0.5831 - val_loss: 0.5773\n",
            "Epoch 4/250\n",
            "19/19 [==============================] - 0s 1ms/step - loss: 0.5626 - val_loss: 0.5574\n",
            "Epoch 5/250\n",
            "19/19 [==============================] - 0s 1ms/step - loss: 0.5427 - val_loss: 0.5371\n",
            "Epoch 6/250\n",
            "19/19 [==============================] - 0s 1ms/step - loss: 0.5232 - val_loss: 0.5186\n",
            "Epoch 7/250\n",
            "19/19 [==============================] - 0s 1ms/step - loss: 0.5030 - val_loss: 0.5014\n",
            "Epoch 8/250\n",
            "19/19 [==============================] - 0s 1ms/step - loss: 0.4838 - val_loss: 0.4837\n",
            "Epoch 9/250\n",
            "19/19 [==============================] - 0s 1ms/step - loss: 0.4671 - val_loss: 0.4670\n",
            "Epoch 10/250\n",
            "19/19 [==============================] - 0s 1ms/step - loss: 0.4517 - val_loss: 0.4512\n",
            "Epoch 11/250\n",
            "19/19 [==============================] - 0s 1ms/step - loss: 0.4372 - val_loss: 0.4361\n",
            "Epoch 12/250\n",
            "19/19 [==============================] - 0s 1ms/step - loss: 0.4232 - val_loss: 0.4212\n",
            "Epoch 13/250\n",
            "19/19 [==============================] - 0s 1ms/step - loss: 0.4096 - val_loss: 0.4072\n",
            "Epoch 14/250\n",
            "19/19 [==============================] - 0s 977us/step - loss: 0.3966 - val_loss: 0.3934\n",
            "Epoch 15/250\n",
            "19/19 [==============================] - 0s 940us/step - loss: 0.3840 - val_loss: 0.3808\n",
            "Epoch 16/250\n",
            "19/19 [==============================] - 0s 975us/step - loss: 0.3718 - val_loss: 0.3688\n",
            "Epoch 17/250\n",
            "19/19 [==============================] - 0s 997us/step - loss: 0.3600 - val_loss: 0.3570\n",
            "Epoch 18/250\n",
            "19/19 [==============================] - 0s 1ms/step - loss: 0.3486 - val_loss: 0.3455\n",
            "Epoch 19/250\n",
            "19/19 [==============================] - 0s 1ms/step - loss: 0.3375 - val_loss: 0.3345\n",
            "Epoch 20/250\n",
            "19/19 [==============================] - 0s 1ms/step - loss: 0.3267 - val_loss: 0.3235\n",
            "Epoch 21/250\n",
            "19/19 [==============================] - 0s 1ms/step - loss: 0.3162 - val_loss: 0.3125\n",
            "Epoch 22/250\n",
            "19/19 [==============================] - 0s 1ms/step - loss: 0.3061 - val_loss: 0.3030\n",
            "Epoch 23/250\n",
            "19/19 [==============================] - 0s 2ms/step - loss: 0.2963 - val_loss: 0.2937\n",
            "Epoch 24/250\n",
            "19/19 [==============================] - 0s 1ms/step - loss: 0.2867 - val_loss: 0.2839\n",
            "Epoch 25/250\n",
            "19/19 [==============================] - 0s 1ms/step - loss: 0.2775 - val_loss: 0.2739\n",
            "Epoch 26/250\n",
            "19/19 [==============================] - 0s 1ms/step - loss: 0.2685 - val_loss: 0.2643\n",
            "Epoch 27/250\n",
            "19/19 [==============================] - 0s 1ms/step - loss: 0.2599 - val_loss: 0.2556\n",
            "Epoch 28/250\n",
            "19/19 [==============================] - 0s 1ms/step - loss: 0.2515 - val_loss: 0.2477\n",
            "Epoch 29/250\n",
            "19/19 [==============================] - 0s 977us/step - loss: 0.2434 - val_loss: 0.2391\n",
            "Epoch 30/250\n",
            "19/19 [==============================] - 0s 957us/step - loss: 0.2354 - val_loss: 0.2320\n",
            "Epoch 31/250\n",
            "19/19 [==============================] - 0s 984us/step - loss: 0.2279 - val_loss: 0.2244\n",
            "Epoch 32/250\n",
            "19/19 [==============================] - 0s 1ms/step - loss: 0.2205 - val_loss: 0.2169\n",
            "Epoch 33/250\n",
            "19/19 [==============================] - 0s 1ms/step - loss: 0.2133 - val_loss: 0.2101\n",
            "Epoch 34/250\n",
            "19/19 [==============================] - 0s 1ms/step - loss: 0.2064 - val_loss: 0.2031\n",
            "Epoch 35/250\n",
            "19/19 [==============================] - 0s 1ms/step - loss: 0.1997 - val_loss: 0.1966\n",
            "Epoch 36/250\n",
            "19/19 [==============================] - 0s 1ms/step - loss: 0.1933 - val_loss: 0.1906\n",
            "Epoch 37/250\n",
            "19/19 [==============================] - 0s 1ms/step - loss: 0.1870 - val_loss: 0.1836\n",
            "Epoch 38/250\n",
            "19/19 [==============================] - 0s 1ms/step - loss: 0.1809 - val_loss: 0.1778\n",
            "Epoch 39/250\n",
            "19/19 [==============================] - 0s 1ms/step - loss: 0.1750 - val_loss: 0.1726\n",
            "Epoch 40/250\n",
            "19/19 [==============================] - 0s 1ms/step - loss: 0.1693 - val_loss: 0.1668\n",
            "Epoch 41/250\n",
            "19/19 [==============================] - 0s 1ms/step - loss: 0.1637 - val_loss: 0.1614\n",
            "Epoch 42/250\n",
            "19/19 [==============================] - 0s 1ms/step - loss: 0.1584 - val_loss: 0.1561\n",
            "Epoch 43/250\n",
            "19/19 [==============================] - 0s 2ms/step - loss: 0.1532 - val_loss: 0.1507\n",
            "Epoch 44/250\n",
            "19/19 [==============================] - 0s 2ms/step - loss: 0.1482 - val_loss: 0.1458\n",
            "Epoch 45/250\n",
            "19/19 [==============================] - 0s 999us/step - loss: 0.1433 - val_loss: 0.1412\n",
            "Epoch 46/250\n",
            "19/19 [==============================] - 0s 1ms/step - loss: 0.1386 - val_loss: 0.1360\n",
            "Epoch 47/250\n",
            "19/19 [==============================] - 0s 1ms/step - loss: 0.1339 - val_loss: 0.1316\n",
            "Epoch 48/250\n",
            "19/19 [==============================] - 0s 1ms/step - loss: 0.1295 - val_loss: 0.1275\n",
            "Epoch 49/250\n",
            "19/19 [==============================] - 0s 1ms/step - loss: 0.1250 - val_loss: 0.1222\n",
            "Epoch 50/250\n",
            "19/19 [==============================] - 0s 1ms/step - loss: 0.1208 - val_loss: 0.1180\n",
            "Epoch 51/250\n",
            "19/19 [==============================] - 0s 1ms/step - loss: 0.1168 - val_loss: 0.1143\n",
            "Epoch 52/250\n",
            "19/19 [==============================] - 0s 1ms/step - loss: 0.1129 - val_loss: 0.1103\n",
            "Epoch 53/250\n",
            "19/19 [==============================] - 0s 938us/step - loss: 0.1092 - val_loss: 0.1068\n",
            "Epoch 54/250\n",
            "19/19 [==============================] - 0s 1ms/step - loss: 0.1056 - val_loss: 0.1029\n",
            "Epoch 55/250\n",
            "19/19 [==============================] - 0s 928us/step - loss: 0.1022 - val_loss: 0.0997\n",
            "Epoch 56/250\n",
            "19/19 [==============================] - 0s 1ms/step - loss: 0.0989 - val_loss: 0.0964\n",
            "Epoch 57/250\n",
            "19/19 [==============================] - 0s 1ms/step - loss: 0.0957 - val_loss: 0.0934\n",
            "Epoch 58/250\n",
            "19/19 [==============================] - 0s 955us/step - loss: 0.0926 - val_loss: 0.0903\n",
            "Epoch 59/250\n",
            "19/19 [==============================] - 0s 1ms/step - loss: 0.0896 - val_loss: 0.0874\n",
            "Epoch 60/250\n",
            "19/19 [==============================] - 0s 1ms/step - loss: 0.0868 - val_loss: 0.0844\n",
            "Epoch 61/250\n",
            "19/19 [==============================] - 0s 978us/step - loss: 0.0840 - val_loss: 0.0817\n",
            "Epoch 62/250\n",
            "19/19 [==============================] - 0s 944us/step - loss: 0.0814 - val_loss: 0.0791\n",
            "Epoch 63/250\n",
            "19/19 [==============================] - 0s 953us/step - loss: 0.0788 - val_loss: 0.0767\n",
            "Epoch 64/250\n",
            "19/19 [==============================] - 0s 973us/step - loss: 0.0763 - val_loss: 0.0741\n",
            "Epoch 65/250\n",
            "19/19 [==============================] - 0s 905us/step - loss: 0.0739 - val_loss: 0.0716\n",
            "Epoch 66/250\n",
            "19/19 [==============================] - 0s 930us/step - loss: 0.0715 - val_loss: 0.0693\n",
            "Epoch 67/250\n",
            "19/19 [==============================] - 0s 1ms/step - loss: 0.0692 - val_loss: 0.0672\n",
            "Epoch 68/250\n",
            "19/19 [==============================] - 0s 1ms/step - loss: 0.0671 - val_loss: 0.0651\n",
            "Epoch 69/250\n",
            "19/19 [==============================] - 0s 2ms/step - loss: 0.0650 - val_loss: 0.0631\n",
            "Epoch 70/250\n",
            "19/19 [==============================] - 0s 972us/step - loss: 0.0630 - val_loss: 0.0610\n",
            "Epoch 71/250\n",
            "19/19 [==============================] - 0s 920us/step - loss: 0.0611 - val_loss: 0.0592\n",
            "Epoch 72/250\n",
            "19/19 [==============================] - 0s 1ms/step - loss: 0.0592 - val_loss: 0.0574\n",
            "Epoch 73/250\n",
            "19/19 [==============================] - 0s 1ms/step - loss: 0.0575 - val_loss: 0.0555\n",
            "Epoch 74/250\n",
            "19/19 [==============================] - 0s 960us/step - loss: 0.0557 - val_loss: 0.0538\n",
            "Epoch 75/250\n",
            "19/19 [==============================] - 0s 2ms/step - loss: 0.0541 - val_loss: 0.0523\n",
            "Epoch 76/250\n",
            "19/19 [==============================] - 0s 1ms/step - loss: 0.0524 - val_loss: 0.0507\n",
            "Epoch 77/250\n",
            "19/19 [==============================] - 0s 2ms/step - loss: 0.0509 - val_loss: 0.0491\n",
            "Epoch 78/250\n",
            "19/19 [==============================] - 0s 2ms/step - loss: 0.0494 - val_loss: 0.0476\n",
            "Epoch 79/250\n",
            "19/19 [==============================] - 0s 1ms/step - loss: 0.0480 - val_loss: 0.0462\n",
            "Epoch 80/250\n",
            "19/19 [==============================] - 0s 1ms/step - loss: 0.0466 - val_loss: 0.0448\n",
            "Epoch 81/250\n",
            "19/19 [==============================] - 0s 1ms/step - loss: 0.0452 - val_loss: 0.0436\n",
            "Epoch 82/250\n",
            "19/19 [==============================] - 0s 1ms/step - loss: 0.0439 - val_loss: 0.0423\n",
            "Epoch 83/250\n",
            "19/19 [==============================] - 0s 1ms/step - loss: 0.0427 - val_loss: 0.0411\n",
            "Epoch 84/250\n",
            "19/19 [==============================] - 0s 2ms/step - loss: 0.0415 - val_loss: 0.0399\n",
            "Epoch 85/250\n",
            "19/19 [==============================] - 0s 919us/step - loss: 0.0403 - val_loss: 0.0388\n",
            "Epoch 86/250\n",
            "19/19 [==============================] - 0s 960us/step - loss: 0.0392 - val_loss: 0.0377\n",
            "Epoch 87/250\n",
            "19/19 [==============================] - 0s 2ms/step - loss: 0.0381 - val_loss: 0.0366\n",
            "Epoch 88/250\n",
            "19/19 [==============================] - 0s 938us/step - loss: 0.0371 - val_loss: 0.0356\n",
            "Epoch 89/250\n",
            "19/19 [==============================] - 0s 927us/step - loss: 0.0361 - val_loss: 0.0346\n",
            "Epoch 90/250\n",
            "19/19 [==============================] - 0s 1ms/step - loss: 0.0351 - val_loss: 0.0337\n",
            "Epoch 91/250\n",
            "19/19 [==============================] - 0s 1ms/step - loss: 0.0342 - val_loss: 0.0327\n",
            "Epoch 92/250\n",
            "19/19 [==============================] - 0s 987us/step - loss: 0.0333 - val_loss: 0.0319\n",
            "Epoch 93/250\n",
            "19/19 [==============================] - 0s 1ms/step - loss: 0.0324 - val_loss: 0.0310\n",
            "Epoch 94/250\n",
            "19/19 [==============================] - 0s 1ms/step - loss: 0.0316 - val_loss: 0.0302\n",
            "Epoch 95/250\n",
            "19/19 [==============================] - 0s 1ms/step - loss: 0.0308 - val_loss: 0.0294\n",
            "Epoch 96/250\n",
            "19/19 [==============================] - 0s 2ms/step - loss: 0.0300 - val_loss: 0.0287\n",
            "Epoch 97/250\n",
            "19/19 [==============================] - 0s 932us/step - loss: 0.0293 - val_loss: 0.0279\n",
            "Epoch 98/250\n",
            "19/19 [==============================] - 0s 993us/step - loss: 0.0286 - val_loss: 0.0273\n",
            "Epoch 99/250\n",
            "19/19 [==============================] - 0s 1ms/step - loss: 0.0279 - val_loss: 0.0266\n",
            "Epoch 100/250\n",
            "19/19 [==============================] - 0s 1ms/step - loss: 0.0272 - val_loss: 0.0259\n",
            "Epoch 101/250\n",
            "19/19 [==============================] - 0s 925us/step - loss: 0.0266 - val_loss: 0.0253\n",
            "Epoch 102/250\n",
            "19/19 [==============================] - 0s 1ms/step - loss: 0.0259 - val_loss: 0.0247\n",
            "Epoch 103/250\n",
            "19/19 [==============================] - 0s 968us/step - loss: 0.0254 - val_loss: 0.0241\n",
            "Epoch 104/250\n",
            "19/19 [==============================] - 0s 940us/step - loss: 0.0248 - val_loss: 0.0235\n",
            "Epoch 105/250\n",
            "19/19 [==============================] - 0s 949us/step - loss: 0.0242 - val_loss: 0.0230\n",
            "Epoch 106/250\n",
            "19/19 [==============================] - 0s 968us/step - loss: 0.0237 - val_loss: 0.0225\n",
            "Epoch 107/250\n",
            "19/19 [==============================] - 0s 1ms/step - loss: 0.0232 - val_loss: 0.0220\n",
            "Epoch 108/250\n",
            "19/19 [==============================] - 0s 2ms/step - loss: 0.0227 - val_loss: 0.0215\n",
            "Epoch 109/250\n",
            "19/19 [==============================] - 0s 995us/step - loss: 0.0222 - val_loss: 0.0210\n",
            "Epoch 110/250\n",
            "19/19 [==============================] - 0s 1ms/step - loss: 0.0218 - val_loss: 0.0206\n",
            "Epoch 111/250\n",
            "19/19 [==============================] - 0s 2ms/step - loss: 0.0213 - val_loss: 0.0202\n",
            "Epoch 112/250\n",
            "19/19 [==============================] - 0s 2ms/step - loss: 0.0209 - val_loss: 0.0197\n",
            "Epoch 113/250\n",
            "19/19 [==============================] - 0s 2ms/step - loss: 0.0205 - val_loss: 0.0194\n",
            "Epoch 114/250\n",
            "19/19 [==============================] - 0s 1ms/step - loss: 0.0201 - val_loss: 0.0190\n",
            "Epoch 115/250\n",
            "19/19 [==============================] - 0s 1ms/step - loss: 0.0197 - val_loss: 0.0186\n",
            "Epoch 116/250\n",
            "19/19 [==============================] - 0s 942us/step - loss: 0.0194 - val_loss: 0.0183\n",
            "Epoch 117/250\n",
            "19/19 [==============================] - 0s 955us/step - loss: 0.0190 - val_loss: 0.0180\n",
            "Epoch 118/250\n",
            "19/19 [==============================] - 0s 1ms/step - loss: 0.0187 - val_loss: 0.0176\n",
            "Epoch 119/250\n",
            "19/19 [==============================] - 0s 961us/step - loss: 0.0184 - val_loss: 0.0173\n",
            "Epoch 120/250\n",
            "19/19 [==============================] - 0s 1ms/step - loss: 0.0181 - val_loss: 0.0170\n",
            "Epoch 121/250\n",
            "19/19 [==============================] - 0s 2ms/step - loss: 0.0178 - val_loss: 0.0167\n",
            "Epoch 122/250\n",
            "19/19 [==============================] - 0s 4ms/step - loss: 0.0176 - val_loss: 0.0165\n",
            "Epoch 123/250\n",
            "19/19 [==============================] - 0s 3ms/step - loss: 0.0173 - val_loss: 0.0162\n",
            "Epoch 124/250\n",
            "19/19 [==============================] - 0s 2ms/step - loss: 0.0170 - val_loss: 0.0160\n",
            "Epoch 125/250\n",
            "19/19 [==============================] - 0s 931us/step - loss: 0.0167 - val_loss: 0.0157\n",
            "Epoch 126/250\n",
            "19/19 [==============================] - 0s 939us/step - loss: 0.0165 - val_loss: 0.0155\n",
            "Epoch 127/250\n",
            "19/19 [==============================] - 0s 983us/step - loss: 0.0163 - val_loss: 0.0153\n",
            "Epoch 128/250\n",
            "19/19 [==============================] - 0s 914us/step - loss: 0.0161 - val_loss: 0.0151\n",
            "Epoch 129/250\n",
            "19/19 [==============================] - 0s 900us/step - loss: 0.0159 - val_loss: 0.0149\n",
            "Epoch 130/250\n",
            "19/19 [==============================] - 0s 888us/step - loss: 0.0157 - val_loss: 0.0147\n",
            "Epoch 131/250\n",
            "19/19 [==============================] - 0s 889us/step - loss: 0.0155 - val_loss: 0.0145\n",
            "Epoch 132/250\n",
            "19/19 [==============================] - 0s 903us/step - loss: 0.0153 - val_loss: 0.0143\n",
            "Epoch 133/250\n",
            "19/19 [==============================] - 0s 1ms/step - loss: 0.0151 - val_loss: 0.0142\n",
            "Epoch 134/250\n",
            "19/19 [==============================] - 0s 1ms/step - loss: 0.0149 - val_loss: 0.0140\n",
            "Epoch 135/250\n",
            "19/19 [==============================] - 0s 1ms/step - loss: 0.0148 - val_loss: 0.0138\n",
            "Epoch 136/250\n",
            "19/19 [==============================] - 0s 2ms/step - loss: 0.0146 - val_loss: 0.0137\n",
            "Epoch 137/250\n",
            "19/19 [==============================] - 0s 1ms/step - loss: 0.0145 - val_loss: 0.0135\n",
            "Epoch 138/250\n",
            "19/19 [==============================] - 0s 1ms/step - loss: 0.0143 - val_loss: 0.0134\n",
            "Epoch 139/250\n",
            "19/19 [==============================] - 0s 991us/step - loss: 0.0142 - val_loss: 0.0133\n",
            "Epoch 140/250\n",
            "19/19 [==============================] - 0s 1ms/step - loss: 0.0141 - val_loss: 0.0131\n",
            "Epoch 141/250\n",
            "19/19 [==============================] - 0s 1ms/step - loss: 0.0139 - val_loss: 0.0130\n",
            "Epoch 142/250\n",
            "19/19 [==============================] - 0s 987us/step - loss: 0.0138 - val_loss: 0.0129\n",
            "Epoch 143/250\n",
            "19/19 [==============================] - 0s 2ms/step - loss: 0.0137 - val_loss: 0.0128\n",
            "Epoch 144/250\n",
            "19/19 [==============================] - 0s 2ms/step - loss: 0.0136 - val_loss: 0.0127\n",
            "Epoch 145/250\n",
            "19/19 [==============================] - 0s 1ms/step - loss: 0.0135 - val_loss: 0.0126\n",
            "Epoch 146/250\n",
            "19/19 [==============================] - 0s 1ms/step - loss: 0.0134 - val_loss: 0.0125\n",
            "Epoch 147/250\n",
            "19/19 [==============================] - 0s 958us/step - loss: 0.0133 - val_loss: 0.0124\n",
            "Epoch 148/250\n",
            "19/19 [==============================] - 0s 947us/step - loss: 0.0132 - val_loss: 0.0123\n",
            "Epoch 149/250\n",
            "19/19 [==============================] - 0s 976us/step - loss: 0.0131 - val_loss: 0.0122\n",
            "Epoch 150/250\n",
            "19/19 [==============================] - 0s 966us/step - loss: 0.0130 - val_loss: 0.0121\n",
            "Epoch 151/250\n",
            "19/19 [==============================] - 0s 953us/step - loss: 0.0129 - val_loss: 0.0121\n",
            "Epoch 152/250\n",
            "19/19 [==============================] - 0s 975us/step - loss: 0.0129 - val_loss: 0.0120\n",
            "Epoch 153/250\n",
            "19/19 [==============================] - 0s 972us/step - loss: 0.0128 - val_loss: 0.0119\n",
            "Epoch 154/250\n",
            "19/19 [==============================] - 0s 945us/step - loss: 0.0127 - val_loss: 0.0119\n",
            "Epoch 155/250\n",
            "19/19 [==============================] - 0s 1ms/step - loss: 0.0127 - val_loss: 0.0118\n",
            "Epoch 156/250\n",
            "19/19 [==============================] - 0s 1ms/step - loss: 0.0126 - val_loss: 0.0117\n",
            "Epoch 157/250\n",
            "19/19 [==============================] - 0s 1ms/step - loss: 0.0125 - val_loss: 0.0117\n",
            "Epoch 158/250\n",
            "19/19 [==============================] - 0s 950us/step - loss: 0.0125 - val_loss: 0.0116\n",
            "Epoch 159/250\n",
            "19/19 [==============================] - 0s 1ms/step - loss: 0.0124 - val_loss: 0.0115\n",
            "Epoch 160/250\n",
            "19/19 [==============================] - 0s 1ms/step - loss: 0.0124 - val_loss: 0.0115\n",
            "Epoch 161/250\n",
            "19/19 [==============================] - 0s 947us/step - loss: 0.0123 - val_loss: 0.0115\n",
            "Epoch 162/250\n",
            "19/19 [==============================] - 0s 1ms/step - loss: 0.0122 - val_loss: 0.0114\n",
            "Epoch 163/250\n",
            "19/19 [==============================] - 0s 896us/step - loss: 0.0122 - val_loss: 0.0114\n",
            "Epoch 164/250\n",
            "19/19 [==============================] - 0s 958us/step - loss: 0.0121 - val_loss: 0.0113\n",
            "Epoch 165/250\n",
            "19/19 [==============================] - 0s 958us/step - loss: 0.0121 - val_loss: 0.0112\n",
            "Epoch 166/250\n",
            "19/19 [==============================] - 0s 915us/step - loss: 0.0121 - val_loss: 0.0112\n",
            "Epoch 167/250\n",
            "19/19 [==============================] - 0s 982us/step - loss: 0.0120 - val_loss: 0.0112\n",
            "Epoch 168/250\n",
            "19/19 [==============================] - 0s 1ms/step - loss: 0.0120 - val_loss: 0.0112\n",
            "Epoch 169/250\n",
            "19/19 [==============================] - 0s 916us/step - loss: 0.0119 - val_loss: 0.0111\n",
            "Epoch 170/250\n",
            "19/19 [==============================] - 0s 900us/step - loss: 0.0119 - val_loss: 0.0111\n",
            "Epoch 171/250\n",
            "19/19 [==============================] - 0s 934us/step - loss: 0.0118 - val_loss: 0.0110\n",
            "Epoch 172/250\n",
            "19/19 [==============================] - 0s 913us/step - loss: 0.0118 - val_loss: 0.0109\n",
            "Epoch 173/250\n",
            "19/19 [==============================] - 0s 1ms/step - loss: 0.0118 - val_loss: 0.0110\n",
            "Epoch 174/250\n",
            "19/19 [==============================] - 0s 969us/step - loss: 0.0117 - val_loss: 0.0109\n",
            "Epoch 175/250\n",
            "19/19 [==============================] - 0s 956us/step - loss: 0.0117 - val_loss: 0.0109\n",
            "Epoch 176/250\n",
            "19/19 [==============================] - 0s 971us/step - loss: 0.0117 - val_loss: 0.0108\n",
            "Epoch 177/250\n",
            "19/19 [==============================] - 0s 1ms/step - loss: 0.0116 - val_loss: 0.0109\n",
            "Epoch 178/250\n",
            "19/19 [==============================] - 0s 994us/step - loss: 0.0116 - val_loss: 0.0108\n",
            "Epoch 179/250\n",
            "19/19 [==============================] - 0s 1ms/step - loss: 0.0116 - val_loss: 0.0108\n",
            "Epoch 180/250\n",
            "19/19 [==============================] - 0s 964us/step - loss: 0.0115 - val_loss: 0.0107\n",
            "Epoch 181/250\n",
            "19/19 [==============================] - 0s 977us/step - loss: 0.0115 - val_loss: 0.0107\n",
            "Epoch 182/250\n",
            "19/19 [==============================] - 0s 1ms/step - loss: 0.0115 - val_loss: 0.0107\n",
            "Epoch 183/250\n",
            "19/19 [==============================] - 0s 1ms/step - loss: 0.0114 - val_loss: 0.0106\n",
            "Epoch 184/250\n",
            "19/19 [==============================] - 0s 1ms/step - loss: 0.0114 - val_loss: 0.0107\n",
            "Epoch 185/250\n",
            "19/19 [==============================] - 0s 973us/step - loss: 0.0114 - val_loss: 0.0106\n",
            "Epoch 186/250\n",
            "19/19 [==============================] - 0s 1ms/step - loss: 0.0114 - val_loss: 0.0106\n",
            "Epoch 187/250\n",
            "19/19 [==============================] - 0s 2ms/step - loss: 0.0113 - val_loss: 0.0106\n",
            "Epoch 188/250\n",
            "19/19 [==============================] - 0s 2ms/step - loss: 0.0113 - val_loss: 0.0105\n",
            "Epoch 189/250\n",
            "19/19 [==============================] - 0s 2ms/step - loss: 0.0113 - val_loss: 0.0106\n",
            "Epoch 190/250\n",
            "19/19 [==============================] - 0s 926us/step - loss: 0.0113 - val_loss: 0.0105\n",
            "Epoch 191/250\n",
            "19/19 [==============================] - 0s 957us/step - loss: 0.0112 - val_loss: 0.0105\n",
            "Epoch 192/250\n",
            "19/19 [==============================] - 0s 990us/step - loss: 0.0112 - val_loss: 0.0105\n",
            "Epoch 193/250\n",
            "19/19 [==============================] - 0s 983us/step - loss: 0.0112 - val_loss: 0.0104\n",
            "Epoch 194/250\n",
            "19/19 [==============================] - 0s 972us/step - loss: 0.0112 - val_loss: 0.0104\n",
            "Epoch 195/250\n",
            "19/19 [==============================] - 0s 949us/step - loss: 0.0112 - val_loss: 0.0104\n",
            "Epoch 196/250\n",
            "19/19 [==============================] - 0s 967us/step - loss: 0.0111 - val_loss: 0.0104\n",
            "Epoch 197/250\n",
            "19/19 [==============================] - 0s 970us/step - loss: 0.0111 - val_loss: 0.0103\n",
            "Epoch 198/250\n",
            "19/19 [==============================] - 0s 1ms/step - loss: 0.0111 - val_loss: 0.0103\n",
            "Epoch 199/250\n",
            "19/19 [==============================] - 0s 3ms/step - loss: 0.0111 - val_loss: 0.0103\n",
            "Epoch 200/250\n",
            "19/19 [==============================] - 0s 3ms/step - loss: 0.0110 - val_loss: 0.0102\n",
            "Epoch 201/250\n",
            "19/19 [==============================] - 0s 1ms/step - loss: 0.0110 - val_loss: 0.0102\n",
            "Epoch 202/250\n",
            "19/19 [==============================] - 0s 965us/step - loss: 0.0110 - val_loss: 0.0103\n",
            "Epoch 203/250\n",
            "19/19 [==============================] - 0s 1ms/step - loss: 0.0110 - val_loss: 0.0102\n",
            "Epoch 204/250\n",
            "19/19 [==============================] - 0s 1ms/step - loss: 0.0109 - val_loss: 0.0102\n",
            "Epoch 205/250\n",
            "19/19 [==============================] - 0s 919us/step - loss: 0.0109 - val_loss: 0.0102\n",
            "Epoch 206/250\n",
            "19/19 [==============================] - 0s 989us/step - loss: 0.0109 - val_loss: 0.0101\n",
            "Epoch 207/250\n",
            "19/19 [==============================] - 0s 1ms/step - loss: 0.0109 - val_loss: 0.0101\n",
            "Epoch 208/250\n",
            "19/19 [==============================] - 0s 1ms/step - loss: 0.0109 - val_loss: 0.0101\n",
            "Epoch 209/250\n",
            "19/19 [==============================] - 0s 1ms/step - loss: 0.0108 - val_loss: 0.0101\n",
            "Epoch 210/250\n",
            "19/19 [==============================] - 0s 1ms/step - loss: 0.0108 - val_loss: 0.0101\n",
            "Epoch 211/250\n",
            "19/19 [==============================] - 0s 1ms/step - loss: 0.0108 - val_loss: 0.0101\n",
            "Epoch 212/250\n",
            "19/19 [==============================] - 0s 1ms/step - loss: 0.0108 - val_loss: 0.0101\n",
            "Epoch 213/250\n",
            "19/19 [==============================] - 0s 962us/step - loss: 0.0108 - val_loss: 0.0100\n",
            "Epoch 214/250\n",
            "19/19 [==============================] - 0s 880us/step - loss: 0.0107 - val_loss: 0.0100\n",
            "Epoch 215/250\n",
            "19/19 [==============================] - 0s 944us/step - loss: 0.0107 - val_loss: 0.0100\n",
            "Epoch 216/250\n",
            "19/19 [==============================] - 0s 928us/step - loss: 0.0107 - val_loss: 0.0099\n",
            "Epoch 217/250\n",
            "19/19 [==============================] - 0s 892us/step - loss: 0.0107 - val_loss: 0.0099\n",
            "Epoch 218/250\n",
            "19/19 [==============================] - 0s 959us/step - loss: 0.0107 - val_loss: 0.0099\n",
            "Epoch 219/250\n",
            "19/19 [==============================] - 0s 1ms/step - loss: 0.0106 - val_loss: 0.0099\n",
            "Epoch 220/250\n",
            "19/19 [==============================] - 0s 989us/step - loss: 0.0106 - val_loss: 0.0099\n",
            "Epoch 221/250\n",
            "19/19 [==============================] - 0s 983us/step - loss: 0.0106 - val_loss: 0.0098\n",
            "Epoch 222/250\n",
            "19/19 [==============================] - 0s 962us/step - loss: 0.0106 - val_loss: 0.0099\n",
            "Epoch 223/250\n",
            "19/19 [==============================] - 0s 944us/step - loss: 0.0106 - val_loss: 0.0099\n",
            "Epoch 224/250\n",
            "19/19 [==============================] - 0s 973us/step - loss: 0.0105 - val_loss: 0.0098\n",
            "Epoch 225/250\n",
            "19/19 [==============================] - 0s 980us/step - loss: 0.0105 - val_loss: 0.0098\n",
            "Epoch 226/250\n",
            "19/19 [==============================] - 0s 959us/step - loss: 0.0105 - val_loss: 0.0098\n",
            "Epoch 227/250\n",
            "19/19 [==============================] - 0s 1ms/step - loss: 0.0105 - val_loss: 0.0098\n",
            "Epoch 228/250\n",
            "19/19 [==============================] - 0s 1ms/step - loss: 0.0105 - val_loss: 0.0097\n",
            "Epoch 229/250\n",
            "19/19 [==============================] - 0s 968us/step - loss: 0.0104 - val_loss: 0.0097\n",
            "Epoch 230/250\n",
            "19/19 [==============================] - 0s 2ms/step - loss: 0.0104 - val_loss: 0.0097\n",
            "Epoch 231/250\n",
            "19/19 [==============================] - 0s 927us/step - loss: 0.0104 - val_loss: 0.0097\n",
            "Epoch 232/250\n",
            "19/19 [==============================] - 0s 1ms/step - loss: 0.0104 - val_loss: 0.0097\n",
            "Epoch 233/250\n",
            "19/19 [==============================] - 0s 1ms/step - loss: 0.0104 - val_loss: 0.0096\n",
            "Epoch 234/250\n",
            "19/19 [==============================] - 0s 1ms/step - loss: 0.0104 - val_loss: 0.0096\n",
            "Epoch 235/250\n",
            "19/19 [==============================] - 0s 2ms/step - loss: 0.0103 - val_loss: 0.0096\n",
            "Epoch 236/250\n",
            "19/19 [==============================] - 0s 917us/step - loss: 0.0103 - val_loss: 0.0096\n",
            "Epoch 237/250\n",
            "19/19 [==============================] - 0s 945us/step - loss: 0.0103 - val_loss: 0.0096\n",
            "Epoch 238/250\n",
            "19/19 [==============================] - 0s 996us/step - loss: 0.0103 - val_loss: 0.0096\n",
            "Epoch 239/250\n",
            "19/19 [==============================] - 0s 916us/step - loss: 0.0103 - val_loss: 0.0096\n",
            "Epoch 240/250\n",
            "19/19 [==============================] - 0s 919us/step - loss: 0.0102 - val_loss: 0.0095\n",
            "Epoch 241/250\n",
            "19/19 [==============================] - 0s 901us/step - loss: 0.0102 - val_loss: 0.0095\n",
            "Epoch 242/250\n",
            "19/19 [==============================] - 0s 905us/step - loss: 0.0102 - val_loss: 0.0095\n",
            "Epoch 243/250\n",
            "19/19 [==============================] - 0s 893us/step - loss: 0.0102 - val_loss: 0.0095\n",
            "Epoch 244/250\n",
            "19/19 [==============================] - 0s 934us/step - loss: 0.0102 - val_loss: 0.0094\n",
            "Epoch 245/250\n",
            "19/19 [==============================] - 0s 933us/step - loss: 0.0102 - val_loss: 0.0095\n",
            "Epoch 246/250\n",
            "19/19 [==============================] - 0s 929us/step - loss: 0.0101 - val_loss: 0.0094\n",
            "Epoch 247/250\n",
            "19/19 [==============================] - 0s 960us/step - loss: 0.0101 - val_loss: 0.0094\n",
            "Epoch 248/250\n",
            "19/19 [==============================] - 0s 982us/step - loss: 0.0101 - val_loss: 0.0094\n",
            "Epoch 249/250\n",
            "19/19 [==============================] - 0s 1ms/step - loss: 0.0101 - val_loss: 0.0095\n",
            "Epoch 250/250\n",
            "19/19 [==============================] - 0s 1ms/step - loss: 0.0101 - val_loss: 0.0094\n"
          ]
        }
      ],
      "source": [
        "history_dec1 = model_dec1.fit(x=[M_Train_dec1[:,:,0], M_Train_dec1[:,:,1]], y = REF_train_dec1, validation_data=([M_Val_dec1[:,:,0],M_Val_dec1[:,:,1]],REF_val_dec1),epochs=250, batch_size=32,shuffle=True,verbose=1)"
      ]
    },
    {
      "cell_type": "code",
      "execution_count": null,
      "metadata": {
        "colab": {
          "base_uri": "https://localhost:8080/"
        },
        "id": "NCVTrpUuxdsX",
        "outputId": "9d6b9469-3e38-47d1-cade-88510577416c"
      },
      "outputs": [
        {
          "data": {
            "image/png": "[encoded data removed]",
            "text/plain": [
              "<Figure size 600x400 with 1 Axes>"
            ]
          },
          "metadata": {},
          "output_type": "display_data"
        }
      ],
      "source": [
        "plt.figure(figsize=(6,4))\n",
        "plt.plot(history_dec1.history['loss'])\n",
        "plt.plot(history_dec1.history['val_loss'])\n",
        "plt.title('model loss')\n",
        "plt.ylabel('loss')\n",
        "plt.xlabel('epoch')\n",
        "plt.legend(['train', 'val'], loc='upper right')\n",
        "plt.show()"
      ]
    },
    {
      "cell_type": "code",
      "execution_count": null,
      "metadata": {
        "colab": {
          "base_uri": "https://localhost:8080/"
        },
        "id": "0pNVi-h7xdsZ",
        "outputId": "411b3b4e-46ec-498f-b78e-86d05e07b2a3"
      },
      "outputs": [
        {
          "name": "stdout",
          "output_type": "stream",
          "text": [
            "5/5 [==============================] - 0s 509us/step\n",
            "-0.04034158\n",
            "0.1973699\n"
          ]
        }
      ],
      "source": [
        "TOFN_dec1 = model_dec1.predict([M_Val_dec1[:,:,0],M_Val_dec1[:,:,1]])\n",
        "\n",
        "print(np.mean(TOFN_dec1))\n",
        "print(np.std(TOFN_dec1))"
      ]
    },
    {
      "cell_type": "code",
      "execution_count": null,
      "metadata": {
        "colab": {
          "base_uri": "https://localhost:8080/"
        },
        "id": "_HPI0bfqxdsa",
        "outputId": "9eb813cf-8264-4141-f165-a95421a70b86"
      },
      "outputs": [
        {
          "name": "stdout",
          "output_type": "stream",
          "text": [
            "9/9 [==============================] - 0s 746us/step\n",
            "-0.16220659\n",
            "0.02466454\n"
          ]
        }
      ],
      "source": [
        "t_shift = 8\n",
        "V55_fraction_dec1 = np.zeros_like(V55_fraction)\n",
        "\n",
        "\n",
        "for i in range(V55_fraction.shape[0]):\n",
        "  noise_V55 = np.random.normal(scale=1e-3, size=t_shift)\n",
        "  V55_fraction_dec1[i,:,0] = V55_fraction[i,:,1]\n",
        "  V55_fraction_dec1[i,:,1] = np.roll(V55_fraction[i,:,1], t_shift)\n",
        "  V55_fraction_dec1[i,0:t_shift,1] = noise_V55\n",
        "\n",
        "M_V55_dec1 = momentos(V55_fraction_dec1)\n",
        "M_V55_dec1_norm = (M_V55_dec1 - min_dec1)/(max_dec1-min_dec1)\n",
        "TOFN_dec1_V55 = model_dec1.predict([M_V55_dec1_norm[:,:,0],M_V55_dec1_norm[:,:,1]])\n",
        "\n",
        "print(np.mean(TOFN_dec1_V55))\n",
        "print(np.std(TOFN_dec1_V55))"
      ]
    },
    {
      "cell_type": "code",
      "execution_count": null,
      "metadata": {
        "colab": {
          "base_uri": "https://localhost:8080/"
        },
        "id": "OqxTBpl0xdsb",
        "outputId": "74ce0c48-87ee-4136-86a4-39302d1bf7da"
      },
      "outputs": [
        {
          "name": "stdout",
          "output_type": "stream",
          "text": [
            "CENTROID=  -0.17724631144489705\n",
            "SIGMA =  0.007881498719980352\n",
            "FWHM (ns)=  0.018559510815784133\n"
          ]
        },
        {
          "data": {
            "text/plain": [
              "Text(0.5, 0, 'Tiempo (ns)')"
            ]
          },
          "execution_count": 367,
          "metadata": {},
          "output_type": "execute_result"
        },
        {
          "data": {
            "image/png": "[encoded data removed]",
            "text/plain": [
              "<Figure size 600x600 with 1 Axes>"
            ]
          },
          "metadata": {},
          "output_type": "display_data"
        }
      ],
      "source": [
        "plt.figure(figsize=(6,6))\n",
        "nbins=510\n",
        "histogN, binsN, patchesN  = plt.hist(TOFN_dec1_V55,bins=nbins,range=[-0.4,0.4],alpha=0.5);\n",
        "cbinsN = 0.5*(binsN[1:]+binsN[0:-1])\n",
        "\n",
        "\n",
        "HN, AN, x0N, sigmaN = gauss_fit(cbinsN, histogN)\n",
        "FWHMN = 2.35482 * sigmaN\n",
        "plt.plot(cbinsN,gauss(cbinsN, HN, AN, x0N, sigmaN),'r-')\n",
        "print(\"CENTROID= \",x0N)\n",
        "print(\"SIGMA = \",sigmaN)\n",
        "print(\"FWHM (ns)= \",FWHMN)\n",
        "\n",
        "\n",
        "plt.xlabel('Tiempo (ns)')"
      ]
    },
    {
      "cell_type": "markdown",
      "metadata": {
        "id": "pys0LcykPSER"
      },
      "source": [
        "# **FULL TOF**"
      ]
    },
    {
      "cell_type": "code",
      "execution_count": null,
      "metadata": {
        "colab": {
          "base_uri": "https://localhost:8080/"
        },
        "id": "jh114PIbgZdH",
        "outputId": "5181644d-5139-4aa7-e0a5-ac99b832a690"
      },
      "outputs": [
        {
          "name": "stdout",
          "output_type": "stream",
          "text": [
            "(187, 12, 2)\n",
            "(268, 12, 2)\n",
            "(281, 12, 2)\n"
          ]
        }
      ],
      "source": [
        "REFERENCE_PULSE_dec0 = np.tile(V82_fraction[0,:,0], (V82_fraction.shape[0],2,1)).swapaxes(1,2)\n",
        "REFERENCE_PULSE_dec1 = np.tile(V82_fraction[0,:,1], (V82_fraction.shape[0],2,1)).swapaxes(1,2)\n",
        "\n",
        "\n",
        "M_REF_dec0 = momentos(REFERENCE_PULSE_dec0)\n",
        "M_REF_dec0 = (M_REF_dec0 - min_dec0)/(max_dec0-min_dec0)\n",
        "\n",
        "M_REF_dec1 = momentos(REFERENCE_PULSE_dec1)\n",
        "M_REF_dec1 = (M_REF_dec1 - min_dec1)/(max_dec1-min_dec1)\n",
        "\n",
        "M_V28 = momentos(V28_fraction)\n",
        "M_V28_norm = np.zeros_like(M_V28)\n",
        "M_V28_norm[:,:,0] = (M_V28[:,:,0] - min_dec0) / (max_dec0 - min_dec0)\n",
        "M_V28_norm[:,:,1] = (M_V28[:,:,1] - min_dec1) / (max_dec1 - min_dec1)\n",
        "print(M_V28.shape)\n",
        "\n",
        "M_V55 = momentos(V55_fraction)\n",
        "M_V55_norm = np.zeros_like(M_V55)\n",
        "M_V55_norm[:,:,0] = (M_V55[:,:,0] - min_dec0) / (max_dec0 - min_dec0)\n",
        "M_V55_norm[:,:,1] = (M_V55[:,:,1] - min_dec1) / (max_dec1 - min_dec1)\n",
        "print(M_V55.shape)\n",
        "\n",
        "M_V82 = momentos(V82_fraction)\n",
        "M_V82_norm = np.zeros_like(M_V82)\n",
        "M_V82_norm[:,:,0] = (M_V82[:,:,0] - min_dec0) / (max_dec0 - min_dec0)\n",
        "M_V82_norm[:,:,1] = (M_V82[:,:,1] - min_dec1) / (max_dec1 - min_dec1)\n",
        "print(M_V82.shape)"
      ]
    },
    {
      "cell_type": "code",
      "execution_count": null,
      "metadata": {
        "colab": {
          "base_uri": "https://localhost:8080/",
          "height": 604
        },
        "id": "yMRQlzuHjyYC",
        "outputId": "07dbecf1-12c3-462d-d04e-62205c4e95ef"
      },
      "outputs": [
        {
          "name": "stdout",
          "output_type": "stream",
          "text": [
            "9/9 [==============================] - 0s 443us/step\n",
            "9/9 [==============================] - 0s 358us/step\n",
            "9/9 [==============================] - 0s 328us/step\n",
            "9/9 [==============================] - 0s 348us/step\n",
            "6/6 [==============================] - 0s 457us/step\n",
            "6/6 [==============================] - 0s 478us/step\n",
            "\n",
            "V82: CENTROID(ns) = 0.460  FWHM(ns) = 0.431  std(ns) = 0.183\n",
            "V55: CENTROID(ns) = 0.039  FWHM(ns) = 0.637  std(ns) = 0.270\n",
            "V28: CENTROID(ns) = 0.182  FWHM(ns) = 0.658  std(ns) = 0.280\n"
          ]
        },
        {
          "data": {
            "image/png": "[encoded data removed]",
            "text/plain": [
              "<Figure size 640x480 with 1 Axes>"
            ]
          },
          "metadata": {},
          "output_type": "display_data"
        }
      ],
      "source": [
        "TOFN_dec0_REF_V82 = model_dec0.predict([M_REF_dec0[:M_V82_norm.shape[0],:,0],M_V82_norm[:,:,0]])\n",
        "TOFN_dec1_REF_V82 = model_dec1.predict([M_REF_dec1[:M_V82_norm.shape[0],:,0],M_V82_norm[:,:,1]])\n",
        "TOFN_dec0_REF_V55 = model_dec0.predict([M_REF_dec0[:M_V55_norm.shape[0],:,0],M_V55_norm[:,:,0]])\n",
        "TOFN_dec1_REF_V55 = model_dec1.predict([M_REF_dec1[:M_V55_norm.shape[0],:,0],M_V55_norm[:,:,1]])\n",
        "TOFN_dec0_REF_V28 = model_dec0.predict([M_REF_dec0[:M_V28_norm.shape[0],:,0],M_V28_norm[:,:,0]])\n",
        "TOFN_dec1_REF_V28 = model_dec1.predict([M_REF_dec1[:M_V28_norm.shape[0],:,0],M_V28_norm[:,:,1]])\n",
        "\n",
        "\n",
        "TOFN_V82 = TOFN_dec0_REF_V82 - TOFN_dec1_REF_V82\n",
        "TOFN_V55 = TOFN_dec0_REF_V55 - TOFN_dec1_REF_V55\n",
        "TOFN_V28 = TOFN_dec0_REF_V28 - TOFN_dec1_REF_V28\n",
        "\n",
        "\n",
        "#------------------------------------------- Histogram and gaussian fit -----------------------------------------------\n",
        "nbins=51\n",
        "histogN_V82, binsN, patchesN  = plt.hist(-1*TOFN_V82 + np.mean(TOFN_V55),bins=nbins,range=[-0.8,0.8],alpha = 0.5,label='V82');\n",
        "cbinsN = 0.5*(binsN[1:]+binsN[0:-1])\n",
        "HN, AN, x0N_V82, sigmaN_V82 = gauss_fit(cbinsN, histogN_V82)\n",
        "\n",
        "histogN_V55, binsN, patchesN  = plt.hist(-1*TOFN_V55 + np.mean(TOFN_V55),bins=nbins,range=[-0.8,0.8],alpha = 0.5,label='V55');\n",
        "cbinsN = 0.5*(binsN[1:]+binsN[0:-1])\n",
        "HN, AN, x0N_V55, sigmaN_V55 = gauss_fit(cbinsN, histogN_V55)\n",
        "\n",
        "histogN_V28, binsN, patchesN  = plt.hist(-1*TOFN_V28 + np.mean(TOFN_V55),bins=nbins,range=[-0.8,0.8],alpha = 0.5,label='V28');\n",
        "cbinsN = 0.5*(binsN[1:]+binsN[0:-1])\n",
        "HN, AN, x0N_V28, sigmaN_V28 = gauss_fit(cbinsN, histogN_V28)\n",
        "plt.legend()\n",
        "\n",
        "\n",
        "FWHMN_V82 = 2.35482 * sigmaN_V82\n",
        "FWHMN_V55 = 2.35482 * sigmaN_V55\n",
        "FWHMN_V28 = 2.35482 * sigmaN_V28\n",
        "\n",
        "\n",
        "print('')\n",
        "print(\"V82: CENTROID(ns) = %.3f  FWHM(ns) = %.3f  std(ns) = %.3f\" % (x0N_V82, FWHMN_V82, sigmaN_V82))\n",
        "print(\"V55: CENTROID(ns) = %.3f  FWHM(ns) = %.3f  std(ns) = %.3f\" % (x0N_V55, FWHMN_V55, sigmaN_V55))\n",
        "print(\"V28: CENTROID(ns) = %.3f  FWHM(ns) = %.3f  std(ns) = %.3f\" % (x0N_V28, FWHMN_V28, sigmaN_V28))"
      ]
    },
    {
      "cell_type": "code",
      "execution_count": null,
      "metadata": {
        "colab": {
          "base_uri": "https://localhost:8080/",
          "height": 552
        },
        "id": "l0R18kHxpdE4",
        "outputId": "8fd9aec1-bf3d-4bd6-dd21-b6bdbd76a7cf"
      },
      "outputs": [
        {
          "name": "stdout",
          "output_type": "stream",
          "text": [
            "19/19 [==============================] - 0s 351us/step\n",
            "19/19 [==============================] - 0s 289us/step\n",
            "0.20119502\n",
            "0.03405176\n",
            "0.20526816\n",
            "\n",
            "CENTROID(ns) = -0.004  FWHM(ns) = 0.539  std(ns) = 0.229\n"
          ]
        },
        {
          "data": {
            "image/png": "[encoded data removed]",
            "text/plain": [
              "<Figure size 640x480 with 1 Axes>"
            ]
          },
          "metadata": {},
          "output_type": "display_data"
        }
      ],
      "source": [
        "TOFN_dec0 = np.squeeze(model_dec0.predict([M_Train_dec0[:,:,0],M_Train_dec0[:,:,1]])) - REF_train_dec0\n",
        "TOFN_dec1 = np.squeeze(model_dec1.predict([M_Train_dec1[:,:,0],M_Train_dec1[:,:,1]])) - REF_train_dec1\n",
        "print(np.std(TOFN_dec0))\n",
        "print(np.std(TOFN_dec1))\n",
        "\n",
        "\n",
        "TOFN = TOFN_dec0 - TOFN_dec1\n",
        "print(np.std(TOFN))\n",
        "\n",
        "nbins=510\n",
        "histogN, binsN, patchesN  = plt.hist(TOFN,bins=nbins,range=[-0.8,0.8],alpha = 0.5);\n",
        "cbinsN = 0.5*(binsN[1:]+binsN[0:-1])\n",
        "HN, AN, x0N, sigmaN = gauss_fit(cbinsN, histogN)\n",
        "\n",
        "FWHMN = 2.35482 * sigmaN\n",
        "\n",
        "print('')\n",
        "print(\"CENTROID(ns) = %.3f  FWHM(ns) = %.3f  std(ns) = %.3f\" % (x0N, FWHMN, sigmaN))\n"
      ]
    },
    {
      "cell_type": "markdown",
      "metadata": {
        "id": "a4DG9O0bcDBN"
      },
      "source": [
        "# **MULTIPLE TRAINING**"
      ]
    },
    {
      "cell_type": "code",
      "execution_count": null,
      "metadata": {
        "id": "rDrQTH2YX2V1"
      },
      "outputs": [],
      "source": [
        "def weights_definition(NM, Npoints):\n",
        "  t = np.linspace(0,Npoints, Npoints)/float(Npoints) #Normalized array of time\n",
        "  Weights = np.zeros((Npoints,NM))\n",
        "  NMW = int(NM/3) #Number of Moments per weight\n",
        "\n",
        "  for i in range(NMW):\n",
        "    Weights[:,i] = t**(i+1)\n",
        "\n",
        "  for i in range(NMW):\n",
        "    Weights[:,i + NMW] = np.exp(-t**(i))\n",
        "\n",
        "  for i in range(NMW):\n",
        "    Weights[:,i + 2*(NMW)] = np.exp(-(i)*t)\n",
        "\n",
        "  return Weights"
      ]
    },
    {
      "cell_type": "code",
      "execution_count": null,
      "metadata": {
        "id": "XxRyLG8-X3Ww"
      },
      "outputs": [],
      "source": [
        "NM = 12\n",
        "weights = weights_definition(NM,70)"
      ]
    },
    {
      "cell_type": "code",
      "execution_count": null,
      "metadata": {
        "id": "nahS7hbSX9e4"
      },
      "outputs": [],
      "source": [
        "def model_definition(NM):\n",
        "\n",
        "  inputA = Input(shape=(NM,))\n",
        "  inputB = Input(shape=(NM,))\n",
        "\n",
        "  x1 = Dense(4, activation=\"relu\", kernel_initializer=initializers.RandomNormal(mean=0.0, stddev=1.5) , kernel_regularizer=l2(0.01))\n",
        "  x2 = Dense(4, activation=\"relu\", kernel_initializer=initializers.RandomNormal(mean=0.0, stddev=1.5) , kernel_regularizer=l2(0.01))\n",
        "  x3 = Dense(4, activation=\"relu\", kernel_initializer=initializers.RandomNormal(mean=0.0, stddev=1.5) , kernel_regularizer=l2(0.01))\n",
        "  x4 = Dense(1, activation=\"linear\")\n",
        "\n",
        "  op1A = x1(inputA)\n",
        "  op2A = x2(op1A)\n",
        "  op3A = x3(op2A)\n",
        "  outA = x4(op3A)\n",
        "\n",
        "  op1B = x1(inputB)\n",
        "  op2B = x2(op1B)\n",
        "  op3B = x3(op2B)\n",
        "  outB = x4(op3B)\n",
        "\n",
        "  model = Model(inputs=[inputA, inputB], outputs=outA-outB)\n",
        "  return model\n",
        "\n",
        "#---------------------------------------------------------------------------------------------------------------------------------------------\n",
        "\n",
        "def model_definition_manual_weight_initialization(N_time_points):\n",
        "\n",
        "  inputA = Input(shape=(N_time_points,))\n",
        "  inputB = Input(shape=(N_time_points,))\n",
        "\n",
        "  #x1 = Dense(NM, activation=\"relu\", weights=[weights, np.zeros(NM)])\n",
        "  x1 = Dense(NM, activation=\"relu\",kernel_initializer=initializers.RandomNormal(mean=0.0, stddev=0.5), kernel_regularizer=l2(0.01))\n",
        "  x2 = Dense(4, activation=\"relu\", kernel_initializer=initializers.RandomNormal(mean=0.0, stddev=0.5), kernel_regularizer=l2(0.01))\n",
        "  x3 = Dense(4, activation=\"relu\", kernel_initializer=initializers.RandomNormal(mean=0.0, stddev=0.5), kernel_regularizer=l2(0.01))\n",
        "  x4 = Dense(4, activation=\"relu\", kernel_initializer=initializers.RandomNormal(mean=0.0, stddev=0.5), kernel_regularizer=l2(0.01))\n",
        "  x5 = Dense(1, activation=\"linear\")\n",
        "\n",
        "  op1A = x1(inputA)\n",
        "  op2A = x2(op1A)\n",
        "  op3A = x3(op2A)\n",
        "  op4A = x4(op3A)\n",
        "  outA = x5(op4A)\n",
        "\n",
        "  op1B = x1(inputB)\n",
        "  op2B = x2(op1B)\n",
        "  op3B = x3(op2B)\n",
        "  op4B = x4(op3B)\n",
        "  outB = x5(op4B)\n",
        "\n",
        "  model = Model(inputs=[inputA, inputB], outputs=outA-outB)\n",
        "  return model"
      ]
    },
    {
      "cell_type": "code",
      "execution_count": null,
      "metadata": {
        "id": "teB6S-ZMcF4M"
      },
      "outputs": [],
      "source": [
        "Ntries= 10\n",
        "\n",
        "TOFN_V28_list = []\n",
        "TOFN_V55_list = []\n",
        "TOFN_V82_list = []\n",
        "\n",
        "for i in range(Ntries):\n",
        "\n",
        "  model_dec0 = model_definition(NM)\n",
        "  model_dec1 = model_definition(NM)\n",
        "\n",
        "  #model_dec0 = model_definition_manual_weight_initialization(Nt_new)\n",
        "  #model_dec1 = model_definition_manual_weight_initialization(Nt_new)\n",
        "\n",
        "  opt_dec0 = tf.keras.optimizers.AdamW(learning_rate=7.0e-4)\n",
        "  opt_dec1 = tf.keras.optimizers.AdamW(learning_rate=7.0e-4)\n",
        "\n",
        "  model_dec0.compile(optimizer=opt_dec0,loss='MSE')\n",
        "  model_dec1.compile(optimizer=opt_dec1,loss='MSE')\n",
        "\n",
        "  history_dec0 = model_dec0.fit(x=[M_Train_dec0[:,:,0], M_Train_dec0[:,:,1]],y = REF_train_dec0,validation_data=([M_Val_dec0[:,:,0], M_Val_dec0[:,:,1]], REF_val_dec0), epochs=250, batch_size = 64, shuffle = True, verbose=0)\n",
        "  history_dec1 = model_dec1.fit(x=[M_Train_dec1[:,:,0], M_Train_dec1[:,:,1]],y = REF_train_dec1,validation_data=([M_Val_dec1[:,:,0], M_Val_dec1[:,:,1]], REF_val_dec1), epochs=250, batch_size = 64, shuffle = True, verbose=0)\n",
        "\n",
        "  #history_dec0 = model_dec0.fit(x=[trainX_dec0[:,:,0], trainX_dec0[:,:,1]],y = REF_train_dec0,validation_data=([valX_dec0[:,:,0], valX_dec0[:,:,1]], REF_val_dec0), epochs=250, batch_size = 64, shuffle = True, verbose=0)\n",
        "  #history_dec1 = model_dec1.fit(x=[trainX_dec1[:,:,0], trainX_dec1[:,:,1]],y = REF_train_dec1,validation_data=([valX_dec1[:,:,0], valX_dec1[:,:,1]], REF_val_dec1), epochs=250, batch_size = 64, shuffle = True, verbose=0)\n",
        "\n",
        "  TOFN_dec0_REF_V28 = model_dec0.predict([M_REF_dec0[:M_V28_norm.shape[0],:,0],M_V28_norm[:,:,0]])\n",
        "  TOFN_dec0_REF_V55 = model_dec0.predict([M_REF_dec0[:M_V55_norm.shape[0],:,0],M_V55_norm[:,:,0]])\n",
        "  TOFN_dec0_REF_V82 = model_dec0.predict([M_REF_dec0[:M_V82_norm.shape[0],:,0],M_V82_norm[:,:,0]])\n",
        "  TOFN_dec1_REF_V28 = model_dec1.predict([M_REF_dec1[:M_V28_norm.shape[0],:,0],M_V28_norm[:,:,1]])\n",
        "  TOFN_dec1_REF_V55 = model_dec1.predict([M_REF_dec1[:M_V55_norm.shape[0],:,0],M_V55_norm[:,:,1]])\n",
        "  TOFN_dec1_REF_V82 = model_dec1.predict([M_REF_dec1[:M_V82_norm.shape[0],:,0],M_V82_norm[:,:,1]])\n",
        "\n",
        "  #TOFN_dec0_REF_V82 = model_dec0.predict([REFERENCE_PULSE_dec0[:V82_fraction.shape[0],:,0],V82_fraction[:,:,0]])\n",
        "  #TOFN_dec1_REF_V82 = model_dec1.predict([REFERENCE_PULSE_dec1[:V82_fraction.shape[0],:,0],V82_fraction[:,:,1]])\n",
        "  #TOFN_dec0_REF_V55 = model_dec0.predict([REFERENCE_PULSE_dec0[:V55_fraction.shape[0],:,0],V55_fraction[:,:,0]])\n",
        "  #TOFN_dec1_REF_V55 = model_dec1.predict([REFERENCE_PULSE_dec1[:V55_fraction.shape[0],:,0],V55_fraction[:,:,1]])\n",
        "  #TOFN_dec0_REF_V28 = model_dec0.predict([REFERENCE_PULSE_dec0[:V28_fraction.shape[0],:,0],V28_fraction[:,:,0]])\n",
        "  #TOFN_dec1_REF_V28 = model_dec1.predict([REFERENCE_PULSE_dec1[:V28_fraction.shape[0],:,0],V28_fraction[:,:,1]])\n",
        "\n",
        "  TOFN_V82 = TOFN_dec0_REF_V82-TOFN_dec1_REF_V82\n",
        "  TOFN_V55 = TOFN_dec0_REF_V55-TOFN_dec1_REF_V55\n",
        "  TOFN_V28 = TOFN_dec0_REF_V28-TOFN_dec1_REF_V28\n",
        "\n",
        "  TOFN_V28_list.append(TOFN_V28)\n",
        "  TOFN_V55_list.append(TOFN_V55)\n",
        "  TOFN_V82_list.append(TOFN_V82)\n",
        "\n",
        "TOFN_V28_array = np.array(TOFN_V28_list, dtype = 'object')\n",
        "TOFN_V55_array = np.array(TOFN_V55_list, dtype = 'object')\n",
        "TOFN_V82_array = np.array(TOFN_V82_list, dtype = 'object')\n"
      ]
    },
    {
      "cell_type": "code",
      "execution_count": null,
      "metadata": {
        "colab": {
          "base_uri": "https://localhost:8080/"
        },
        "id": "kUK_Xc3Mj5aV",
        "outputId": "975a70d5-592a-4668-ce28-d7bb0c90314f"
      },
      "outputs": [
        {
          "name": "stdout",
          "output_type": "stream",
          "text": [
            "index: 0  0.084 0.010 0.085\n",
            "index: 1  0.092 0.035 0.098\n",
            "index: 2  0.081 0.013 0.082\n",
            "index: 3  0.084 0.023 0.087\n",
            "index: 4  0.096 0.039 0.104\n",
            "index: 5  0.096 0.025 0.099\n",
            "index: 6  0.085 0.024 0.088\n",
            "index: 7  0.092 0.175 0.198\n",
            "index: 8  0.088 0.030 0.093\n",
            "index: 9  0.072 0.007 0.073\n"
          ]
        }
      ],
      "source": [
        "for i in range(TOFN_V28_array.shape[0]):\n",
        "  centroid_V28 = -1*np.mean(TOFN_V28_array[i,:]) + np.mean(TOFN_V55_array[i,:])\n",
        "  centroid_V82 = -1*np.mean(TOFN_V82_array[i,:]) + np.mean(TOFN_V55_array[i,:])\n",
        "  mean_error_centroid = (abs(centroid_V28 + 0.2) + abs(centroid_V82-0.2)) / 2\n",
        "  mean_std = (np.std(TOFN_V82_array[i,:]) + np.std(TOFN_V55_array[i,:]) + np.std(TOFN_V28_array[i,:])) / 3\n",
        "\n",
        "  epsilon = np.sqrt(mean_error_centroid**2 + mean_std**2)\n",
        "  print('index: %d  %.3f %.3f %.3f' % (i, mean_std, mean_error_centroid,epsilon))"
      ]
    },
    {
      "cell_type": "code",
      "execution_count": null,
      "metadata": {
        "colab": {
          "base_uri": "https://localhost:8080/",
          "height": 501
        },
        "id": "N0XBAA8mj01-",
        "outputId": "d78e1504-871f-4aae-e9d4-c67ce02015f4"
      },
      "outputs": [
        {
          "name": "stdout",
          "output_type": "stream",
          "text": [
            "\n",
            "V82: CENTROID(ns) = 0.180  FWHM(ns) = 0.193  std(ns) = 0.078\n",
            "V55: CENTROID(ns) = 0.002  FWHM(ns) = 0.164  std(ns) = 0.069\n",
            "V28: CENTROID(ns) = -0.195  FWHM(ns) = 0.155  std(ns) = 0.071\n"
          ]
        },
        {
          "data": {
            "image/png": "[encoded data removed]",
            "text/plain": [
              "<Figure size 640x480 with 1 Axes>"
            ]
          },
          "metadata": {},
          "output_type": "display_data"
        }
      ],
      "source": [
        "index = 9\n",
        "#------------------------------------------- Histogram and gaussian fit -----------------------------------------------\n",
        "nbins=51\n",
        "histogN_V82, binsN, patchesN  = plt.hist(-1*(TOFN_V82_array[index]) + np.mean(TOFN_V55_array[index]),bins=nbins,range=[-0.8,0.8],alpha = 0.5,label='V82');\n",
        "cbinsN = 0.5*(binsN[1:]+binsN[0:-1])\n",
        "HN, AN, x0N_V82, sigmaN_V82 = gauss_fit(cbinsN, histogN_V82)\n",
        "\n",
        "histogN_V55, binsN, patchesN  = plt.hist(-1*(TOFN_V55_array[index]) + np.mean(TOFN_V55_array[index]),bins=nbins,range=[-0.8,0.8],alpha = 0.5,label='V55');\n",
        "cbinsN = 0.5*(binsN[1:]+binsN[0:-1])\n",
        "HN, AN, x0N_V55, sigmaN_V55 = gauss_fit(cbinsN, histogN_V55)\n",
        "\n",
        "histogN_V28, binsN, patchesN  = plt.hist(-1*(TOFN_V28_array[index]) + np.mean(TOFN_V55_array[index]),bins=nbins,range=[-0.8,0.8],alpha = 0.5,label='V28');\n",
        "cbinsN = 0.5*(binsN[1:]+binsN[0:-1])\n",
        "HN, AN, x0N_V28, sigmaN_V28 = gauss_fit(cbinsN, histogN_V28)\n",
        "plt.legend()\n",
        "\n",
        "\n",
        "FWHMN_V82 = 2.35482 * sigmaN_V82\n",
        "FWHMN_V55 = 2.35482 * sigmaN_V55\n",
        "FWHMN_V28 = 2.35482 * sigmaN_V28\n",
        "\n",
        "\n",
        "print('')\n",
        "print(\"V82: CENTROID(ns) = %.3f  FWHM(ns) = %.3f  std(ns) = %.3f\" % (x0N_V82, FWHMN_V82, np.std(TOFN_V82)))\n",
        "print(\"V55: CENTROID(ns) = %.3f  FWHM(ns) = %.3f  std(ns) = %.3f\" % (x0N_V55, FWHMN_V55, np.std(TOFN_V55)))\n",
        "print(\"V28: CENTROID(ns) = %.3f  FWHM(ns) = %.3f  std(ns) = %.3f\" % (x0N_V28, FWHMN_V28, np.std(TOFN_V28)))"
      ]
    },
    {
      "cell_type": "markdown",
      "metadata": {
        "id": "XCJOhleukjDD"
      },
      "source": [
        "# **SAVE MODELS**"
      ]
    },
    {
      "cell_type": "code",
      "execution_count": null,
      "metadata": {
        "id": "U19Zsq8yj4oX"
      },
      "outputs": [],
      "source": [
        "#from tensorflow.keras.models import save_model\n",
        "#model_dec0.save('/home/josea/PET_CABEZA/timing/model_dec0_28_02_2024_ONLY_REALS.h5')\n",
        "#model_dec1.save('/home/josea/PET_CABEZA/timing/model_dec1_28_02_2024_ONLY_REALS.h5')"
      ]
    }
  ],
  "metadata": {
    "accelerator": "GPU",
    "colab": {
      "gpuType": "T4",
      "provenance": [],
      "toc_visible": true
    },
    "kernelspec": {
      "display_name": "Python 3",
      "name": "python3"
    },
    "language_info": {
      "name": "python"
    }
  },
  "nbformat": 4,
  "nbformat_minor": 0
}
