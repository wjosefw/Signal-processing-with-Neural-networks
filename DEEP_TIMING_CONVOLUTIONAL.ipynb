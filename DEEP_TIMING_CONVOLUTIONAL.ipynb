{
  "cells": [
    {
      "cell_type": "markdown",
      "metadata": {
        "id": "-Yjvn94jdzSF"
      },
      "source": [
        "# **IMPORTADO DE MÓDULOS**"
      ]
    },
    {
      "cell_type": "code",
      "execution_count": null,
      "metadata": {
        "colab": {
          "base_uri": "https://localhost:8080/"
        },
        "id": "oz_-giGDdyi5",
        "outputId": "e876ae8a-dafa-45e3-e6f1-c8b931f07d74"
      },
      "outputs": [
        {
          "data": {
            "application/vnd.google.colaboratory.intrinsic+json": {
              "type": "string"
            },
            "text/plain": [
              "'2.15.0'"
            ]
          },
          "execution_count": 1,
          "metadata": {},
          "output_type": "execute_result"
        }
      ],
      "source": [
        "import numpy as np\n",
        "import numpy.matlib\n",
        "\n",
        "import os\n",
        "import matplotlib.pyplot as plt\n",
        "from scipy.interpolate import interp1d\n",
        "from scipy.ndimage import gaussian_filter1d\n",
        "\n",
        "import tensorflow as tf\n",
        "tf.version.VERSION"
      ]
    },
    {
      "cell_type": "code",
      "execution_count": null,
      "metadata": {
        "id": "0-ZfwGb2d88X"
      },
      "outputs": [],
      "source": [
        "from scipy.optimize import curve_fit\n",
        "#https://gist.github.com/cpascual/a03d0d49ddd2c87d7e84b9f4ad2df466\n",
        "def gauss(x, H, A, x0, sigma):\n",
        "    return H + A * np.exp(-(x - x0) ** 2 / (2 * sigma ** 2))\n",
        "def gauss_fit(x, y):\n",
        "    mean = sum(x * y) / sum(y)\n",
        "    sigma = np.sqrt(sum(y * (x - mean) ** 2) / sum(y))\n",
        "    popt, pcov = curve_fit(gauss, x, y, p0=[min(y), max(y), mean, sigma])\n",
        "    return popt"
      ]
    },
    {
      "cell_type": "code",
      "execution_count": null,
      "metadata": {
        "id": "j8F6eUNJ8G0w"
      },
      "outputs": [],
      "source": [
        "from tensorflow.keras.layers import Input\n",
        "from tensorflow.keras.models import Model, Sequential\n",
        "from tensorflow.keras.layers import Dense, LeakyReLU, Conv2D, MaxPooling2D, Flatten\n",
        "from tensorflow.keras import initializers\n",
        "from keras.regularizers import l2\n",
        "from keras.losses import mse\n",
        "import keras.backend as K"
      ]
    },
    {
      "cell_type": "code",
      "execution_count": null,
      "metadata": {
        "id": "mR9IsdkZk3Pj"
      },
      "outputs": [],
      "source": [
        "V55= np.load('/home/josea/Co60_5cm_5cm.npy')\n",
        "V28= np.load('/home/josea/Co60_2cm_8cm.npy')\n",
        "V82= np.load('/home/josea/Co60_8cm_2cm.npy')"
      ]
    },
    {
      "cell_type": "markdown",
      "metadata": {
        "id": "1JQ-3vIrTAYI"
      },
      "source": [
        "# **INTERPOLACION**"
      ]
    },
    {
      "cell_type": "code",
      "execution_count": null,
      "metadata": {
        "colab": {
          "base_uri": "https://localhost:8080/"
        },
        "id": "oUqzEW3zSmsO",
        "outputId": "65d2e880-1ffd-4457-d445-74e3bfea3396"
      },
      "outputs": [
        {
          "name": "stdout",
          "output_type": "stream",
          "text": [
            "Number of time points: 50\n",
            "Time step: 0.20\n",
            "New number of time points: 400\n",
            "New time step: 0.0250\n"
          ]
        }
      ],
      "source": [
        "start = 50\n",
        "stop = 80\n",
        "#--------------------------------Interpolar pulsos reales---------------------------------\n",
        "input = V28[:,start:stop,:]\n",
        "EXTRASAMPLING = 8\n",
        "Nt = np.shape(input)[1]\n",
        "Nt_new = Nt *  EXTRASAMPLING\n",
        "time_step = 0.2\n",
        "new_time_step = time_step / EXTRASAMPLING\n",
        "\n",
        "tiempo = np.linspace(0, Nt, Nt)\n",
        "tiempo_new = np.linspace(0,Nt,Nt_new)\n",
        "\n",
        "interp_func_V28 = interp1d(tiempo,V28[:,start:stop,:],  kind='cubic', axis=1)\n",
        "new_V28 = interp_func_V28(tiempo_new)\n",
        "\n",
        "interp_func_V55 = interp1d(tiempo,V55[:,start:stop,:],  kind='cubic', axis=1)\n",
        "new_V55 = interp_func_V55(tiempo_new)\n",
        "\n",
        "interp_func_V82 = interp1d(tiempo,V82[:,start:stop,:],  kind='cubic', axis=1)\n",
        "new_V82 = interp_func_V82(tiempo_new)\n",
        "\n",
        "print('Number of time points: %.d' % (Nt))\n",
        "print('Time step: %.2f' % (time_step))\n",
        "print('New number of time points: %.d' % (Nt_new))\n",
        "print('New time step: %.4f' % (new_time_step))"
      ]
    },
    {
      "cell_type": "markdown",
      "metadata": {
        "id": "8Al2zW_CTCym"
      },
      "source": [
        "# **NEURAL NETWORK**"
      ]
    },
    {
      "cell_type": "code",
      "execution_count": null,
      "metadata": {
        "id": "8c1U_cfELxtz"
      },
      "outputs": [],
      "source": [
        "def model_definition(N_points):\n",
        "\n",
        "  input_shape = (N_points,2,1)\n",
        "\n",
        "\n",
        "  model = Sequential()\n",
        "  model.add(Conv2D(filters=4, kernel_size=(2, 2), activation='relu', padding = 'same', input_shape=input_shape)) #ouput_dim = (N_points, 2, 16)\n",
        "  model.add(Conv2D(filters=8, kernel_size=(2, 2), activation='relu', padding = 'same')) #ouput_dim = (N_points, 2, 32)\n",
        "  model.add(MaxPooling2D((2, 2)))\n",
        "  model.add(Flatten())\n",
        "  model.add(Dense(4, activation='relu'))\n",
        "  model.add(Dense(1, activation='linear'))\n",
        "  return model"
      ]
    },
    {
      "cell_type": "code",
      "execution_count": null,
      "metadata": {
        "id": "DO8ncQeLQrlG"
      },
      "outputs": [],
      "source": [
        "model = model_definition(Nt_new)"
      ]
    },
    {
      "cell_type": "code",
      "execution_count": null,
      "metadata": {
        "colab": {
          "base_uri": "https://localhost:8080/"
        },
        "id": "FUyx0ov3RJOv",
        "outputId": "08c3512b-41cd-476e-efe4-456632f32e86"
      },
      "outputs": [
        {
          "name": "stdout",
          "output_type": "stream",
          "text": [
            "Model: \"sequential_6\"\n",
            "_________________________________________________________________\n",
            " Layer (type)                Output Shape              Param #   \n",
            "=================================================================\n",
            " conv2d_12 (Conv2D)          (None, 400, 2, 4)         40        \n",
            "                                                                 \n",
            " conv2d_13 (Conv2D)          (None, 400, 2, 8)         296       \n",
            "                                                                 \n",
            " max_pooling2d_6 (MaxPoolin  (None, 200, 1, 8)         0         \n",
            " g2D)                                                            \n",
            "                                                                 \n",
            " flatten_6 (Flatten)         (None, 1600)              0         \n",
            "                                                                 \n",
            " dense_12 (Dense)            (None, 4)                 6404      \n",
            "                                                                 \n",
            " dense_13 (Dense)            (None, 1)                 5         \n",
            "                                                                 \n",
            "=================================================================\n",
            "Total params: 6745 (26.35 KB)\n",
            "Trainable params: 6745 (26.35 KB)\n",
            "Non-trainable params: 0 (0.00 Byte)\n",
            "_________________________________________________________________\n"
          ]
        }
      ],
      "source": [
        "model.compile(optimizer='adam',loss='MSE')\n",
        "model.summary()"
      ]
    },
    {
      "cell_type": "code",
      "execution_count": null,
      "metadata": {
        "id": "XUEqIlzKTInX"
      },
      "outputs": [],
      "source": [
        "Ntrain_V55 = int(0.7*new_V55.shape[0])\n",
        "Ntrain_V28 = int(0.7*new_V28.shape[0])\n",
        "Ntrain_V82 = int(0.7*new_V82.shape[0])\n",
        "train_data = np.concatenate((new_V55[0:Ntrain_V55,:,:],new_V28[0:Ntrain_V28,:,:],new_V82[0:Ntrain_V82,:,:]),axis = 0)\n",
        "validation_data = np.concatenate((new_V55[Ntrain_V55:,:,:],new_V28[Ntrain_V28:,:,:],new_V82[Ntrain_V82:,:,:]),axis = 0)\n",
        "REF = np.zeros(train_data.shape[0])\n",
        "REF[0:Ntrain_V55] = 0\n",
        "REF[Ntrain_V55:Ntrain_V55 + Ntrain_V28] = -0.2\n",
        "REF[Ntrain_V55 + Ntrain_V28:] = 0.2"
      ]
    },
    {
      "cell_type": "code",
      "execution_count": null,
      "metadata": {
        "colab": {
          "base_uri": "https://localhost:8080/"
        },
        "id": "aWRxS8RaRQ6f",
        "outputId": "4bd6b14c-9892-4665-f431-dfaa5ff911ab"
      },
      "outputs": [
        {
          "name": "stdout",
          "output_type": "stream",
          "text": [
            "Epoch 1/50\n",
            "17/17 [==============================] - 2s 14ms/step - loss: 0.0268\n",
            "Epoch 2/50\n",
            "17/17 [==============================] - 0s 4ms/step - loss: 0.0251\n",
            "Epoch 3/50\n",
            "17/17 [==============================] - 0s 4ms/step - loss: 0.0250\n",
            "Epoch 4/50\n",
            "17/17 [==============================] - 0s 4ms/step - loss: 0.0249\n",
            "Epoch 5/50\n",
            "17/17 [==============================] - 0s 4ms/step - loss: 0.0248\n",
            "Epoch 6/50\n",
            "17/17 [==============================] - 0s 4ms/step - loss: 0.0248\n",
            "Epoch 7/50\n",
            "17/17 [==============================] - 0s 4ms/step - loss: 0.0248\n",
            "Epoch 8/50\n",
            "17/17 [==============================] - 0s 3ms/step - loss: 0.0248\n",
            "Epoch 9/50\n",
            "17/17 [==============================] - 0s 3ms/step - loss: 0.0248\n",
            "Epoch 10/50\n",
            "17/17 [==============================] - 0s 4ms/step - loss: 0.0248\n",
            "Epoch 11/50\n",
            "17/17 [==============================] - 0s 4ms/step - loss: 0.0248\n",
            "Epoch 12/50\n",
            "17/17 [==============================] - 0s 4ms/step - loss: 0.0248\n",
            "Epoch 13/50\n",
            "17/17 [==============================] - 0s 4ms/step - loss: 0.0248\n",
            "Epoch 14/50\n",
            "17/17 [==============================] - 0s 5ms/step - loss: 0.0248\n",
            "Epoch 15/50\n",
            "17/17 [==============================] - 0s 5ms/step - loss: 0.0247\n",
            "Epoch 16/50\n",
            "17/17 [==============================] - 0s 6ms/step - loss: 0.0248\n",
            "Epoch 17/50\n",
            "17/17 [==============================] - 0s 5ms/step - loss: 0.0248\n",
            "Epoch 18/50\n",
            "17/17 [==============================] - 0s 5ms/step - loss: 0.0248\n",
            "Epoch 19/50\n",
            "17/17 [==============================] - 0s 5ms/step - loss: 0.0248\n",
            "Epoch 20/50\n",
            "17/17 [==============================] - 0s 5ms/step - loss: 0.0248\n",
            "Epoch 21/50\n",
            "17/17 [==============================] - 0s 5ms/step - loss: 0.0248\n",
            "Epoch 22/50\n",
            "17/17 [==============================] - 0s 5ms/step - loss: 0.0248\n",
            "Epoch 23/50\n",
            "17/17 [==============================] - 0s 5ms/step - loss: 0.0248\n",
            "Epoch 24/50\n",
            "17/17 [==============================] - 0s 5ms/step - loss: 0.0248\n",
            "Epoch 25/50\n",
            "17/17 [==============================] - 0s 5ms/step - loss: 0.0247\n",
            "Epoch 26/50\n",
            "17/17 [==============================] - 0s 5ms/step - loss: 0.0248\n",
            "Epoch 27/50\n",
            "17/17 [==============================] - 0s 5ms/step - loss: 0.0248\n",
            "Epoch 28/50\n",
            "17/17 [==============================] - 0s 4ms/step - loss: 0.0248\n",
            "Epoch 29/50\n",
            "17/17 [==============================] - 0s 5ms/step - loss: 0.0248\n",
            "Epoch 30/50\n",
            "17/17 [==============================] - 0s 5ms/step - loss: 0.0248\n",
            "Epoch 31/50\n",
            "17/17 [==============================] - 0s 6ms/step - loss: 0.0248\n",
            "Epoch 32/50\n",
            "17/17 [==============================] - 0s 5ms/step - loss: 0.0248\n",
            "Epoch 33/50\n",
            "17/17 [==============================] - 0s 5ms/step - loss: 0.0248\n",
            "Epoch 34/50\n",
            "17/17 [==============================] - 0s 7ms/step - loss: 0.0248\n",
            "Epoch 35/50\n",
            "17/17 [==============================] - 0s 5ms/step - loss: 0.0248\n",
            "Epoch 36/50\n",
            "17/17 [==============================] - 0s 6ms/step - loss: 0.0248\n",
            "Epoch 37/50\n",
            "17/17 [==============================] - 0s 6ms/step - loss: 0.0248\n",
            "Epoch 38/50\n",
            "17/17 [==============================] - 0s 6ms/step - loss: 0.0248\n",
            "Epoch 39/50\n",
            "17/17 [==============================] - 0s 4ms/step - loss: 0.0248\n",
            "Epoch 40/50\n",
            "17/17 [==============================] - 0s 4ms/step - loss: 0.0248\n",
            "Epoch 41/50\n",
            "17/17 [==============================] - 0s 4ms/step - loss: 0.0248\n",
            "Epoch 42/50\n",
            "17/17 [==============================] - 0s 4ms/step - loss: 0.0248\n",
            "Epoch 43/50\n",
            "17/17 [==============================] - 0s 3ms/step - loss: 0.0248\n",
            "Epoch 44/50\n",
            "17/17 [==============================] - 0s 4ms/step - loss: 0.0248\n",
            "Epoch 45/50\n",
            "17/17 [==============================] - 0s 4ms/step - loss: 0.0248\n",
            "Epoch 46/50\n",
            "17/17 [==============================] - 0s 4ms/step - loss: 0.0248\n",
            "Epoch 47/50\n",
            "17/17 [==============================] - 0s 4ms/step - loss: 0.0248\n",
            "Epoch 48/50\n",
            "17/17 [==============================] - 0s 4ms/step - loss: 0.0248\n",
            "Epoch 49/50\n",
            "17/17 [==============================] - 0s 4ms/step - loss: 0.0248\n",
            "Epoch 50/50\n",
            "17/17 [==============================] - 0s 4ms/step - loss: 0.0248\n"
          ]
        }
      ],
      "source": [
        "history = model.fit(train_data, REF, epochs=50)"
      ]
    },
    {
      "cell_type": "code",
      "execution_count": null,
      "metadata": {
        "colab": {
          "base_uri": "https://localhost:8080/"
        },
        "id": "rtrL6OsPT1br",
        "outputId": "8915d574-83dd-4eb9-d4db-90f94ded8151"
      },
      "outputs": [
        {
          "name": "stdout",
          "output_type": "stream",
          "text": [
            "7/7 [==============================] - 0s 18ms/step\n"
          ]
        }
      ],
      "source": [
        "TOF = model.predict(validation_data)"
      ]
    },
    {
      "cell_type": "code",
      "execution_count": null,
      "metadata": {
        "colab": {
          "base_uri": "https://localhost:8080/"
        },
        "id": "2ftReNDUT8XD",
        "outputId": "e94b307b-6cb1-422a-c0bc-10a89b989905"
      },
      "outputs": [
        {
          "name": "stderr",
          "output_type": "stream",
          "text": [
            "<ipython-input-2-1a74867061f5>:4: RuntimeWarning: divide by zero encountered in divide\n",
            "  return H + A * np.exp(-(x - x0) ** 2 / (2 * sigma ** 2))\n",
            "<ipython-input-2-1a74867061f5>:4: RuntimeWarning: invalid value encountered in divide\n",
            "  return H + A * np.exp(-(x - x0) ** 2 / (2 * sigma ** 2))\n",
            "/usr/local/lib/python3.10/dist-packages/scipy/optimize/_minpack_py.py:1010: OptimizeWarning: Covariance of the parameters could not be estimated\n",
            "  warnings.warn('Covariance of the parameters could not be estimated',\n"
          ]
        },
        {
          "name": "stdout",
          "output_type": "stream",
          "text": [
            "\n",
            "V82: CENTROID(ns) = 0.013  FWHM(ns) = 0.000  std(ns) = 0.000\n",
            "V55: CENTROID(ns) = 0.013  FWHM(ns) = 0.000  std(ns) = 0.000\n",
            "V28: CENTROID(ns) = 0.013  FWHM(ns) = 0.000  std(ns) = 0.000\n"
          ]
        },
        {
          "data": {
            "image/png": "[encoded data removed]",
            "text/plain": [
              "<Figure size 640x480 with 1 Axes>"
            ]
          },
          "metadata": {},
          "output_type": "display_data"
        }
      ],
      "source": [
        "Nval_V28 = new_V28[Ntrain_V28:,:,:].shape[0]\n",
        "Nval_V55 = new_V55[Ntrain_V55:,:,:].shape[0]\n",
        "Nval_V82 = new_V82[Ntrain_V82:,:,:].shape[0]\n",
        "#------------------------------------------- Histogram and gaussian fit -----------------------------------------------\n",
        "nbins=64\n",
        "histogN_V82, binsN, patchesN  = plt.hist(TOF[Nval_V55 + Nval_V28:] - np.mean(TOF[0:Nval_V55]),bins=nbins,range=[-0.8,0.8],alpha = 0.5,label='V82');\n",
        "cbinsN = 0.5*(binsN[1:]+binsN[0:-1])\n",
        "HN, AN, x0N_V82, sigmaN_V82 = gauss_fit(cbinsN, histogN_V82)\n",
        "\n",
        "histogN_V55, binsN, patchesN  = plt.hist(TOF[0:Nval_V55] - np.mean(TOF[0:Nval_V55]),bins=nbins,range=[-0.8,0.8],alpha = 0.5,label='V55');\n",
        "cbinsN = 0.5*(binsN[1:]+binsN[0:-1])\n",
        "HN, AN, x0N_V55, sigmaN_V55 = gauss_fit(cbinsN, histogN_V55)\n",
        "\n",
        "histogN_V28, binsN, patchesN  = plt.hist(TOF[Nval_V55: Nval_V55 + Nval_V28] - np.mean(TOF[0:Nval_V55]),bins=nbins,range=[-0.8,0.8],alpha = 0.5,label='V28');\n",
        "cbinsN = 0.5*(binsN[1:]+binsN[0:-1])\n",
        "HN, AN, x0N_V28, sigmaN_V28 = gauss_fit(cbinsN, histogN_V28)\n",
        "plt.legend()\n",
        "\n",
        "\n",
        "FWHMN_V82 = 2.35482 * sigmaN_V82\n",
        "FWHMN_V55 = 2.35482 * sigmaN_V55\n",
        "FWHMN_V28 = 2.35482 * sigmaN_V28\n",
        "\n",
        "\n",
        "print('')\n",
        "print(\"V82: CENTROID(ns) = %.3f  FWHM(ns) = %.3f  std(ns) = %.3f\" % (x0N_V82, FWHMN_V82, sigmaN_V82))\n",
        "print(\"V55: CENTROID(ns) = %.3f  FWHM(ns) = %.3f  std(ns) = %.3f\" % (x0N_V55, FWHMN_V55, sigmaN_V55))\n",
        "print(\"V28: CENTROID(ns) = %.3f  FWHM(ns) = %.3f  std(ns) = %.3f\" % (x0N_V28, FWHMN_V28, sigmaN_V28))"
      ]
    },
    {
      "cell_type": "markdown",
      "metadata": {
        "id": "uZIemAJK7tId"
      },
      "source": [
        "# **DETECTOR 0**"
      ]
    },
    {
      "cell_type": "code",
      "execution_count": null,
      "metadata": {
        "id": "BkCs7_qSuAV8"
      },
      "outputs": [],
      "source": [
        "train_data = np.concatenate((new_V55,new_V28,new_V82),axis = 0)"
      ]
    },
    {
      "cell_type": "markdown",
      "metadata": {
        "id": "iUQlqFvh2NS7"
      },
      "source": [
        "## DATA CREATION\n"
      ]
    },
    {
      "cell_type": "code",
      "execution_count": null,
      "metadata": {
        "id": "WheTbSZ3ze9l"
      },
      "outputs": [],
      "source": [
        "Ncasos = train_data.shape[0]\n",
        "INPUT_dec0 = np.zeros_like(train_data)\n",
        "REF_dec0 = np.zeros((Ncasos,),dtype=np.float32)\n",
        "\n",
        "NRD0 = np.random.randint(20, size=Ncasos)\n",
        "NRD1 = np.random.randint(20, size=Ncasos)\n",
        "\n",
        "for i in range(Ncasos):\n",
        "  N0 = NRD0[i]\n",
        "  noise0 = np.random.normal(scale=1e-3, size=N0)\n",
        "  noise00 = np.random.normal(scale=0.01, size=INPUT_dec0.shape[1])\n",
        "  smoothed_noise = gaussian_filter1d(noise00, sigma=10)\n",
        "  INPUT_dec0[i,:,0]=np.roll(train_data[i,:,0],N0)\n",
        "  INPUT_dec0[i,:,0] = INPUT_dec0[i,:,0] + smoothed_noise\n",
        "  INPUT_dec0[i,0:N0,0] = noise0\n",
        "\n",
        "  N1 = NRD1[i]\n",
        "  noise1 = np.random.normal(scale=1e-3, size=N1)\n",
        "  noise11 = np.random.normal(scale=0.01, size=INPUT_dec0.shape[1])\n",
        "  smoothed_noise = gaussian_filter1d(noise11, sigma=10)\n",
        "  INPUT_dec0[i,:,1]=np.roll(train_data[i,:,0],N1)\n",
        "  INPUT_dec0[i,:,1] = INPUT_dec0[i,:,1] + smoothed_noise\n",
        "  INPUT_dec0[i,0:N1,1] = noise1\n",
        "\n",
        "  REF_dec0[i]=new_time_step*(N0-N1)  #in ns (t_shift is defined above)\n",
        "\n",
        "\n",
        "\n",
        "trainX_dec0 = INPUT_dec0[:,:,:]\n",
        "REF_train_dec0 = REF_dec0[:]"
      ]
    },
    {
      "cell_type": "markdown",
      "metadata": {
        "id": "Frtk8qxweE3g"
      },
      "source": [
        "## NEURAL NETWORK"
      ]
    },
    {
      "cell_type": "code",
      "execution_count": null,
      "metadata": {
        "id": "65rAV2_9ujG7"
      },
      "outputs": [],
      "source": [
        "model_dec0 = model_definition(Nt_new)"
      ]
    },
    {
      "cell_type": "code",
      "execution_count": null,
      "metadata": {
        "colab": {
          "base_uri": "https://localhost:8080/"
        },
        "id": "d-Zd81FSQRo9",
        "outputId": "2849151f-8d3e-4f3f-8fc6-68c0d29f8ec2"
      },
      "outputs": [
        {
          "name": "stdout",
          "output_type": "stream",
          "text": [
            "Model: \"sequential_9\"\n",
            "_________________________________________________________________\n",
            " Layer (type)                Output Shape              Param #   \n",
            "=================================================================\n",
            " conv2d_18 (Conv2D)          (None, 400, 2, 4)         40        \n",
            "                                                                 \n",
            " conv2d_19 (Conv2D)          (None, 400, 2, 8)         296       \n",
            "                                                                 \n",
            " max_pooling2d_9 (MaxPoolin  (None, 200, 1, 8)         0         \n",
            " g2D)                                                            \n",
            "                                                                 \n",
            " flatten_9 (Flatten)         (None, 1600)              0         \n",
            "                                                                 \n",
            " dense_18 (Dense)            (None, 4)                 6404      \n",
            "                                                                 \n",
            " dense_19 (Dense)            (None, 1)                 5         \n",
            "                                                                 \n",
            "=================================================================\n",
            "Total params: 6745 (26.35 KB)\n",
            "Trainable params: 6745 (26.35 KB)\n",
            "Non-trainable params: 0 (0.00 Byte)\n",
            "_________________________________________________________________\n"
          ]
        }
      ],
      "source": [
        "opt = tf.keras.optimizers.AdamW(learning_rate=1e-4)\n",
        "model_dec0.compile(optimizer=opt, loss = 'MSE')\n",
        "model_dec0.summary()"
      ]
    },
    {
      "cell_type": "code",
      "execution_count": null,
      "metadata": {
        "colab": {
          "base_uri": "https://localhost:8080/"
        },
        "id": "KpUS33nIavL3",
        "outputId": "df4dceff-6688-4e7d-9125-5895aebdcb85"
      },
      "outputs": [
        {
          "name": "stdout",
          "output_type": "stream",
          "text": [
            "Epoch 1/50\n",
            "19/19 [==============================] - 1s 12ms/step - loss: 0.0435 - val_loss: 0.0412\n",
            "Epoch 2/50\n",
            "19/19 [==============================] - 0s 6ms/step - loss: 0.0430 - val_loss: 0.0412\n",
            "Epoch 3/50\n",
            "19/19 [==============================] - 0s 5ms/step - loss: 0.0429 - val_loss: 0.0412\n",
            "Epoch 4/50\n",
            "19/19 [==============================] - 0s 5ms/step - loss: 0.0428 - val_loss: 0.0412\n",
            "Epoch 5/50\n",
            "19/19 [==============================] - 0s 5ms/step - loss: 0.0428 - val_loss: 0.0411\n",
            "Epoch 6/50\n",
            "19/19 [==============================] - 0s 5ms/step - loss: 0.0427 - val_loss: 0.0411\n",
            "Epoch 7/50\n",
            "19/19 [==============================] - 0s 6ms/step - loss: 0.0427 - val_loss: 0.0411\n",
            "Epoch 8/50\n",
            "19/19 [==============================] - 0s 6ms/step - loss: 0.0427 - val_loss: 0.0411\n",
            "Epoch 9/50\n",
            "19/19 [==============================] - 0s 6ms/step - loss: 0.0426 - val_loss: 0.0411\n",
            "Epoch 10/50\n",
            "19/19 [==============================] - 0s 6ms/step - loss: 0.0426 - val_loss: 0.0410\n",
            "Epoch 11/50\n",
            "19/19 [==============================] - 0s 6ms/step - loss: 0.0426 - val_loss: 0.0410\n",
            "Epoch 12/50\n",
            "19/19 [==============================] - 0s 5ms/step - loss: 0.0425 - val_loss: 0.0409\n",
            "Epoch 13/50\n",
            "19/19 [==============================] - 0s 6ms/step - loss: 0.0424 - val_loss: 0.0408\n",
            "Epoch 14/50\n",
            "19/19 [==============================] - 0s 5ms/step - loss: 0.0423 - val_loss: 0.0407\n",
            "Epoch 15/50\n",
            "19/19 [==============================] - 0s 6ms/step - loss: 0.0422 - val_loss: 0.0405\n",
            "Epoch 16/50\n",
            "19/19 [==============================] - 0s 5ms/step - loss: 0.0420 - val_loss: 0.0403\n",
            "Epoch 17/50\n",
            "19/19 [==============================] - 0s 6ms/step - loss: 0.0418 - val_loss: 0.0400\n",
            "Epoch 18/50\n",
            "19/19 [==============================] - 0s 5ms/step - loss: 0.0415 - val_loss: 0.0396\n",
            "Epoch 19/50\n",
            "19/19 [==============================] - 0s 6ms/step - loss: 0.0411 - val_loss: 0.0391\n",
            "Epoch 20/50\n",
            "19/19 [==============================] - 0s 5ms/step - loss: 0.0403 - val_loss: 0.0380\n",
            "Epoch 21/50\n",
            "19/19 [==============================] - 0s 6ms/step - loss: 0.0393 - val_loss: 0.0371\n",
            "Epoch 22/50\n",
            "19/19 [==============================] - 0s 5ms/step - loss: 0.0385 - val_loss: 0.0362\n",
            "Epoch 23/50\n",
            "19/19 [==============================] - 0s 6ms/step - loss: 0.0376 - val_loss: 0.0353\n",
            "Epoch 24/50\n",
            "19/19 [==============================] - 0s 6ms/step - loss: 0.0368 - val_loss: 0.0344\n",
            "Epoch 25/50\n",
            "19/19 [==============================] - 0s 6ms/step - loss: 0.0359 - val_loss: 0.0335\n",
            "Epoch 26/50\n",
            "19/19 [==============================] - 0s 5ms/step - loss: 0.0350 - val_loss: 0.0326\n",
            "Epoch 27/50\n",
            "19/19 [==============================] - 0s 6ms/step - loss: 0.0340 - val_loss: 0.0315\n",
            "Epoch 28/50\n",
            "19/19 [==============================] - 0s 5ms/step - loss: 0.0331 - val_loss: 0.0305\n",
            "Epoch 29/50\n",
            "19/19 [==============================] - 0s 5ms/step - loss: 0.0321 - val_loss: 0.0295\n",
            "Epoch 30/50\n",
            "19/19 [==============================] - 0s 5ms/step - loss: 0.0311 - val_loss: 0.0284\n",
            "Epoch 31/50\n",
            "19/19 [==============================] - 0s 6ms/step - loss: 0.0302 - val_loss: 0.0275\n",
            "Epoch 32/50\n",
            "19/19 [==============================] - 0s 7ms/step - loss: 0.0291 - val_loss: 0.0264\n",
            "Epoch 33/50\n",
            "19/19 [==============================] - 0s 8ms/step - loss: 0.0282 - val_loss: 0.0254\n",
            "Epoch 34/50\n",
            "19/19 [==============================] - 0s 8ms/step - loss: 0.0273 - val_loss: 0.0244\n",
            "Epoch 35/50\n",
            "19/19 [==============================] - 0s 8ms/step - loss: 0.0262 - val_loss: 0.0236\n",
            "Epoch 36/50\n",
            "19/19 [==============================] - 0s 7ms/step - loss: 0.0254 - val_loss: 0.0226\n",
            "Epoch 37/50\n",
            "19/19 [==============================] - 0s 8ms/step - loss: 0.0244 - val_loss: 0.0216\n",
            "Epoch 38/50\n",
            "19/19 [==============================] - 0s 7ms/step - loss: 0.0235 - val_loss: 0.0210\n",
            "Epoch 39/50\n",
            "19/19 [==============================] - 0s 7ms/step - loss: 0.0228 - val_loss: 0.0199\n",
            "Epoch 40/50\n",
            "19/19 [==============================] - 0s 8ms/step - loss: 0.0219 - val_loss: 0.0191\n",
            "Epoch 41/50\n",
            "19/19 [==============================] - 0s 8ms/step - loss: 0.0211 - val_loss: 0.0183\n",
            "Epoch 42/50\n",
            "19/19 [==============================] - 0s 8ms/step - loss: 0.0203 - val_loss: 0.0176\n",
            "Epoch 43/50\n",
            "19/19 [==============================] - 0s 8ms/step - loss: 0.0196 - val_loss: 0.0169\n",
            "Epoch 44/50\n",
            "19/19 [==============================] - 0s 8ms/step - loss: 0.0189 - val_loss: 0.0162\n",
            "Epoch 45/50\n",
            "19/19 [==============================] - 0s 7ms/step - loss: 0.0182 - val_loss: 0.0157\n",
            "Epoch 46/50\n",
            "19/19 [==============================] - 0s 5ms/step - loss: 0.0177 - val_loss: 0.0150\n",
            "Epoch 47/50\n",
            "19/19 [==============================] - 0s 5ms/step - loss: 0.0170 - val_loss: 0.0143\n",
            "Epoch 48/50\n",
            "19/19 [==============================] - 0s 5ms/step - loss: 0.0164 - val_loss: 0.0136\n",
            "Epoch 49/50\n",
            "19/19 [==============================] - 0s 6ms/step - loss: 0.0157 - val_loss: 0.0129\n",
            "Epoch 50/50\n",
            "19/19 [==============================] - 0s 6ms/step - loss: 0.0150 - val_loss: 0.0124\n"
          ]
        }
      ],
      "source": [
        "history_dec0 = model_dec0.fit(trainX_dec0, REF_train_dec0, epochs=50)"
      ]
    },
    {
      "cell_type": "code",
      "execution_count": null,
      "metadata": {
        "colab": {
          "base_uri": "https://localhost:8080/"
        },
        "id": "pV-mcoxzmXUk",
        "outputId": "e8fefb00-7b24-4743-e654-23f058e2f46f"
      },
      "outputs": [
        {
          "data": {
            "image/png": "[encoded data removed]",
            "text/plain": [
              "<Figure size 600x400 with 1 Axes>"
            ]
          },
          "metadata": {},
          "output_type": "display_data"
        }
      ],
      "source": [
        "plt.figure(figsize=(6,4))\n",
        "plt.plot(history_dec0.history['loss'])\n",
        "plt.plot(history_dec0.history['val_loss'])\n",
        "plt.title('model loss')\n",
        "plt.ylabel('loss')\n",
        "plt.xlabel('epoch')\n",
        "plt.legend(['train', 'val'], loc='upper right')\n",
        "plt.show()"
      ]
    },
    {
      "cell_type": "markdown",
      "metadata": {
        "id": "ipFbBX71wYy_"
      },
      "source": [
        "# **DETECTOR 1**"
      ]
    },
    {
      "cell_type": "markdown",
      "metadata": {
        "id": "259gFe0rwYzP"
      },
      "source": [
        "## DATA CREATION\n"
      ]
    },
    {
      "cell_type": "code",
      "execution_count": null,
      "metadata": {
        "id": "uQgKWHUewYzP"
      },
      "outputs": [],
      "source": [
        "Ncasos = train_data.shape[0]\n",
        "INPUT_dec1 = np.zeros_like(train_data)\n",
        "REF_dec1 = np.zeros((Ncasos,),dtype=np.float32)\n",
        "\n",
        "NRD0 = np.random.randint(20, size=Ncasos)\n",
        "NRD1 = np.random.randint(20, size=Ncasos)\n",
        "\n",
        "for i in range(Ncasos):\n",
        "  N0 = NRD0[i]\n",
        "  noise0 = np.random.normal(scale=1e-3, size=N0)\n",
        "  noise00 = np.random.normal(scale=0.01, size=INPUT_dec1.shape[1])\n",
        "  smoothed_noise = gaussian_filter1d(noise00, sigma=10)\n",
        "  INPUT_dec1[i,:,0]=np.roll(train_data[i,:,1],N0)\n",
        "  INPUT_dec1[i,:,0] = INPUT_dec1[i,:,0] + smoothed_noise\n",
        "  INPUT_dec1[i,0:N0,0] = noise0\n",
        "\n",
        "  N1 = NRD1[i]\n",
        "  noise1 = np.random.normal(scale=1e-3, size=N1)\n",
        "  noise11 = np.random.normal(scale=0.01, size=INPUT_dec1.shape[1])\n",
        "  smoothed_noise = gaussian_filter1d(noise11, sigma=10)\n",
        "  INPUT_dec1[i,:,1]=np.roll(train_data[i,:,1],N1)\n",
        "  INPUT_dec1[i,:,1] = INPUT_dec1[i,:,1] + smoothed_noise\n",
        "  INPUT_dec1[i,0:N1,1] = noise1\n",
        "\n",
        "  REF_dec1[i]=new_time_step*(N0-N1)  #in ns (t_shift is defined above)\n",
        "\n",
        "\n",
        "\n",
        "trainX_dec1 = INPUT_dec1[:,:,:]\n",
        "REF_train_dec1 = REF_dec1[:]"
      ]
    },
    {
      "cell_type": "markdown",
      "metadata": {
        "id": "_x1o7HhJwYzQ"
      },
      "source": [
        "## NEURAL NETWORK"
      ]
    },
    {
      "cell_type": "code",
      "execution_count": null,
      "metadata": {
        "id": "EAQKYiImwYzQ"
      },
      "outputs": [],
      "source": [
        "model_dec1 = model_definition(Nt_new)"
      ]
    },
    {
      "cell_type": "code",
      "execution_count": null,
      "metadata": {
        "colab": {
          "base_uri": "https://localhost:8080/"
        },
        "id": "9Lw5edcUwYzQ",
        "outputId": "f2ff04d9-94bd-495b-81af-13916e78b8ca"
      },
      "outputs": [
        {
          "name": "stdout",
          "output_type": "stream",
          "text": [
            "Model: \"sequential_10\"\n",
            "_________________________________________________________________\n",
            " Layer (type)                Output Shape              Param #   \n",
            "=================================================================\n",
            " conv2d_20 (Conv2D)          (None, 400, 2, 4)         40        \n",
            "                                                                 \n",
            " conv2d_21 (Conv2D)          (None, 400, 2, 8)         296       \n",
            "                                                                 \n",
            " max_pooling2d_10 (MaxPooli  (None, 200, 1, 8)         0         \n",
            " ng2D)                                                           \n",
            "                                                                 \n",
            " flatten_10 (Flatten)        (None, 1600)              0         \n",
            "                                                                 \n",
            " dense_20 (Dense)            (None, 4)                 6404      \n",
            "                                                                 \n",
            " dense_21 (Dense)            (None, 1)                 5         \n",
            "                                                                 \n",
            "=================================================================\n",
            "Total params: 6745 (26.35 KB)\n",
            "Trainable params: 6745 (26.35 KB)\n",
            "Non-trainable params: 0 (0.00 Byte)\n",
            "_________________________________________________________________\n"
          ]
        }
      ],
      "source": [
        "opt = tf.keras.optimizers.AdamW(learning_rate=1e-4)\n",
        "model_dec1.compile(optimizer=opt, loss = 'MSE')\n",
        "model_dec1.summary()"
      ]
    },
    {
      "cell_type": "code",
      "execution_count": null,
      "metadata": {
        "colab": {
          "base_uri": "https://localhost:8080/"
        },
        "id": "1RYOFvsEwYzQ",
        "outputId": "51baacd2-729d-4ca0-eb2a-3fb0385f781f"
      },
      "outputs": [
        {
          "name": "stdout",
          "output_type": "stream",
          "text": [
            "Epoch 1/50\n",
            "19/19 [==============================] - 1s 13ms/step - loss: 0.0446 - val_loss: 0.0449\n",
            "Epoch 2/50\n",
            "19/19 [==============================] - 0s 6ms/step - loss: 0.0446 - val_loss: 0.0449\n",
            "Epoch 3/50\n",
            "19/19 [==============================] - 0s 6ms/step - loss: 0.0446 - val_loss: 0.0449\n",
            "Epoch 4/50\n",
            "19/19 [==============================] - 0s 6ms/step - loss: 0.0446 - val_loss: 0.0449\n",
            "Epoch 5/50\n",
            "19/19 [==============================] - 0s 5ms/step - loss: 0.0446 - val_loss: 0.0449\n",
            "Epoch 6/50\n",
            "19/19 [==============================] - 0s 6ms/step - loss: 0.0446 - val_loss: 0.0449\n",
            "Epoch 7/50\n",
            "19/19 [==============================] - 0s 5ms/step - loss: 0.0446 - val_loss: 0.0449\n",
            "Epoch 8/50\n",
            "19/19 [==============================] - 0s 6ms/step - loss: 0.0446 - val_loss: 0.0450\n",
            "Epoch 9/50\n",
            "19/19 [==============================] - 0s 5ms/step - loss: 0.0446 - val_loss: 0.0450\n",
            "Epoch 10/50\n",
            "19/19 [==============================] - 0s 5ms/step - loss: 0.0446 - val_loss: 0.0450\n",
            "Epoch 11/50\n",
            "19/19 [==============================] - 0s 6ms/step - loss: 0.0446 - val_loss: 0.0450\n",
            "Epoch 12/50\n",
            "19/19 [==============================] - 0s 6ms/step - loss: 0.0446 - val_loss: 0.0450\n",
            "Epoch 13/50\n",
            "19/19 [==============================] - 0s 5ms/step - loss: 0.0446 - val_loss: 0.0450\n",
            "Epoch 14/50\n",
            "19/19 [==============================] - 0s 6ms/step - loss: 0.0446 - val_loss: 0.0450\n",
            "Epoch 15/50\n",
            "19/19 [==============================] - 0s 6ms/step - loss: 0.0446 - val_loss: 0.0450\n",
            "Epoch 16/50\n",
            "19/19 [==============================] - 0s 5ms/step - loss: 0.0446 - val_loss: 0.0450\n",
            "Epoch 17/50\n",
            "19/19 [==============================] - 0s 5ms/step - loss: 0.0446 - val_loss: 0.0450\n",
            "Epoch 18/50\n",
            "19/19 [==============================] - 0s 6ms/step - loss: 0.0446 - val_loss: 0.0450\n",
            "Epoch 19/50\n",
            "19/19 [==============================] - 0s 6ms/step - loss: 0.0446 - val_loss: 0.0450\n",
            "Epoch 20/50\n",
            "19/19 [==============================] - 0s 7ms/step - loss: 0.0446 - val_loss: 0.0450\n",
            "Epoch 21/50\n",
            "19/19 [==============================] - 0s 5ms/step - loss: 0.0445 - val_loss: 0.0450\n",
            "Epoch 22/50\n",
            "19/19 [==============================] - 0s 5ms/step - loss: 0.0445 - val_loss: 0.0451\n",
            "Epoch 23/50\n",
            "19/19 [==============================] - 0s 8ms/step - loss: 0.0445 - val_loss: 0.0451\n",
            "Epoch 24/50\n",
            "19/19 [==============================] - 0s 8ms/step - loss: 0.0445 - val_loss: 0.0451\n",
            "Epoch 25/50\n",
            "19/19 [==============================] - 0s 8ms/step - loss: 0.0445 - val_loss: 0.0451\n",
            "Epoch 26/50\n",
            "19/19 [==============================] - 0s 7ms/step - loss: 0.0445 - val_loss: 0.0451\n",
            "Epoch 27/50\n",
            "19/19 [==============================] - 0s 7ms/step - loss: 0.0445 - val_loss: 0.0451\n",
            "Epoch 28/50\n",
            "19/19 [==============================] - 0s 8ms/step - loss: 0.0445 - val_loss: 0.0451\n",
            "Epoch 29/50\n",
            "19/19 [==============================] - 0s 7ms/step - loss: 0.0445 - val_loss: 0.0451\n",
            "Epoch 30/50\n",
            "19/19 [==============================] - 0s 7ms/step - loss: 0.0445 - val_loss: 0.0451\n",
            "Epoch 31/50\n",
            "19/19 [==============================] - 0s 7ms/step - loss: 0.0445 - val_loss: 0.0451\n",
            "Epoch 32/50\n",
            "19/19 [==============================] - 0s 8ms/step - loss: 0.0445 - val_loss: 0.0451\n",
            "Epoch 33/50\n",
            "19/19 [==============================] - 0s 8ms/step - loss: 0.0445 - val_loss: 0.0451\n",
            "Epoch 34/50\n",
            "19/19 [==============================] - 0s 7ms/step - loss: 0.0445 - val_loss: 0.0451\n",
            "Epoch 35/50\n",
            "19/19 [==============================] - 0s 9ms/step - loss: 0.0445 - val_loss: 0.0451\n",
            "Epoch 36/50\n",
            "19/19 [==============================] - 0s 8ms/step - loss: 0.0445 - val_loss: 0.0451\n",
            "Epoch 37/50\n",
            "19/19 [==============================] - 0s 7ms/step - loss: 0.0445 - val_loss: 0.0451\n",
            "Epoch 38/50\n",
            "19/19 [==============================] - 0s 6ms/step - loss: 0.0445 - val_loss: 0.0451\n",
            "Epoch 39/50\n",
            "19/19 [==============================] - 0s 6ms/step - loss: 0.0445 - val_loss: 0.0451\n",
            "Epoch 40/50\n",
            "19/19 [==============================] - 0s 6ms/step - loss: 0.0445 - val_loss: 0.0452\n",
            "Epoch 41/50\n",
            "19/19 [==============================] - 0s 5ms/step - loss: 0.0445 - val_loss: 0.0452\n",
            "Epoch 42/50\n",
            "19/19 [==============================] - 0s 6ms/step - loss: 0.0445 - val_loss: 0.0452\n",
            "Epoch 43/50\n",
            "19/19 [==============================] - 0s 6ms/step - loss: 0.0445 - val_loss: 0.0452\n",
            "Epoch 44/50\n",
            "19/19 [==============================] - 0s 6ms/step - loss: 0.0445 - val_loss: 0.0452\n",
            "Epoch 45/50\n",
            "19/19 [==============================] - 0s 6ms/step - loss: 0.0445 - val_loss: 0.0452\n",
            "Epoch 46/50\n",
            "19/19 [==============================] - 0s 5ms/step - loss: 0.0445 - val_loss: 0.0452\n",
            "Epoch 47/50\n",
            "19/19 [==============================] - 0s 6ms/step - loss: 0.0445 - val_loss: 0.0452\n",
            "Epoch 48/50\n",
            "19/19 [==============================] - 0s 5ms/step - loss: 0.0445 - val_loss: 0.0452\n",
            "Epoch 49/50\n",
            "19/19 [==============================] - 0s 6ms/step - loss: 0.0445 - val_loss: 0.0452\n",
            "Epoch 50/50\n",
            "19/19 [==============================] - 0s 6ms/step - loss: 0.0445 - val_loss: 0.0452\n"
          ]
        }
      ],
      "source": [
        "history_dec1 = model_dec1.fit(trainX_dec1, REF_train_dec1, epochs=50)"
      ]
    },
    {
      "cell_type": "code",
      "execution_count": null,
      "metadata": {
        "colab": {
          "base_uri": "https://localhost:8080/"
        },
        "id": "cskympQdwYzQ",
        "outputId": "339399f2-d412-417a-dcca-bd44e616c334"
      },
      "outputs": [
        {
          "data": {
            "image/png": "[encoded data removed]",
            "text/plain": [
              "<Figure size 600x400 with 1 Axes>"
            ]
          },
          "metadata": {},
          "output_type": "display_data"
        }
      ],
      "source": [
        "plt.figure(figsize=(6,4))\n",
        "plt.plot(history_dec1.history['loss'])\n",
        "plt.plot(history_dec1.history['val_loss'])\n",
        "plt.title('model loss')\n",
        "plt.ylabel('loss')\n",
        "plt.xlabel('epoch')\n",
        "plt.legend(['train', 'val'], loc='upper right')\n",
        "plt.show()"
      ]
    },
    {
      "cell_type": "markdown",
      "metadata": {
        "id": "pys0LcykPSER"
      },
      "source": [
        "# **FULL TOF**"
      ]
    },
    {
      "cell_type": "code",
      "execution_count": null,
      "metadata": {
        "id": "jh114PIbgZdH"
      },
      "outputs": [],
      "source": [
        "REFERENCE_PULSE_dec0 = np.tile(new_V55[0,:,0], (new_V82.shape[0],2,1)).swapaxes(1,2)\n",
        "REFERENCE_PULSE_dec1 = np.tile(new_V55[0,:,1], (new_V82.shape[0],2,1)).swapaxes(1,2)"
      ]
    },
    {
      "cell_type": "code",
      "execution_count": null,
      "metadata": {
        "id": "bAgFdeGLxovc"
      },
      "outputs": [],
      "source": [
        "test_dec0_V28 = np.stack((REFERENCE_PULSE_dec0[:new_V28.shape[0],:,0],new_V28[:,:,0]),axis=2)\n",
        "test_dec1_V28 = np.stack((REFERENCE_PULSE_dec1[:new_V28.shape[0],:,0],new_V28[:,:,1]),axis=2)\n",
        "test_dec0_V55 = np.stack((REFERENCE_PULSE_dec0[:new_V55.shape[0],:,0],new_V55[:,:,0]),axis=2)\n",
        "test_dec1_V55 = np.stack((REFERENCE_PULSE_dec1[:new_V55.shape[0],:,0],new_V55[:,:,1]),axis=2)\n",
        "test_dec0_V82 = np.stack((REFERENCE_PULSE_dec0[:new_V82.shape[0],:,0],new_V82[:,:,0]),axis=2)\n",
        "test_dec1_V82 = np.stack((REFERENCE_PULSE_dec1[:new_V82.shape[0],:,0],new_V82[:,:,1]),axis=2)"
      ]
    },
    {
      "cell_type": "code",
      "execution_count": null,
      "metadata": {
        "colab": {
          "base_uri": "https://localhost:8080/"
        },
        "id": "yMRQlzuHjyYC",
        "outputId": "c62860a1-d355-4779-f343-bc63024ede3e"
      },
      "outputs": [
        {
          "name": "stdout",
          "output_type": "stream",
          "text": [
            "9/9 [==============================] - 0s 2ms/step\n",
            "9/9 [==============================] - 0s 2ms/step\n",
            "9/9 [==============================] - 0s 2ms/step\n",
            "9/9 [==============================] - 0s 2ms/step\n",
            "6/6 [==============================] - 0s 2ms/step\n",
            "6/6 [==============================] - 0s 2ms/step\n",
            "\n",
            "V82: CENTROID(ns) = -0.053  FWHM(ns) = 0.017  std(ns) = 0.075\n",
            "V55: CENTROID(ns) = -0.052  FWHM(ns) = 0.018  std(ns) = 0.108\n",
            "V28: CENTROID(ns) = -0.054  FWHM(ns) = 0.017  std(ns) = 0.025\n"
          ]
        },
        {
          "data": {
            "image/png": "[encoded data removed]",
            "text/plain": [
              "<Figure size 640x480 with 1 Axes>"
            ]
          },
          "metadata": {},
          "output_type": "display_data"
        }
      ],
      "source": [
        "TOFN_dec0_REF_V82 = model_dec0.predict(test_dec0_V82)\n",
        "TOFN_dec1_REF_V82 = model_dec1.predict(test_dec1_V82)\n",
        "TOFN_dec0_REF_V55 = model_dec0.predict(test_dec0_V55)\n",
        "TOFN_dec1_REF_V55 = model_dec1.predict(test_dec1_V55)\n",
        "TOFN_dec0_REF_V28 = model_dec0.predict(test_dec0_V28)\n",
        "TOFN_dec1_REF_V28 = model_dec1.predict(test_dec1_V28)\n",
        "\n",
        "\n",
        "TOFN_V82 = TOFN_dec0_REF_V82-TOFN_dec1_REF_V82\n",
        "TOFN_V55 = TOFN_dec0_REF_V55-TOFN_dec1_REF_V55\n",
        "TOFN_V28 = TOFN_dec0_REF_V28-TOFN_dec1_REF_V28\n",
        "\n",
        "\n",
        "#------------------------------------------- Histogram and gaussian fit -----------------------------------------------\n",
        "nbins=51\n",
        "histogN_V82, binsN, patchesN  = plt.hist(-1*TOFN_V82 + np.mean(TOFN_V55),bins=nbins,range=[-0.8,0.8],alpha = 0.5,label='V82');\n",
        "cbinsN = 0.5*(binsN[1:]+binsN[0:-1])\n",
        "HN, AN, x0N_V82, sigmaN_V82 = gauss_fit(cbinsN, histogN_V82)\n",
        "\n",
        "histogN_V55, binsN, patchesN  = plt.hist(-1*TOFN_V55 + np.mean(TOFN_V55),bins=nbins,range=[-0.8,0.8],alpha = 0.5,label='V55');\n",
        "cbinsN = 0.5*(binsN[1:]+binsN[0:-1])\n",
        "HN, AN, x0N_V55, sigmaN_V55 = gauss_fit(cbinsN, histogN_V55)\n",
        "\n",
        "histogN_V28, binsN, patchesN  = plt.hist(-1*TOFN_V28 + np.mean(TOFN_V55),bins=nbins,range=[-0.8,0.8],alpha = 0.5,label='V28');\n",
        "cbinsN = 0.5*(binsN[1:]+binsN[0:-1])\n",
        "HN, AN, x0N_V28, sigmaN_V28 = gauss_fit(cbinsN, histogN_V28)\n",
        "plt.legend()\n",
        "\n",
        "\n",
        "FWHMN_V82 = 2.35482 * sigmaN_V82\n",
        "FWHMN_V55 = 2.35482 * sigmaN_V55\n",
        "FWHMN_V28 = 2.35482 * sigmaN_V28\n",
        "\n",
        "\n",
        "print('')\n",
        "print(\"V82: CENTROID(ns) = %.3f  FWHM(ns) = %.3f  std(ns) = %.3f\" % (x0N_V82, FWHMN_V82, np.std(TOFN_V82)))\n",
        "print(\"V55: CENTROID(ns) = %.3f  FWHM(ns) = %.3f  std(ns) = %.3f\" % (x0N_V55, FWHMN_V55, np.std(TOFN_V55)))\n",
        "print(\"V28: CENTROID(ns) = %.3f  FWHM(ns) = %.3f  std(ns) = %.3f\" % (x0N_V28, FWHMN_V28, np.std(TOFN_V28)))"
      ]
    },
    {
      "cell_type": "markdown",
      "metadata": {
        "id": "a4DG9O0bcDBN"
      },
      "source": [
        "# **MULTIPLE TRAINING**"
      ]
    },
    {
      "cell_type": "code",
      "execution_count": null,
      "metadata": {
        "id": "gcSvBVuoDXBh"
      },
      "outputs": [],
      "source": [
        "Ntries= 30\n",
        "\n",
        "TOFN_V28_list = []\n",
        "TOFN_V55_list = []\n",
        "TOFN_V82_list = []\n",
        "\n",
        "\n",
        "directory = '/home/josea/DEEP_TIMING/convolucional'\n",
        "\n",
        "for i in range(Ntries):\n",
        "  model_dec0 = model_definition(Nt_new)\n",
        "  model_dec1 = model_definition(Nt_new)\n",
        "\n",
        "  opt_dec0 = tf.keras.optimizers.AdamW(learning_rate=1e-4)\n",
        "  opt_dec1 = tf.keras.optimizers.AdamW(learning_rate=1e-4)\n",
        "\n",
        "  model_dec0.compile(optimizer=opt_dec0,loss='MSE')\n",
        "  model_dec1.compile(optimizer=opt_dec1,loss='MSE')\n",
        "\n",
        "  history_dec0 = model_dec0.fit(trainX_dec0, REF_train_dec0, epochs=125, validation_data=(valX_dec1,REF_val_dec1),verbose=0)\n",
        "  history_dec1 = model_dec1.fit(trainX_dec1, REF_train_dec1, epochs=125, validation_data=(valX_dec1,REF_val_dec1),verbose=0)\n",
        "\n",
        "  TOFN_dec0_REF_V82 = model_dec0.predict(test_dec0_V82)\n",
        "  TOFN_dec1_REF_V82 = model_dec1.predict(test_dec1_V82)\n",
        "  TOFN_dec0_REF_V55 = model_dec0.predict(test_dec0_V55)\n",
        "  TOFN_dec1_REF_V55 = model_dec1.predict(test_dec1_V55)\n",
        "  TOFN_dec0_REF_V28 = model_dec0.predict(test_dec0_V28)\n",
        "  TOFN_dec1_REF_V28 = model_dec1.predict(test_dec1_V28)\n",
        "\n",
        "\n",
        "  TOFN_V82 = TOFN_dec0_REF_V82-TOFN_dec1_REF_V82\n",
        "  TOFN_V55 = TOFN_dec0_REF_V55-TOFN_dec1_REF_V55\n",
        "  TOFN_V28 = TOFN_dec0_REF_V28-TOFN_dec1_REF_V28\n",
        "\n",
        "  TOFN_V28_list.append(TOFN_V28)\n",
        "  TOFN_V55_list.append(TOFN_V55)\n",
        "  TOFN_V82_list.append(TOFN_V82)\n",
        "\n",
        "  model_dec0.save(directory + 'model_dec0_' + str(i) + '.h5')\n",
        "  model_dec1.save(directory + 'model_dec1_' + str(i) + '.h5')\n",
        "\n",
        "\n",
        "TOFN_V28_array = np.array(TOFN_V28_list, dtype = 'object')\n",
        "TOFN_V55_array = np.array(TOFN_V55_list, dtype = 'object')\n",
        "TOFN_V82_array = np.array(TOFN_V82_list, dtype = 'object')\n"
      ]
    },
    {
      "cell_type": "code",
      "execution_count": null,
      "metadata": {
        "id": "kUK_Xc3Mj5aV"
      },
      "outputs": [],
      "source": [
        "for i in range(TOFN_V28_array.shape[0]):\n",
        "  mean_std = (np.std(TOFN_V82_array[i,:]) + np.std(TOFN_V55_array[i,:]) + np.std(TOFN_V28_array[i,:])) / 3\n",
        "  centroid_V28 = -1*np.mean(TOFN_V28_array[i,:]) + np.mean(TOFN_V55_array[i,:])\n",
        "  centroid_V82 = -1*np.mean(TOFN_V82_array[i,:]) + np.mean(TOFN_V55_array[i,:])\n",
        "  mean_error_centroid = np.sqrt((centroid_V28 + 0.2)**2 + (centroid_V82-0.2)**2)\n",
        "  print('index: %d  %.3f %.3f ' % (i, mean_std, mean_error_centroid))"
      ]
    },
    {
      "cell_type": "code",
      "execution_count": null,
      "metadata": {
        "colab": {
          "base_uri": "https://localhost:8080/",
          "height": 499
        },
        "id": "N0XBAA8mj01-",
        "outputId": "abbc3e82-fdcf-4be5-db7f-9a045febf0d1"
      },
      "outputs": [
        {
          "name": "stdout",
          "output_type": "stream",
          "text": [
            "\n",
            "V82: CENTROID(ns) = 0.216  FWHM(ns) = 0.225  std(ns) = 0.088\n",
            "V55: CENTROID(ns) = 0.005  FWHM(ns) = 0.197  std(ns) = 0.083\n",
            "V28: CENTROID(ns) = -0.189  FWHM(ns) = 0.184  std(ns) = 0.092\n"
          ]
        },
        {
          "data": {
            "image/png": "[encoded data removed]",
            "text/plain": [
              "<Figure size 640x480 with 1 Axes>"
            ]
          },
          "metadata": {},
          "output_type": "display_data"
        }
      ],
      "source": [
        "index = 37\n",
        "#------------------------------------------- Histogram and gaussian fit -----------------------------------------------\n",
        "nbins=51\n",
        "histogN_V82, binsN, patchesN  = plt.hist(-1*(TOFN_V82_array[index]) + np.mean(TOFN_V55_array[index]),bins=nbins,range=[-0.8,0.8],alpha = 0.5,label='V82');\n",
        "cbinsN = 0.5*(binsN[1:]+binsN[0:-1])\n",
        "HN, AN, x0N_V82, sigmaN_V82 = gauss_fit(cbinsN, histogN_V82)\n",
        "\n",
        "histogN_V55, binsN, patchesN  = plt.hist(-1*(TOFN_V55_array[index]) + np.mean(TOFN_V55_array[index]),bins=nbins,range=[-0.8,0.8],alpha = 0.5,label='V55');\n",
        "cbinsN = 0.5*(binsN[1:]+binsN[0:-1])\n",
        "HN, AN, x0N_V55, sigmaN_V55 = gauss_fit(cbinsN, histogN_V55)\n",
        "\n",
        "histogN_V28, binsN, patchesN  = plt.hist(-1*(TOFN_V28_array[index]) + np.mean(TOFN_V55_array[index]),bins=nbins,range=[-0.8,0.8],alpha = 0.5,label='V28');\n",
        "cbinsN = 0.5*(binsN[1:]+binsN[0:-1])\n",
        "HN, AN, x0N_V28, sigmaN_V28 = gauss_fit(cbinsN, histogN_V28)\n",
        "plt.legend()\n",
        "\n",
        "\n",
        "FWHMN_V82 = 2.35482 * sigmaN_V82\n",
        "FWHMN_V55 = 2.35482 * sigmaN_V55\n",
        "FWHMN_V28 = 2.35482 * sigmaN_V28\n",
        "\n",
        "\n",
        "print('')\n",
        "print(\"V82: CENTROID(ns) = %.3f  FWHM(ns) = %.3f  std(ns) = %.3f\" % (x0N_V82, FWHMN_V82, np.std(TOFN_V82_array[index])))\n",
        "print(\"V55: CENTROID(ns) = %.3f  FWHM(ns) = %.3f  std(ns) = %.3f\" % (x0N_V55, FWHMN_V55, np.std(TOFN_V55_array[index])))\n",
        "print(\"V28: CENTROID(ns) = %.3f  FWHM(ns) = %.3f  std(ns) = %.3f\" % (x0N_V28, FWHMN_V28, np.std(TOFN_V28_array[index])))"
      ]
    }
  ],
  "metadata": {
    "accelerator": "GPU",
    "colab": {
      "gpuType": "T4",
      "provenance": [],
      "toc_visible": true
    },
    "kernelspec": {
      "display_name": "Python 3",
      "name": "python3"
    },
    "language_info": {
      "name": "python"
    }
  },
  "nbformat": 4,
  "nbformat_minor": 0
}
