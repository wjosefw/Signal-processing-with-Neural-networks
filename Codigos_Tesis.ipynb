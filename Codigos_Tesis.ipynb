{
  "cells": [
    {
      "cell_type": "markdown",
      "metadata": {
        "id": "view-in-github",
        "colab_type": "text"
      },
      "source": [
        "<a href=\"https://colab.research.google.com/github/wjosefw/Signal-processing-with-Neural-networks/blob/main/Codigos_Tesis.ipynb\" target=\"_parent\"><img src=\"https://colab.research.google.com/assets/colab-badge.svg\" alt=\"Open In Colab\"/></a>"
      ]
    },
    {
      "cell_type": "markdown",
      "source": [
        "##IMPORTADO DE MÓDULOS"
      ],
      "metadata": {
        "id": "stBxsOdVSJJg"
      }
    },
    {
      "cell_type": "code",
      "execution_count": null,
      "metadata": {
        "colab": {
          "base_uri": "https://localhost:8080/",
          "height": 35
        },
        "id": "2Dle2jkxXgfX",
        "outputId": "b85d2ce4-32bd-4d05-f46b-d276f9b5e976"
      },
      "outputs": [
        {
          "output_type": "execute_result",
          "data": {
            "text/plain": [
              "'2.9.2'"
            ],
            "application/vnd.google.colaboratory.intrinsic+json": {
              "type": "string"
            }
          },
          "metadata": {},
          "execution_count": 1
        }
      ],
      "source": [
        "import numpy as np\n",
        "import numpy.matlib\n",
        "\n",
        "import os\n",
        "import time\n",
        "import matplotlib.pyplot as plt\n",
        "from IPython.display import clear_output\n",
        "import cv2\n",
        "import sklearn.model_selection as sk\n",
        "  \n",
        "import tensorflow as tf\n",
        "tf.version.VERSION"
      ]
    },
    {
      "cell_type": "code",
      "execution_count": null,
      "metadata": {
        "id": "Vm1HGPETXuop"
      },
      "outputs": [],
      "source": [
        "from scipy.optimize import curve_fit\n",
        "#https://gist.github.com/cpascual/a03d0d49ddd2c87d7e84b9f4ad2df466\n",
        "def gauss(x, H, A, x0, sigma):\n",
        "    return H + A * np.exp(-(x - x0) ** 2 / (2 * sigma ** 2))\n",
        "def gauss_fit(x, y):\n",
        "    mean = sum(x * y) / sum(y)\n",
        "    sigma = np.sqrt(sum(y * (x - mean) ** 2) / sum(y))\n",
        "    popt, pcov = curve_fit(gauss, x, y, p0=[min(y), max(y), mean, sigma])\n",
        "    return popt"
      ]
    },
    {
      "cell_type": "markdown",
      "metadata": {
        "id": "bpbY_FbrySwZ"
      },
      "source": [
        "## Ejemplo de evento\n",
        " * Datos Con Splines - 0.2ns step size\n",
        " * 600 pasos temporales\n",
        " * 2 Canales (uno por detector)\n",
        " * Eliminada la linea de base"
      ]
    },
    {
      "cell_type": "code",
      "execution_count": null,
      "metadata": {
        "colab": {
          "base_uri": "https://localhost:8080/",
          "height": 323
        },
        "id": "cWWt37Qz4GwK",
        "outputId": "96835e3e-c86f-4b45-cc6d-01b4e971958c"
      },
      "outputs": [
        {
          "output_type": "error",
          "ename": "MessageError",
          "evalue": "ignored",
          "traceback": [
            "\u001b[0;31m---------------------------------------------------------------------------\u001b[0m",
            "\u001b[0;31mMessageError\u001b[0m                              Traceback (most recent call last)",
            "\u001b[0;32m<ipython-input-3-4996ee3d8d09>\u001b[0m in \u001b[0;36m<module>\u001b[0;34m\u001b[0m\n\u001b[1;32m      1\u001b[0m \u001b[0;32mfrom\u001b[0m \u001b[0mgoogle\u001b[0m\u001b[0;34m.\u001b[0m\u001b[0mcolab\u001b[0m \u001b[0;32mimport\u001b[0m \u001b[0mdrive\u001b[0m\u001b[0;34m\u001b[0m\u001b[0;34m\u001b[0m\u001b[0m\n\u001b[0;32m----> 2\u001b[0;31m \u001b[0mdrive\u001b[0m\u001b[0;34m.\u001b[0m\u001b[0mmount\u001b[0m\u001b[0;34m(\u001b[0m\u001b[0;34m'/content/gdrive'\u001b[0m\u001b[0;34m)\u001b[0m\u001b[0;34m\u001b[0m\u001b[0;34m\u001b[0m\u001b[0m\n\u001b[0m",
            "\u001b[0;32m/usr/local/lib/python3.8/dist-packages/google/colab/drive.py\u001b[0m in \u001b[0;36mmount\u001b[0;34m(mountpoint, force_remount, timeout_ms, readonly)\u001b[0m\n\u001b[1;32m     99\u001b[0m \u001b[0;32mdef\u001b[0m \u001b[0mmount\u001b[0m\u001b[0;34m(\u001b[0m\u001b[0mmountpoint\u001b[0m\u001b[0;34m,\u001b[0m \u001b[0mforce_remount\u001b[0m\u001b[0;34m=\u001b[0m\u001b[0;32mFalse\u001b[0m\u001b[0;34m,\u001b[0m \u001b[0mtimeout_ms\u001b[0m\u001b[0;34m=\u001b[0m\u001b[0;36m120000\u001b[0m\u001b[0;34m,\u001b[0m \u001b[0mreadonly\u001b[0m\u001b[0;34m=\u001b[0m\u001b[0;32mFalse\u001b[0m\u001b[0;34m)\u001b[0m\u001b[0;34m:\u001b[0m\u001b[0;34m\u001b[0m\u001b[0;34m\u001b[0m\u001b[0m\n\u001b[1;32m    100\u001b[0m   \u001b[0;34m\"\"\"Mount your Google Drive at the specified mountpoint path.\"\"\"\u001b[0m\u001b[0;34m\u001b[0m\u001b[0;34m\u001b[0m\u001b[0m\n\u001b[0;32m--> 101\u001b[0;31m   return _mount(\n\u001b[0m\u001b[1;32m    102\u001b[0m       \u001b[0mmountpoint\u001b[0m\u001b[0;34m,\u001b[0m\u001b[0;34m\u001b[0m\u001b[0;34m\u001b[0m\u001b[0m\n\u001b[1;32m    103\u001b[0m       \u001b[0mforce_remount\u001b[0m\u001b[0;34m=\u001b[0m\u001b[0mforce_remount\u001b[0m\u001b[0;34m,\u001b[0m\u001b[0;34m\u001b[0m\u001b[0;34m\u001b[0m\u001b[0m\n",
            "\u001b[0;32m/usr/local/lib/python3.8/dist-packages/google/colab/drive.py\u001b[0m in \u001b[0;36m_mount\u001b[0;34m(mountpoint, force_remount, timeout_ms, ephemeral, readonly)\u001b[0m\n\u001b[1;32m    122\u001b[0m       'TBE_EPHEM_CREDS_ADDR'] if ephemeral else _os.environ['TBE_CREDS_ADDR']\n\u001b[1;32m    123\u001b[0m   \u001b[0;32mif\u001b[0m \u001b[0mephemeral\u001b[0m\u001b[0;34m:\u001b[0m\u001b[0;34m\u001b[0m\u001b[0;34m\u001b[0m\u001b[0m\n\u001b[0;32m--> 124\u001b[0;31m     _message.blocking_request(\n\u001b[0m\u001b[1;32m    125\u001b[0m         'request_auth', request={'authType': 'dfs_ephemeral'}, timeout_sec=None)\n\u001b[1;32m    126\u001b[0m \u001b[0;34m\u001b[0m\u001b[0m\n",
            "\u001b[0;32m/usr/local/lib/python3.8/dist-packages/google/colab/_message.py\u001b[0m in \u001b[0;36mblocking_request\u001b[0;34m(request_type, request, timeout_sec, parent)\u001b[0m\n\u001b[1;32m    169\u001b[0m   request_id = send_request(\n\u001b[1;32m    170\u001b[0m       request_type, request, parent=parent, expect_reply=True)\n\u001b[0;32m--> 171\u001b[0;31m   \u001b[0;32mreturn\u001b[0m \u001b[0mread_reply_from_input\u001b[0m\u001b[0;34m(\u001b[0m\u001b[0mrequest_id\u001b[0m\u001b[0;34m,\u001b[0m \u001b[0mtimeout_sec\u001b[0m\u001b[0;34m)\u001b[0m\u001b[0;34m\u001b[0m\u001b[0;34m\u001b[0m\u001b[0m\n\u001b[0m",
            "\u001b[0;32m/usr/local/lib/python3.8/dist-packages/google/colab/_message.py\u001b[0m in \u001b[0;36mread_reply_from_input\u001b[0;34m(message_id, timeout_sec)\u001b[0m\n\u001b[1;32m    100\u001b[0m         reply.get('colab_msg_id') == message_id):\n\u001b[1;32m    101\u001b[0m       \u001b[0;32mif\u001b[0m \u001b[0;34m'error'\u001b[0m \u001b[0;32min\u001b[0m \u001b[0mreply\u001b[0m\u001b[0;34m:\u001b[0m\u001b[0;34m\u001b[0m\u001b[0;34m\u001b[0m\u001b[0m\n\u001b[0;32m--> 102\u001b[0;31m         \u001b[0;32mraise\u001b[0m \u001b[0mMessageError\u001b[0m\u001b[0;34m(\u001b[0m\u001b[0mreply\u001b[0m\u001b[0;34m[\u001b[0m\u001b[0;34m'error'\u001b[0m\u001b[0;34m]\u001b[0m\u001b[0;34m)\u001b[0m\u001b[0;34m\u001b[0m\u001b[0;34m\u001b[0m\u001b[0m\n\u001b[0m\u001b[1;32m    103\u001b[0m       \u001b[0;32mreturn\u001b[0m \u001b[0mreply\u001b[0m\u001b[0;34m.\u001b[0m\u001b[0mget\u001b[0m\u001b[0;34m(\u001b[0m\u001b[0;34m'data'\u001b[0m\u001b[0;34m,\u001b[0m \u001b[0;32mNone\u001b[0m\u001b[0;34m)\u001b[0m\u001b[0;34m\u001b[0m\u001b[0;34m\u001b[0m\u001b[0m\n\u001b[1;32m    104\u001b[0m \u001b[0;34m\u001b[0m\u001b[0m\n",
            "\u001b[0;31mMessageError\u001b[0m: Error: credential propagation was unsuccessful"
          ]
        }
      ],
      "source": [
        "from google.colab import drive\n",
        "drive.mount('/content/gdrive')"
      ]
    },
    {
      "cell_type": "code",
      "execution_count": null,
      "metadata": {
        "colab": {
          "base_uri": "https://localhost:8080/"
        },
        "id": "8zEjWEDZyEn-",
        "outputId": "12c3e915-d3dc-4221-d290-14f8b9760e75"
      },
      "outputs": [
        {
          "output_type": "stream",
          "name": "stdout",
          "text": [
            "co60_10k_2cm_8cm.dat\n",
            "co60_10k_5cm_5cm.dat\n",
            "co60_10k_8cm_2cm.dat\n",
            "na22_10k_2cm_8cm.dat\n",
            "na22_10k_5cm_5cm.dat\n",
            "na22_10k_8cm_2cm.dat\n"
          ]
        }
      ],
      "source": [
        "!tar -xzvf '/content/gdrive/MyDrive/data/fuentes_Alba.tgz'  -C /content"
      ]
    },
    {
      "cell_type": "code",
      "execution_count": null,
      "metadata": {
        "id": "XmIJc66AyoRk",
        "colab": {
          "base_uri": "https://localhost:8080/"
        },
        "outputId": "36495dd4-5d3c-4821-fdf3-18b6a5c1e589"
      },
      "outputs": [
        {
          "output_type": "stream",
          "name": "stdout",
          "text": [
            "(26000000,)\n"
          ]
        }
      ],
      "source": [
        "#fichero = np.fromfile('/content/co60_10k_5cm_5cm.dat', dtype='float32')\n",
        "fichero = np.fromfile('/content/na22_10k_2cm_8cm.dat', dtype='float32')\n",
        "print(fichero.shape)"
      ]
    },
    {
      "cell_type": "code",
      "source": [
        "Nt2 = 600\n",
        "Nev = 10000\n",
        "Nc = 2\n",
        "limit=Nev*Nt2*Nc\n",
        "V=fichero[0:limit].reshape((Nev,Nt2,Nc))\n",
        "print(V.shape)"
      ],
      "metadata": {
        "colab": {
          "base_uri": "https://localhost:8080/"
        },
        "id": "AtCd9dXIn-px",
        "outputId": "c39d782d-636e-4cdc-80f1-a73b119235e5"
      },
      "execution_count": null,
      "outputs": [
        {
          "output_type": "stream",
          "name": "stdout",
          "text": [
            "(10000, 600, 2)\n"
          ]
        }
      ]
    },
    {
      "cell_type": "code",
      "execution_count": null,
      "metadata": {
        "colab": {
          "base_uri": "https://localhost:8080/"
        },
        "id": "0smfLb6fym85",
        "outputId": "c02a0e24-1892-437e-cdfc-ed0bc51188c1"
      },
      "outputs": [
        {
          "output_type": "execute_result",
          "data": {
            "text/plain": [
              "[<matplotlib.lines.Line2D at 0x7fa34254a0d0>]"
            ]
          },
          "metadata": {},
          "execution_count": 7
        },
        {
          "output_type": "display_data",
          "data": {
            "text/plain": [
              "<Figure size 720x720 with 1 Axes>"
            ],
            "image/png": "[encoded data removed]"
          },
          "metadata": {
            "needs_background": "light"
          }
        }
      ],
      "source": [
        "plt.figure(figsize=(10,10))\n",
        "plt.xlabel('time (ns)')\n",
        "plt.ylabel('Voltage I')\n",
        "plt.plot(V[0,:,0],'.r')\n",
        "plt.plot(V[0,:,1],'b.')"
      ]
    },
    {
      "cell_type": "markdown",
      "metadata": {
        "id": "FBnMSNxtIZ_g"
      },
      "source": [
        "## Espectros "
      ]
    },
    {
      "cell_type": "markdown",
      "source": [
        "### ESPECTRO DE ENERGÍA BASADO EN EL ÁREA"
      ],
      "metadata": {
        "id": "CF_n02FNPKUc"
      }
    },
    {
      "cell_type": "code",
      "source": [
        "threshold = 0.025\n",
        "print(V.shape)\n",
        "for i in range(Nev):\n",
        "  index1=np.where(V[i,:,0]<threshold)[0]\n",
        "  index2=np.where(V[i,:,1]<threshold)[0]\n",
        "  V[i,index1,0]=0\n",
        "  V[i,index2,1]=0\n",
        "DT=0.2\n",
        "SUM=np.sum(V*0.2,axis=1)"
      ],
      "metadata": {
        "colab": {
          "base_uri": "https://localhost:8080/"
        },
        "id": "P1BKvWRIPPQV",
        "outputId": "3de632b6-9f46-4a85-d64d-200feba5a597"
      },
      "execution_count": null,
      "outputs": [
        {
          "output_type": "stream",
          "name": "stdout",
          "text": [
            "(10000, 600, 2)\n"
          ]
        }
      ]
    },
    {
      "cell_type": "code",
      "source": [
        "#Para el primer detector\n",
        "histogE, binsE = np.histogram(SUM[:,0],bins=100);\n",
        "histog_max=np.max(histogE)\n",
        "index=np.where(histogE==histog_max)[0]\n",
        "m=511/((binsE[index+1]+binsE[index])/2)\n",
        "calibrado1=m*SUM[:,0]\n"
      ],
      "metadata": {
        "id": "HISTHhZePvdo"
      },
      "execution_count": null,
      "outputs": []
    },
    {
      "cell_type": "code",
      "source": [
        "plt.figure(figsize=(8,6))\n",
        "plt.xlabel('Energy (keV)')\n",
        "plt.ylabel('counts')\n",
        "histogE, binsE, patchesE  = plt.hist(calibrado1,bins=100,range=[0,1000])\n",
        "histog_max=np.max(histogE)\n",
        "index=np.where(histogE==histog_max)[0]\n",
        "print('El centro está en el bin con bordes(' + str(binsE[index]) + ' , '  + str(binsE[index+1]) + ')')"
      ],
      "metadata": {
        "colab": {
          "base_uri": "https://localhost:8080/"
        },
        "id": "fV6iAMgsQQse",
        "outputId": "857d9f9c-ca48-409a-b74f-e36a470bcc4a"
      },
      "execution_count": null,
      "outputs": [
        {
          "output_type": "stream",
          "name": "stdout",
          "text": [
            "El centro está en el bin con bordes([500.] , [510.])\n"
          ]
        },
        {
          "output_type": "display_data",
          "data": {
            "text/plain": [
              "<Figure size 576x432 with 1 Axes>"
            ],
            "image/png": "[encoded data removed]"
          },
          "metadata": {
            "needs_background": "light"
          }
        }
      ]
    },
    {
      "cell_type": "code",
      "source": [
        "#para el segundo detector\n",
        "histogE, binsE = np.histogram(SUM[:,1],bins=100);\n",
        "histog_max=np.max(histogE)\n",
        "index=np.where(histogE==histog_max)[0]\n",
        "m=511/((binsE[index+1]+binsE[index])/2)\n",
        "calibrado2=m*SUM[:,1]\n"
      ],
      "metadata": {
        "id": "yXhebl9toMnn"
      },
      "execution_count": null,
      "outputs": []
    },
    {
      "cell_type": "code",
      "source": [
        "plt.figure(figsize=(8,6))\n",
        "plt.xlabel('Energy (keV)')\n",
        "plt.ylabel('counts')\n",
        "histogE, binsE, patchesE  = plt.hist(calibrado2,bins=100,range=[0,1000])\n",
        "histog_max=np.max(histogE)\n",
        "index=np.where(histogE==histog_max)[0]\n",
        "print('El centro está en el bin con bordes(' + str(binsE[index]) + ' , '  + str(binsE[index+1]) + ')')"
      ],
      "metadata": {
        "colab": {
          "base_uri": "https://localhost:8080/",
          "height": 405
        },
        "id": "O0zTe_l5oQou",
        "outputId": "facbef43-ab71-477e-f99e-c19b590c1d7b"
      },
      "execution_count": null,
      "outputs": [
        {
          "output_type": "stream",
          "name": "stdout",
          "text": [
            "El centro está en el bin con bordes([510.] , [520.])\n"
          ]
        },
        {
          "output_type": "display_data",
          "data": {
            "text/plain": [
              "<Figure size 576x432 with 1 Axes>"
            ],
            "image/png": "[encoded data removed]"
          },
          "metadata": {
            "needs_background": "light"
          }
        }
      ]
    },
    {
      "cell_type": "markdown",
      "metadata": {
        "id": "wHOogy00yEox"
      },
      "source": [
        "### ESPECTRO DE ENERGIA BASADO EN EL MAXIMO"
      ]
    },
    {
      "cell_type": "code",
      "execution_count": null,
      "metadata": {
        "id": "SSTxhW2MIf3S",
        "colab": {
          "base_uri": "https://localhost:8080/"
        },
        "outputId": "cc2ba029-902a-42de-e994-d4b7ca57d5da"
      },
      "outputs": [
        {
          "output_type": "stream",
          "name": "stdout",
          "text": [
            "(10000, 1, 2)\n"
          ]
        }
      ],
      "source": [
        "# CALCULAMOS EL MAXIMO DE CADA PULSO\n",
        "MAX = np.max(V,axis=1,keepdims=True)\n",
        "print(MAX.shape)\n",
        "MAX2 = np.tile(MAX,(1,Nt2,1)) \n",
        "VN = V/MAX2  # NORMALIZAMOS POR EL AREA O POR EL MAXIMO"
      ]
    },
    {
      "cell_type": "code",
      "execution_count": null,
      "metadata": {
        "colab": {
          "base_uri": "https://localhost:8080/",
          "height": 282
        },
        "id": "Vp_QsF9KWBvM",
        "outputId": "d5c1a5ee-d178-4067-ff13-cd5914fdc1aa"
      },
      "outputs": [
        {
          "output_type": "stream",
          "name": "stdout",
          "text": [
            "[480.]\n"
          ]
        },
        {
          "output_type": "display_data",
          "data": {
            "text/plain": [
              "<Figure size 432x288 with 1 Axes>"
            ],
            "image/png": "[encoded data removed]"
          },
          "metadata": {
            "needs_background": "light"
          }
        }
      ],
      "source": [
        "cal0 = 2200  # To obtain calibration in Energy (keV)\n",
        "histogE, binsE, patchesE  = plt.hist(cal0*MAX[:,:,0],bins=100,range=[0,1000]);\n",
        "histog_max=np.max(histogE)\n",
        "index=np.where(histogE==histog_max)[0]\n",
        "print(binsE[index])"
      ]
    },
    {
      "cell_type": "code",
      "execution_count": null,
      "metadata": {
        "colab": {
          "base_uri": "https://localhost:8080/",
          "height": 265
        },
        "id": "qYuqUeaXd_xm",
        "outputId": "df31b0e3-8d61-4305-b989-2ab59c336452"
      },
      "outputs": [
        {
          "data": {
            "image/png": "[encoded data removed]",
            "text/plain": [
              "<Figure size 432x288 with 1 Axes>"
            ]
          },
          "metadata": {},
          "output_type": "display_data"
        }
      ],
      "source": [
        "cal1 = 3200  # To obtain calibration in Energy (keV)\n",
        "histogE, binsE, patchesE  = plt.hist(cal1*MAX[:,0,1],bins=100,range=[0,1000]);"
      ]
    },
    {
      "cell_type": "markdown",
      "source": [
        "# Neural network"
      ],
      "metadata": {
        "id": "jfmSkqFePzO2"
      }
    },
    {
      "cell_type": "code",
      "source": [
        "from tensorflow.keras.layers import Input\n",
        "from tensorflow.keras.models import Model\n",
        "from tensorflow.keras.layers import Dense\n",
        "from tensorflow.keras import initializers\n",
        "from keras.losses import mse\n",
        "import keras.backend as K"
      ],
      "metadata": {
        "id": "XmepMG-vQzsu"
      },
      "execution_count": null,
      "outputs": []
    },
    {
      "cell_type": "code",
      "source": [
        "from google.colab import drive\n",
        "drive.mount('/content/gdrive')"
      ],
      "metadata": {
        "id": "-hf--FBCRA6J",
        "colab": {
          "base_uri": "https://localhost:8080/"
        },
        "outputId": "8e94fe1a-98aa-4e18-ab92-3a632b2e80e7"
      },
      "execution_count": 5,
      "outputs": [
        {
          "output_type": "stream",
          "name": "stdout",
          "text": [
            "Mounted at /content/gdrive\n"
          ]
        }
      ]
    },
    {
      "cell_type": "code",
      "source": [
        "#!tar -xzvf '/content/gdrive/MyDrive/data/fuentes_Alba.tgz'  -C /content\n",
        "!tar -xzvf '/content/gdrive/MyDrive/data/fuentes_50k_Alba.tgz' -C /content"
      ],
      "metadata": {
        "id": "YGqiswB3RLQy",
        "colab": {
          "base_uri": "https://localhost:8080/"
        },
        "outputId": "bf7a438f-049c-4238-cebb-4dd66134d35f"
      },
      "execution_count": 6,
      "outputs": [
        {
          "output_type": "stream",
          "name": "stdout",
          "text": [
            "co-2cm-8cm.dat\n",
            "co-5cm-5cm.dat\n",
            "co-8cm-2cm.dat\n",
            "na-2cm-8cm.dat\n",
            "na-5cm-5cm.dat\n",
            "na-8cm-2cm.dat\n"
          ]
        }
      ]
    },
    {
      "cell_type": "code",
      "source": [
        "fichero1 = np.fromfile('/content/na-2cm-8cm.dat', dtype='float32')\n",
        "fichero2 = np.fromfile('/content/na-5cm-5cm.dat', dtype='float32')\n",
        "fichero3 = np.fromfile('/content/na-8cm-2cm.dat', dtype='float32')\n",
        "#fichero2 = np.fromfile('/content/na22_10k_8cm_2cm.dat', dtype='float32')\n",
        "#fichero3 = np.fromfile('/content/na22_10k_2cm_8cm.dat', dtype='float32')\n",
        "\n",
        "#fichero4 = np.fromfile('/content/co60_10k_5cm_5cm.dat', dtype='float32')\n",
        "#fichero5 = np.fromfile('/content/co60_10k_8cm_2cm.dat', dtype='float32')\n",
        "#fichero6 = np.fromfile('/content/co60_10k_2cm_8cm.dat', dtype='float32')\n",
        "\n",
        "Nt2 = 600\n",
        "Nev = 50000\n",
        "Nc = 2\n",
        "\n",
        "V1 = fichero1[0:Nt2*Nev*Nc].reshape((Nev,Nt2,Nc))\n",
        "V2 = fichero2[0:Nt2*Nev*Nc].reshape((Nev,Nt2,Nc))\n",
        "V3 = fichero3[0:Nt2*Nev*Nc].reshape((Nev,Nt2,Nc))\n",
        "#V4 = fichero4[0:Nt2*Nev*Nc].reshape((Nev,Nt2,Nc))\n",
        "#V5 = fichero5[0:Nt2*Nev*Nc].reshape((Nev,Nt2,Nc))\n",
        "#V6 = fichero6[0:Nt2*Nev*Nc].reshape((Nev,Nt2,Nc))"
      ],
      "metadata": {
        "id": "3dUVmUKDRgv4"
      },
      "execution_count": 7,
      "outputs": []
    },
    {
      "cell_type": "markdown",
      "source": [
        "## Single position"
      ],
      "metadata": {
        "id": "448Skp7MXQXp"
      }
    },
    {
      "cell_type": "markdown",
      "source": [
        "### Method 1: standarization"
      ],
      "metadata": {
        "id": "fwkk191XNXPj"
      }
    },
    {
      "cell_type": "code",
      "source": [
        "VN1=(V1-np.mean(V1))/np.std(V1)\n",
        "VN2=(V2-np.mean(V2))/np.std(V2)\n",
        "VN3=(V3-np.mean(V3))/np.std(V3)\n",
        "#VN4=(V4-np.mean(V4))/np.std(V4)\n",
        "#VN5=(V5-np.mean(V5))/np.std(V5)\n",
        "#VN6=(V6-np.mean(V6))/np.std(V6)"
      ],
      "metadata": {
        "id": "NgE_brhazAN2"
      },
      "execution_count": null,
      "outputs": []
    },
    {
      "cell_type": "markdown",
      "source": [
        "### Method 2: Logarithmic"
      ],
      "metadata": {
        "id": "vfiTiL_CNf9Q"
      }
    },
    {
      "cell_type": "code",
      "source": [
        "min1=np.min(V2[:,:,0])\n",
        "print(min1)\n",
        "V2[:,:,0]=(np.log((V2[:,:,0])-min1+1))\n",
        "\n",
        "\n",
        "\n",
        "min2=np.min(V2[:,:,1])\n",
        "print(min2)\n",
        "V2[:,:,1]=(np.log((V2[:,:,1])-min2+1))\n",
        "\n",
        "VN1 = V2 #Fuente na22 centrada\n",
        "plt.plot(VN1[1,:,0])"
      ],
      "metadata": {
        "colab": {
          "base_uri": "https://localhost:8080/",
          "height": 318
        },
        "id": "HZ5lgXPdNrhZ",
        "outputId": "e177c1b0-b3b2-471b-8465-cd0a11504e80"
      },
      "execution_count": null,
      "outputs": [
        {
          "output_type": "stream",
          "name": "stdout",
          "text": [
            "-0.44183362\n",
            "-0.31350017\n"
          ]
        },
        {
          "output_type": "execute_result",
          "data": {
            "text/plain": [
              "[<matplotlib.lines.Line2D at 0x7f30120e1520>]"
            ]
          },
          "metadata": {},
          "execution_count": 11
        },
        {
          "output_type": "display_data",
          "data": {
            "text/plain": [
              "<Figure size 432x288 with 1 Axes>"
            ],
            "image/png": "[encoded data removed]"
          },
          "metadata": {
            "needs_background": "light"
          }
        }
      ]
    },
    {
      "cell_type": "markdown",
      "source": [
        "### Method 3: Area"
      ],
      "metadata": {
        "id": "LpARi5ODNxs9"
      }
    },
    {
      "cell_type": "code",
      "source": [
        "SUM1=np.sum(V1*0.2,axis=1)\n",
        "print(SUM1.shape)\n",
        "\n",
        "#Para el primer detector\n",
        "histogE, binsE = np.histogram(SUM1[:,0],bins=100);\n",
        "histog_max=np.max(histogE)\n",
        "index=np.where(histogE==histog_max)[0]\n",
        "m11=511/((binsE[index+1]+binsE[index])/2)\n",
        "calibrado11=m11*SUM1[:,0]\n",
        "\n",
        "\n",
        "#Para el segundo detector\n",
        "histogE, binsE = np.histogram(SUM1[:,1],bins=100);\n",
        "histog_max=np.max(histogE)\n",
        "index=np.where(histogE==histog_max)[0]\n",
        "m21=511/((binsE[index+1]+binsE[index])/2)\n",
        "calibrado21=m21*SUM1[:,0]\n",
        "\n",
        "SUM2=np.sum(V2*0.2,axis=1)\n",
        "print(SUM2.shape)\n",
        "\n",
        "#Para el primer detector\n",
        "histogE, binsE = np.histogram(SUM2[:,0],bins=100);\n",
        "histog_max=np.max(histogE)\n",
        "index=np.where(histogE==histog_max)[0]\n",
        "m12=511/((binsE[index+1]+binsE[index])/2)\n",
        "calibrado21=m12*SUM2[:,0]\n",
        "\n",
        "\n",
        "#Para el segundo detector\n",
        "histogE, binsE = np.histogram(SUM2[:,1],bins=100);\n",
        "histog_max=np.max(histogE)\n",
        "index=np.where(histogE==histog_max)[0]\n",
        "m22=511/((binsE[index+1]+binsE[index])/2)\n",
        "calibrado22=m22*SUM2[:,0]\n",
        "\n",
        "\n",
        "SUM3=np.sum(V3*0.2,axis=1)\n",
        "print(SUM3.shape)\n",
        "\n",
        "#Para el primer detector\n",
        "histogE, binsE = np.histogram(SUM3[:,0],bins=100);\n",
        "histog_max=np.max(histogE)\n",
        "index=np.where(histogE==histog_max)[0]\n",
        "m13=511/((binsE[index+1]+binsE[index])/2)\n",
        "calibrado31=m13*SUM3[:,0]\n",
        "\n",
        "\n",
        "#Para el segundo detector\n",
        "histogE, binsE = np.histogram(SUM3[:,1],bins=100);\n",
        "histog_max=np.max(histogE)\n",
        "index=np.where(histogE==histog_max)[0]\n",
        "m23=511/((binsE[index+1]+binsE[index])/2)\n",
        "#calibrado33=m23*SUM3[:,0]\n",
        "\n",
        "\n",
        "V1 = V1[(m11*SUM1[:,0]>480) & (m11*SUM1[:,0]<540) & (m21*SUM1[:,1]>480) & (m21*SUM1[:,1]<540),:,:]\n",
        "V2 = V2[(m12*SUM2[:,0]>480) & (m12*SUM2[:,0]<540) & (m22*SUM2[:,1]>480) & (m22*SUM2[:,1]<540),:,:]\n",
        "V3 = V3[(m13*SUM3[:,0]>480) & (m13*SUM3[:,0]<540) & (m23*SUM3[:,1]>480) & (m23*SUM3[:,1]<540),:,:]\n",
        "\n",
        "VN1=(V1-np.mean(V1))/np.std(V1)\n",
        "VN2=(V2-np.mean(V1))/np.std(V1)\n",
        "VN3=(V3-np.mean(V1))/np.std(V1)\n",
        "\n",
        "\n",
        "print(VN1.shape,VN2.shape,VN3.shape,np.mean(VN2),np.mean(V3))\n"
      ],
      "metadata": {
        "colab": {
          "base_uri": "https://localhost:8080/"
        },
        "id": "qmZYYd9XD3j9",
        "outputId": "fcb24524-98f4-443e-cc47-d63e815c2289"
      },
      "execution_count": null,
      "outputs": [
        {
          "output_type": "stream",
          "name": "stdout",
          "text": [
            "(50000, 2)\n",
            "(50000, 2)\n",
            "(50000, 2)\n",
            "(11411, 600, 2) (12648, 600, 2) (10571, 600, 2) 0.024899371 0.044767324\n"
          ]
        }
      ]
    },
    {
      "cell_type": "code",
      "source": [
        "SUM1=np.sum(V1*0.2,axis=1)\n",
        "print(np.mean(SUM1[:,0]),np.mean(SUM1[:,1]))\n",
        "\n",
        "#Para el primer detector\n",
        "histogE, binsE = np.histogram(SUM1[:,0],bins=100);\n",
        "histog_max=np.max(histogE)\n",
        "index=np.where(histogE==histog_max)[0]\n",
        "m11=511/((binsE[index+1]+binsE[index])/2)\n",
        "calibrado11=m11*SUM1[:,0]\n",
        "\n",
        "\n",
        "#Para el segundo detector\n",
        "histogE, binsE = np.histogram(SUM1[:,1],bins=100);\n",
        "histog_max=np.max(histogE)\n",
        "index=np.where(histogE==histog_max)[0]\n",
        "m21=511/((binsE[index+1]+binsE[index])/2)\n",
        "calibrado21=m21*SUM1[:,0]\n",
        "\n",
        "SUM2=np.sum(V2*0.2,axis=1)\n",
        "print(np.mean(SUM2[:,0]),np.mean(SUM2[:,1]))\n",
        "\n",
        "#Para el primer detector\n",
        "histogE, binsE = np.histogram(SUM2[:,0],bins=100);\n",
        "histog_max=np.max(histogE)\n",
        "index=np.where(histogE==histog_max)[0]\n",
        "m12=511/((binsE[index+1]+binsE[index])/2)\n",
        "calibrado21=m12*SUM2[:,0]\n",
        "\n",
        "\n",
        "#Para el segundo detector\n",
        "histogE, binsE = np.histogram(SUM2[:,1],bins=100);\n",
        "histog_max=np.max(histogE)\n",
        "index=np.where(histogE==histog_max)[0]\n",
        "m22=511/((binsE[index+1]+binsE[index])/2)\n",
        "calibrado22=m22*SUM2[:,0]\n",
        "\n",
        "\n",
        "SUM3=np.sum(V3*0.2,axis=1)\n",
        "print(np.mean(SUM3[:,0]),np.mean(SUM3[:,1]))\n",
        "\n",
        "\n",
        "#Para el primer detector\n",
        "histogE, binsE = np.histogram(SUM3[:,0],bins=100);\n",
        "histog_max=np.max(histogE)\n",
        "index=np.where(histogE==histog_max)[0]\n",
        "m13=511/((binsE[index+1]+binsE[index])/2)\n",
        "calibrado31=m13*SUM3[:,0]\n",
        "\n",
        "\n",
        "#Para el segundo detector\n",
        "histogE, binsE = np.histogram(SUM3[:,1],bins=100);\n",
        "histog_max=np.max(histogE)\n",
        "index=np.where(histogE==histog_max)[0]\n",
        "m23=511/((binsE[index+1]+binsE[index])/2)\n",
        "#calibrado33=m23*SUM3[:,0]\n",
        "\n",
        "V1 = V1[(m11*SUM1[:,0]>470) & (m11*SUM1[:,0]<550) & (m21*SUM1[:,1]>470) & (m21*SUM1[:,1]<550),:,:]\n",
        "V2 = V2[(m12*SUM2[:,0]>470) & (m12*SUM2[:,0]<550) & (m22*SUM2[:,1]>470) & (m22*SUM2[:,1]<550),:,:]\n",
        "V3 = V3[(m13*SUM3[:,0]>470) & (m13*SUM3[:,0]<550) & (m23*SUM3[:,1]>470) & (m23*SUM3[:,1]<550),:,:]\n",
        "\n",
        "\n",
        "mean_0=np.mean([np.mean(V1[:,:,0]),np.mean(V2[:,:,0]),np.mean(V3[:,:,0])])\n",
        "mean_1=np.mean([np.mean(V1[:,:,1]),np.mean(V2[:,:,1]),np.mean(V3[:,:,1])])\n",
        "desv_est_0=np.mean([np.std(V1[:,:,0]),np.std(V2[:,:,0]),np.std(V3[:,:,0])])\n",
        "desv_est_1=np.mean([np.std(V1[:,:,1]),np.std(V2[:,:,1]),np.std(V3[:,:,1])])\n",
        "\n",
        "V1[:,:,0]=(V1[:,:,0]-mean_0)/desv_est_0\n",
        "V1[:,:,1]=(V1[:,:,1]-mean_1)/desv_est_1\n",
        "V2[:,:,0]=(V2[:,:,0]-mean_0)/desv_est_0\n",
        "V2[:,:,1]=(V2[:,:,1]-mean_1)/desv_est_1\n",
        "V3[:,:,0]=(V3[:,:,0]-mean_0)/desv_est_0\n",
        "V3[:,:,1]=(V3[:,:,1]-mean_1)/desv_est_1\n",
        "\n",
        "\n",
        "print(V1.shape,V2.shape,V3.shape)"
      ],
      "metadata": {
        "colab": {
          "base_uri": "https://localhost:8080/"
        },
        "id": "wqNu1wK1tPUL",
        "outputId": "9bca928a-2359-4083-ce96-9a831141172e"
      },
      "execution_count": null,
      "outputs": [
        {
          "output_type": "stream",
          "name": "stdout",
          "text": [
            "4.8790483 3.2595406\n",
            "4.8404737 3.5354571\n",
            "4.4527645 3.5460122\n",
            "(11744, 600, 2) (12988, 600, 2) (11832, 600, 2)\n"
          ]
        }
      ]
    },
    {
      "cell_type": "code",
      "source": [
        "print(np.std(V1[:,:,0]),np.std(V2[:,:,0]),np.std(V3[:,:,0]))"
      ],
      "metadata": {
        "colab": {
          "base_uri": "https://localhost:8080/"
        },
        "id": "BPhdd6NC58lV",
        "outputId": "01871da0-3613-4a07-827a-20c3a41a2129"
      },
      "execution_count": null,
      "outputs": [
        {
          "output_type": "stream",
          "name": "stdout",
          "text": [
            "0.99399805 1.0169921 0.9890111\n"
          ]
        }
      ]
    },
    {
      "cell_type": "code",
      "source": [
        "INPUT=V3[:,60:124,:]\n",
        "Ncasos=INPUT.shape[0]"
      ],
      "metadata": {
        "id": "SiMtf_dptXC_"
      },
      "execution_count": null,
      "outputs": []
    },
    {
      "cell_type": "code",
      "source": [
        "plt.plot(V1[0,60:80,0],'r-')\n",
        "plt.plot(V2[0,60:80,0],'b-')\n",
        "plt.plot(V3[0,60:80,0],'g-')"
      ],
      "metadata": {
        "colab": {
          "base_uri": "https://localhost:8080/",
          "height": 282
        },
        "id": "4m_Rs9bABjcs",
        "outputId": "9b559112-126d-441c-d6ff-4f72ad39dfe0"
      },
      "execution_count": null,
      "outputs": [
        {
          "output_type": "execute_result",
          "data": {
            "text/plain": [
              "[<matplotlib.lines.Line2D at 0x7f0b79198d00>]"
            ]
          },
          "metadata": {},
          "execution_count": 8
        },
        {
          "output_type": "display_data",
          "data": {
            "text/plain": [
              "<Figure size 432x288 with 1 Axes>"
            ],
            "image/png": "[encoded data removed]"
          },
          "metadata": {
            "needs_background": "light"
          }
        }
      ]
    },
    {
      "cell_type": "markdown",
      "source": [
        "### Method 4: Maximum"
      ],
      "metadata": {
        "id": "tBnnghNKPnup"
      }
    },
    {
      "cell_type": "code",
      "source": [
        "# CALCULAMOS EL MAXIMO DE CADA PULSO na22\n",
        "\n",
        "MAX1 = np.max(V1,axis=1,keepdims=True)\n",
        "M1 = np.mean(MAX1) \n",
        "VN1 = V1/M1  # DIVIDIMOS POR LA MEDIA DEL MÁXIMO DE CADA PULSO\n",
        "print(VN1)\n",
        "\n",
        "\n",
        "MAX2 = np.max(V2,axis=1,keepdims=True)\n",
        "M2 = np.mean(MAX2) \n",
        "VN2 = V2/M2 \n",
        "\n",
        "\n",
        "MAX3 = np.max(V3,axis=1,keepdims=True)\n",
        "M3 = np.mean(MAX3) \n",
        "VN3 = V3/M3  \n",
        "\n",
        "# CALCULAMOS EL MAXIMO DE CADA PULSO co60\n",
        "\n",
        "MAX4 = np.max(V4,axis=1,keepdims=True)\n",
        "M4 = np.mean(MAX4) \n",
        "VN4 = V4/M4  \n",
        "\n",
        "MAX5 = np.max(V5,axis=1,keepdims=True)\n",
        "M5 = np.mean(MAX5) \n",
        "VN5 = V5/M5  \n",
        "\n",
        "MAX6 = np.max(V6,axis=1,keepdims=True)\n",
        "M6 = np.mean(MAX6) \n",
        "VN6 = V6/M6  #"
      ],
      "metadata": {
        "id": "Ev1ddEi0RmaE",
        "colab": {
          "base_uri": "https://localhost:8080/"
        },
        "outputId": "2edb6f17-bcb7-4dd3-d85f-595900e1e544"
      },
      "execution_count": null,
      "outputs": [
        {
          "output_type": "stream",
          "name": "stdout",
          "text": [
            "[[[ 2.09431304e-03  6.10517431e-03]\n",
            "  [-3.39781097e-03  1.47108315e-03]\n",
            "  [-4.58606100e-03  2.63988436e-03]\n",
            "  ...\n",
            "  [ 1.11505091e-02  4.47474886e-03]\n",
            "  [ 9.90956370e-03  4.57734847e-03]\n",
            "  [ 6.27151225e-03  4.99236304e-03]]\n",
            "\n",
            " [[-1.34836114e-03 -2.43640854e-03]\n",
            "  [-3.50845000e-03 -1.50079920e-03]\n",
            "  [-2.16980069e-03 -1.85298326e-03]\n",
            "  ...\n",
            "  [ 2.01115813e-02  2.73804879e-04]\n",
            "  [ 2.16770414e-02 -6.39879261e-04]\n",
            "  [ 2.18706727e-02  1.76628469e-03]]\n",
            "\n",
            " [[-3.17623280e-03 -2.55893613e-03]\n",
            "  [-2.09819805e-03 -2.72505288e-03]\n",
            "  [ 4.87981997e-05 -7.87892262e-04]\n",
            "  ...\n",
            "  [ 1.27407378e-02  2.53989752e-02]\n",
            "  [ 1.33375246e-02  2.22649965e-02]\n",
            "  [ 1.41018769e-02  2.49882005e-02]]\n",
            "\n",
            " ...\n",
            "\n",
            " [[-4.08920256e-04 -1.16185553e-03]\n",
            "  [ 3.52475583e-03  2.64673214e-03]\n",
            "  [ 4.90036386e-04 -9.15616285e-04]\n",
            "  ...\n",
            "  [ 7.55682681e-03  1.40985446e-02]\n",
            "  [ 6.62294216e-03  1.14895748e-02]\n",
            "  [ 8.30507185e-03  1.19380327e-02]]\n",
            "\n",
            " [[ 8.05163756e-04 -5.08151366e-04]\n",
            "  [ 2.84005259e-03  2.16108121e-04]\n",
            "  [-1.06253021e-04  1.74972415e-03]\n",
            "  ...\n",
            "  [ 2.83432119e-02  6.55383337e-03]\n",
            "  [ 3.67820896e-02  6.12660311e-03]\n",
            "  [ 4.25292961e-02 -6.33329619e-04]]\n",
            "\n",
            " [[-6.15664103e-05  2.29474623e-03]\n",
            "  [-2.23924243e-03  1.37487461e-03]\n",
            "  [-5.94093185e-03 -1.09150635e-04]\n",
            "  ...\n",
            "  [ 1.03377150e-02  5.35247335e-03]\n",
            "  [ 1.25980927e-02  2.36034300e-03]\n",
            "  [ 8.92675109e-03  3.59129813e-03]]]\n"
          ]
        }
      ]
    },
    {
      "cell_type": "markdown",
      "source": [
        "### Data filtering"
      ],
      "metadata": {
        "id": "pPlnpJUDWhLb"
      }
    },
    {
      "cell_type": "code",
      "source": [
        "cal0 = 2200 \n",
        "cal1 = 3200 \n",
        "#Filtramos los eventos con la energía adecuada para cada fuente\n",
        "\n",
        "#VNN1 = VN1[(cal0*MAX1[:,0,0]>450) & (cal0*MAX1[:,0,0]<550) & (cal1*MAX1[:,0,1]>550) & (cal1*MAX1[:,0,1]<650),:,:]\n",
        "#VNN2 = VN2[(cal0*MAX1[:,0,0]>450) & (cal0*MAX1[:,0,0]<550) & (cal1*MAX1[:,0,1]>550) & (cal1*MAX1[:,0,1]<650),:,:]\n",
        "#VNN3 = VN3[(cal0*MAX1[:,0,0]>450) & (cal0*MAX1[:,0,0]<550) & (cal1*MAX1[:,0,1]>550) & (cal1*MAX1[:,0,1]<650),:,:]\n",
        "\n",
        "#VNN1 = V1[(m1*SUM[:,0]>450) & (m1*SUM[:,0]<550) & (m2*SUM[:,1]>550) & (m2*SUM[:,1]<650),:,:]\n",
        "#VNN2 = V2[(m1*SUM[:,0]>450) & (m1*SUM[:,0]<550) & (m2*SUM[:,1]>550) & (m2*SUM[:,1]<650),:,:]\n",
        "#VNN3 = V3[(m1*SUM[:,0]>450) & (m1*SUM[:,0]<550) & (m2*SUM[:,1]>550) & (m2*SUM[:,1]<650),:,:]\n",
        "VNN1 = VN1[:,:,:]\n",
        "VNN2 = VN2[:,:,:]\n",
        "VNN3 = VN2[:,:,:]\n"
      ],
      "metadata": {
        "id": "yxb6dhPPVXC9",
        "colab": {
          "base_uri": "https://localhost:8080/",
          "height": 231
        },
        "outputId": "aef3a999-7e9a-4b7f-e020-0ef5ac4b509c"
      },
      "execution_count": null,
      "outputs": [
        {
          "output_type": "error",
          "ename": "NameError",
          "evalue": "ignored",
          "traceback": [
            "\u001b[0;31m---------------------------------------------------------------------------\u001b[0m",
            "\u001b[0;31mNameError\u001b[0m                                 Traceback (most recent call last)",
            "\u001b[0;32m<ipython-input-8-5aec10a68a5e>\u001b[0m in \u001b[0;36m<module>\u001b[0;34m\u001b[0m\n\u001b[1;32m     10\u001b[0m \u001b[0;31m#VNN2 = V2[(m1*SUM[:,0]>450) & (m1*SUM[:,0]<550) & (m2*SUM[:,1]>550) & (m2*SUM[:,1]<650),:,:]\u001b[0m\u001b[0;34m\u001b[0m\u001b[0;34m\u001b[0m\u001b[0;34m\u001b[0m\u001b[0m\n\u001b[1;32m     11\u001b[0m \u001b[0;31m#VNN3 = V3[(m1*SUM[:,0]>450) & (m1*SUM[:,0]<550) & (m2*SUM[:,1]>550) & (m2*SUM[:,1]<650),:,:]\u001b[0m\u001b[0;34m\u001b[0m\u001b[0;34m\u001b[0m\u001b[0;34m\u001b[0m\u001b[0m\n\u001b[0;32m---> 12\u001b[0;31m \u001b[0mVNN1\u001b[0m \u001b[0;34m=\u001b[0m \u001b[0mVN1\u001b[0m\u001b[0;34m[\u001b[0m\u001b[0;34m:\u001b[0m\u001b[0;34m,\u001b[0m\u001b[0;34m:\u001b[0m\u001b[0;34m,\u001b[0m\u001b[0;34m:\u001b[0m\u001b[0;34m]\u001b[0m\u001b[0;34m\u001b[0m\u001b[0;34m\u001b[0m\u001b[0m\n\u001b[0m\u001b[1;32m     13\u001b[0m \u001b[0mVNN2\u001b[0m \u001b[0;34m=\u001b[0m \u001b[0mVN2\u001b[0m\u001b[0;34m[\u001b[0m\u001b[0;34m:\u001b[0m\u001b[0;34m,\u001b[0m\u001b[0;34m:\u001b[0m\u001b[0;34m,\u001b[0m\u001b[0;34m:\u001b[0m\u001b[0;34m]\u001b[0m\u001b[0;34m\u001b[0m\u001b[0;34m\u001b[0m\u001b[0m\n\u001b[1;32m     14\u001b[0m \u001b[0mVNN3\u001b[0m \u001b[0;34m=\u001b[0m \u001b[0mVN2\u001b[0m\u001b[0;34m[\u001b[0m\u001b[0;34m:\u001b[0m\u001b[0;34m,\u001b[0m\u001b[0;34m:\u001b[0m\u001b[0;34m,\u001b[0m\u001b[0;34m:\u001b[0m\u001b[0;34m]\u001b[0m\u001b[0;34m\u001b[0m\u001b[0;34m\u001b[0m\u001b[0m\n",
            "\u001b[0;31mNameError\u001b[0m: name 'VN1' is not defined"
          ]
        }
      ]
    },
    {
      "cell_type": "code",
      "source": [
        "Nev1 = [VNN1.shape[0],VNN3.shape[0],VNN3.shape[0]]\n",
        "Ncasos = np.min(Nev1)  #Numero de eventos tras filtrar en energia AMBOS\n",
        "remainder=(Ncasos % 256)\n",
        "Ncasos=Ncasos-remainder\n",
        "print(Ncasos,Ncasos/256)\n",
        "Na_complete = np.concatenate((VNN1[0:Ncasos,40:104,:],VNN2[0:Ncasos,40:104,:],VNN3[0:Ncasos,40:104,:]), axis=0, out=None)\n",
        "\n",
        "Npositions = 3\n",
        "print(np.shape(Na_complete))\n",
        "INPUT = Na_complete"
      ],
      "metadata": {
        "colab": {
          "base_uri": "https://localhost:8080/"
        },
        "id": "go5uEG1skxqM",
        "outputId": "5b856e4a-775b-4a62-ac11-59bd198eb75a"
      },
      "execution_count": null,
      "outputs": [
        {
          "output_type": "stream",
          "name": "stdout",
          "text": [
            "3584 14.0\n",
            "(10752, 64, 2)\n"
          ]
        }
      ]
    },
    {
      "cell_type": "code",
      "source": [
        "Ncasos=VNN3.shape[0]\n",
        "print(VNN3.shape[0])\n",
        "INPUT = VNN3 "
      ],
      "metadata": {
        "colab": {
          "base_uri": "https://localhost:8080/"
        },
        "id": "rwnuoAXORfsL",
        "outputId": "275347bc-1f01-4a26-c04f-21565b172294"
      },
      "execution_count": null,
      "outputs": [
        {
          "output_type": "stream",
          "name": "stdout",
          "text": [
            "12648\n"
          ]
        }
      ]
    },
    {
      "cell_type": "markdown",
      "source": [
        "### Interpolation and offset"
      ],
      "metadata": {
        "id": "FgdY4ICFP7n0"
      }
    },
    {
      "cell_type": "code",
      "source": [
        "from scipy.interpolate import interp1d\n",
        "tiempo1 = np.linspace(0, 64, 64)  # 64 time points (initially) 0.2ns step\n",
        "f_out = interp1d(tiempo1, INPUT, axis=1)\n",
        "INPUT_64 = f_out(tiempo1)\n",
        "#tiempo2 = np.linspace(0, 64, 128) # interpolated into 128 time points  0.1ns step\n",
        "#INPUT_128 = f_out(tiempo2)\n",
        "\n",
        "#print(tf.shape(INPUT_128))\n",
        "print(tf.shape(INPUT_64))"
      ],
      "metadata": {
        "colab": {
          "base_uri": "https://localhost:8080/",
          "height": 231
        },
        "id": "70LTXhTCX8X-",
        "outputId": "e7047472-bb7f-4075-9927-24553ce69323"
      },
      "execution_count": null,
      "outputs": [
        {
          "output_type": "error",
          "ename": "NameError",
          "evalue": "ignored",
          "traceback": [
            "\u001b[0;31m---------------------------------------------------------------------------\u001b[0m",
            "\u001b[0;31mNameError\u001b[0m                                 Traceback (most recent call last)",
            "\u001b[0;32m<ipython-input-7-a677643e9be2>\u001b[0m in \u001b[0;36m<module>\u001b[0;34m\u001b[0m\n\u001b[1;32m      1\u001b[0m \u001b[0;32mfrom\u001b[0m \u001b[0mscipy\u001b[0m\u001b[0;34m.\u001b[0m\u001b[0minterpolate\u001b[0m \u001b[0;32mimport\u001b[0m \u001b[0minterp1d\u001b[0m\u001b[0;34m\u001b[0m\u001b[0;34m\u001b[0m\u001b[0m\n\u001b[1;32m      2\u001b[0m \u001b[0mtiempo1\u001b[0m \u001b[0;34m=\u001b[0m \u001b[0mnp\u001b[0m\u001b[0;34m.\u001b[0m\u001b[0mlinspace\u001b[0m\u001b[0;34m(\u001b[0m\u001b[0;36m0\u001b[0m\u001b[0;34m,\u001b[0m \u001b[0;36m64\u001b[0m\u001b[0;34m,\u001b[0m \u001b[0;36m64\u001b[0m\u001b[0;34m)\u001b[0m  \u001b[0;31m# 64 time points (initially) 0.2ns step\u001b[0m\u001b[0;34m\u001b[0m\u001b[0;34m\u001b[0m\u001b[0m\n\u001b[0;32m----> 3\u001b[0;31m \u001b[0mf_out\u001b[0m \u001b[0;34m=\u001b[0m \u001b[0minterp1d\u001b[0m\u001b[0;34m(\u001b[0m\u001b[0mtiempo1\u001b[0m\u001b[0;34m,\u001b[0m \u001b[0mINPUT\u001b[0m\u001b[0;34m,\u001b[0m \u001b[0maxis\u001b[0m\u001b[0;34m=\u001b[0m\u001b[0;36m1\u001b[0m\u001b[0;34m)\u001b[0m\u001b[0;34m\u001b[0m\u001b[0;34m\u001b[0m\u001b[0m\n\u001b[0m\u001b[1;32m      4\u001b[0m \u001b[0mINPUT_64\u001b[0m \u001b[0;34m=\u001b[0m \u001b[0mf_out\u001b[0m\u001b[0;34m(\u001b[0m\u001b[0mtiempo1\u001b[0m\u001b[0;34m)\u001b[0m\u001b[0;34m\u001b[0m\u001b[0;34m\u001b[0m\u001b[0m\n\u001b[1;32m      5\u001b[0m \u001b[0;31m#tiempo2 = np.linspace(0, 64, 128) # interpolated into 128 time points  0.1ns step\u001b[0m\u001b[0;34m\u001b[0m\u001b[0;34m\u001b[0m\u001b[0;34m\u001b[0m\u001b[0m\n",
            "\u001b[0;31mNameError\u001b[0m: name 'INPUT' is not defined"
          ]
        }
      ]
    },
    {
      "cell_type": "code",
      "source": [
        "INPUT2 = np.zeros_like(INPUT)\n",
        "REF = np.zeros((Ncasos,),dtype=np.float32)\n",
        "\n",
        "tstep = 0.2\n",
        "NRD0 = 1+np.random.randint(9, size=Ncasos)  \n",
        "NRD1 = 1+np.random.randint(9, size=Ncasos)\n",
        "\n",
        "offsets_position=[1.0029,0,-1.0029]\n",
        "#for j in range(Npositions):   \n",
        "offsetT = offsets_position[2]  \n",
        "\n",
        "for i in range(Ncasos):\n",
        "  N0 = NRD0[i] \n",
        "  INPUT2[i,:,0]=np.roll(INPUT[i,:,0],N0)\n",
        "  INPUT2[i,0:N0,0] = INPUT[i,0:N0,0]\n",
        "  N1 = NRD1[i]\n",
        "  INPUT2[i,:,1]=np.roll(INPUT[i,:,1],N1)\n",
        "  INPUT2[i,0:N1,1] = INPUT[i,0:N1,1]\n",
        "  REF[i]=(N1-N0-offsetT)  #ns\n",
        "  #REF[i]=N1-N0  #time steps\n"
      ],
      "metadata": {
        "id": "vHULHicZX2dX"
      },
      "execution_count": null,
      "outputs": []
    },
    {
      "cell_type": "markdown",
      "source": [
        "### Model and input tensor construction"
      ],
      "metadata": {
        "id": "LGaY0panQE5g"
      }
    },
    {
      "cell_type": "code",
      "source": [
        "Ntrain = np.floor(0.7*Ncasos).astype(int)   #check if power of 2 needed\n",
        "\n",
        "trainX = INPUT2[0:Ntrain,:,:]\n",
        "testX = INPUT2[Ntrain:Ncasos,:,:]\n",
        "\n",
        "REF_train = REF[0:Ntrain]\n",
        "REF_test = REF[Ntrain:Ncasos]"
      ],
      "metadata": {
        "id": "sJzJyuFjZNX2"
      },
      "execution_count": null,
      "outputs": []
    },
    {
      "cell_type": "code",
      "source": [
        "# define two sets of inputs\n",
        "# https://stackoverflow.com/questions/49875127/share-weights-between-two-dense-layers-in-keras\n",
        "# https://stackoverflow.com/questions/66934276/how-to-create-a-model-with-multiple-shared-layers-in-keras-functional-api\n",
        "offset_inicial = 0.0\n",
        "inputA = Input(shape=(64,),)\n",
        "inputB = Input(shape=(64,))\n",
        "input_REF = Input(shape=(1,))\n",
        "\n",
        "x1 = Dense(256, activation=\"relu\",kernel_initializer=initializers.RandomNormal(mean=0,stddev=0.05))\n",
        "x2 = Dense(64, activation=\"relu\",kernel_initializer=initializers.RandomNormal(mean=0,stddev=0.05))\n",
        "x3 = Dense(1, activation=\"relu\")\n",
        "\n",
        "#kernel_initializer=initializers.RandomNormal(mean=0,stddev=0.5)\n",
        "\n",
        "op1A = x1(inputA)\n",
        "op2A = x2(op1A)\n",
        "op3A = x3(op2A)\n",
        "\n",
        "op1B = x1(inputB)\n",
        "op2B = x2(op1B)\n",
        "op3B = x3(op2B)\n",
        "\n",
        "model_na_5_5 = Model(inputs=[inputA, inputB, input_REF], outputs=[op3A,op3B])\n",
        "\n",
        "# OPTION 1 - USING LOSS FUNCTION IN THE MODEL\n",
        "# https://stackoverflow.com/questions/51680818/keras-custom-loss-as-a-function-of-multiple-outputs\n",
        "# Construct your custom loss as a tensor And Compile without specifying a loss\n",
        "#loss = K.std(op3B-op3A-input_REF-offset_inicial) \n",
        "loss = 0.3*K.mean(abs(op3B-op3A-input_REF))+0.7*K.std(op3B-op3A-input_REF) \n",
        "## Add loss to model\n",
        "model_na_5_5.add_loss(loss)\n",
        "\n",
        "model_na_5_5.summary()"
      ],
      "metadata": {
        "id": "J1irs4s-P3cS",
        "colab": {
          "base_uri": "https://localhost:8080/"
        },
        "outputId": "dbdbc0a9-bcd4-42a9-96f3-8c89b295ac70"
      },
      "execution_count": null,
      "outputs": [
        {
          "output_type": "stream",
          "name": "stdout",
          "text": [
            "Model: \"model_21\"\n",
            "__________________________________________________________________________________________________\n",
            " Layer (type)                   Output Shape         Param #     Connected to                     \n",
            "==================================================================================================\n",
            " input_64 (InputLayer)          [(None, 64)]         0           []                               \n",
            "                                                                                                  \n",
            " input_65 (InputLayer)          [(None, 64)]         0           []                               \n",
            "                                                                                                  \n",
            " dense_63 (Dense)               (None, 256)          16640       ['input_64[0][0]',               \n",
            "                                                                  'input_65[0][0]']               \n",
            "                                                                                                  \n",
            " dense_64 (Dense)               (None, 64)           16448       ['dense_63[0][0]',               \n",
            "                                                                  'dense_63[1][0]']               \n",
            "                                                                                                  \n",
            " input_66 (InputLayer)          [(None, 1)]          0           []                               \n",
            "                                                                                                  \n",
            " dense_65 (Dense)               (None, 1)            65          ['dense_64[0][0]',               \n",
            "                                                                  'dense_64[1][0]']               \n",
            "                                                                                                  \n",
            " tf.math.subtract_62 (TFOpLambd  (None, 1)           0           ['dense_65[1][0]',               \n",
            " a)                                                               'dense_65[0][0]']               \n",
            "                                                                                                  \n",
            " tf.math.subtract_63 (TFOpLambd  (None, 1)           0           ['tf.math.subtract_62[0][0]',    \n",
            " a)                                                               'input_66[0][0]']               \n",
            "                                                                                                  \n",
            " tf.math.subtract_64 (TFOpLambd  (None, 1)           0           ['dense_65[1][0]',               \n",
            " a)                                                               'dense_65[0][0]']               \n",
            "                                                                                                  \n",
            " tf.math.abs_21 (TFOpLambda)    (None, 1)            0           ['tf.math.subtract_63[0][0]']    \n",
            "                                                                                                  \n",
            " tf.math.subtract_65 (TFOpLambd  (None, 1)           0           ['tf.math.subtract_64[0][0]',    \n",
            " a)                                                               'input_66[0][0]']               \n",
            "                                                                                                  \n",
            " tf.math.reduce_mean_21 (TFOpLa  ()                  0           ['tf.math.abs_21[0][0]']         \n",
            " mbda)                                                                                            \n",
            "                                                                                                  \n",
            " tf.math.reduce_std_10 (TFOpLam  ()                  0           ['tf.math.subtract_65[0][0]']    \n",
            " bda)                                                                                             \n",
            "                                                                                                  \n",
            " tf.math.multiply_21 (TFOpLambd  ()                  0           ['tf.math.reduce_mean_21[0][0]'] \n",
            " a)                                                                                               \n",
            "                                                                                                  \n",
            " tf.math.multiply_22 (TFOpLambd  ()                  0           ['tf.math.reduce_std_10[0][0]']  \n",
            " a)                                                                                               \n",
            "                                                                                                  \n",
            " tf.__operators__.add_10 (TFOpL  ()                  0           ['tf.math.multiply_21[0][0]',    \n",
            " ambda)                                                           'tf.math.multiply_22[0][0]']    \n",
            "                                                                                                  \n",
            " add_loss_20 (AddLoss)          ()                   0           ['tf.__operators__.add_10[0][0]']\n",
            "                                                                                                  \n",
            "==================================================================================================\n",
            "Total params: 33,153\n",
            "Trainable params: 33,153\n",
            "Non-trainable params: 0\n",
            "__________________________________________________________________________________________________\n"
          ]
        }
      ]
    },
    {
      "cell_type": "code",
      "source": [
        "opt = tf.keras.optimizers.Adam(learning_rate=1e-4)\n",
        "model_na_5_5.compile(optimizer=opt) #, metrics=['accuracy']\n",
        "history = model_na_5_5.fit(x=[trainX[:,:,0], trainX[:,:,1], REF_train],y=None,validation_data=([testX[:,:,0], testX[:,:,1],REF_test],[]),epochs=350, batch_size=128,shuffle=True)  "
      ],
      "metadata": {
        "colab": {
          "base_uri": "https://localhost:8080/"
        },
        "id": "KpUS33nIavL3",
        "outputId": "98137337-604e-49e0-bf27-8fdea8b240e4"
      },
      "execution_count": null,
      "outputs": [
        {
          "output_type": "stream",
          "name": "stdout",
          "text": [
            "Epoch 1/350\n",
            "65/65 [==============================] - 1s 9ms/step - loss: 3.0986 - val_loss: 2.5747\n",
            "Epoch 2/350\n",
            "65/65 [==============================] - 0s 8ms/step - loss: 1.8891 - val_loss: 1.2145\n",
            "Epoch 3/350\n",
            "65/65 [==============================] - 1s 8ms/step - loss: 1.0563 - val_loss: 0.9916\n",
            "Epoch 4/350\n",
            "65/65 [==============================] - 0s 7ms/step - loss: 0.9955 - val_loss: 0.9637\n",
            "Epoch 5/350\n",
            "65/65 [==============================] - 0s 7ms/step - loss: 0.9675 - val_loss: 0.9457\n",
            "Epoch 6/350\n",
            "65/65 [==============================] - 1s 9ms/step - loss: 0.9507 - val_loss: 0.9307\n",
            "Epoch 7/350\n",
            "65/65 [==============================] - 0s 7ms/step - loss: 0.9347 - val_loss: 0.9204\n",
            "Epoch 8/350\n",
            "65/65 [==============================] - 0s 7ms/step - loss: 0.9255 - val_loss: 0.9134\n",
            "Epoch 9/350\n",
            "65/65 [==============================] - 0s 6ms/step - loss: 0.9148 - val_loss: 0.9090\n",
            "Epoch 10/350\n",
            "65/65 [==============================] - 0s 7ms/step - loss: 0.9070 - val_loss: 0.8969\n",
            "Epoch 11/350\n",
            "65/65 [==============================] - 0s 7ms/step - loss: 0.8978 - val_loss: 0.8936\n",
            "Epoch 12/350\n",
            "65/65 [==============================] - 0s 6ms/step - loss: 0.8874 - val_loss: 0.8861\n",
            "Epoch 13/350\n",
            "65/65 [==============================] - 0s 6ms/step - loss: 0.8823 - val_loss: 0.8793\n",
            "Epoch 14/350\n",
            "65/65 [==============================] - 0s 6ms/step - loss: 0.8714 - val_loss: 0.8682\n",
            "Epoch 15/350\n",
            "65/65 [==============================] - 0s 7ms/step - loss: 0.8642 - val_loss: 0.8641\n",
            "Epoch 16/350\n",
            "65/65 [==============================] - 0s 7ms/step - loss: 0.8579 - val_loss: 0.8562\n",
            "Epoch 17/350\n",
            "65/65 [==============================] - 0s 6ms/step - loss: 0.8503 - val_loss: 0.8475\n",
            "Epoch 18/350\n",
            "65/65 [==============================] - 1s 8ms/step - loss: 0.8433 - val_loss: 0.8460\n",
            "Epoch 19/350\n",
            "65/65 [==============================] - 1s 8ms/step - loss: 0.8383 - val_loss: 0.8353\n",
            "Epoch 20/350\n",
            "65/65 [==============================] - 0s 6ms/step - loss: 0.8322 - val_loss: 0.8330\n",
            "Epoch 21/350\n",
            "65/65 [==============================] - 0s 7ms/step - loss: 0.8242 - val_loss: 0.8243\n",
            "Epoch 22/350\n",
            "65/65 [==============================] - 0s 7ms/step - loss: 0.8210 - val_loss: 0.8240\n",
            "Epoch 23/350\n",
            "65/65 [==============================] - 0s 7ms/step - loss: 0.8142 - val_loss: 0.8154\n",
            "Epoch 24/350\n",
            "65/65 [==============================] - 0s 6ms/step - loss: 0.8084 - val_loss: 0.8110\n",
            "Epoch 25/350\n",
            "65/65 [==============================] - 0s 6ms/step - loss: 0.8041 - val_loss: 0.8085\n",
            "Epoch 26/350\n",
            "65/65 [==============================] - 0s 6ms/step - loss: 0.7998 - val_loss: 0.8064\n",
            "Epoch 27/350\n",
            "65/65 [==============================] - 0s 6ms/step - loss: 0.7965 - val_loss: 0.8022\n",
            "Epoch 28/350\n",
            "65/65 [==============================] - 0s 6ms/step - loss: 0.7916 - val_loss: 0.7948\n",
            "Epoch 29/350\n",
            "65/65 [==============================] - 0s 6ms/step - loss: 0.7882 - val_loss: 0.7925\n",
            "Epoch 30/350\n",
            "65/65 [==============================] - 0s 6ms/step - loss: 0.7842 - val_loss: 0.7893\n",
            "Epoch 31/350\n",
            "65/65 [==============================] - 0s 7ms/step - loss: 0.7819 - val_loss: 0.7905\n",
            "Epoch 32/350\n",
            "65/65 [==============================] - 0s 7ms/step - loss: 0.7803 - val_loss: 0.7830\n",
            "Epoch 33/350\n",
            "65/65 [==============================] - 0s 7ms/step - loss: 0.7774 - val_loss: 0.7932\n",
            "Epoch 34/350\n",
            "65/65 [==============================] - 0s 7ms/step - loss: 0.7740 - val_loss: 0.7787\n",
            "Epoch 35/350\n",
            "65/65 [==============================] - 0s 6ms/step - loss: 0.7711 - val_loss: 0.7792\n",
            "Epoch 36/350\n",
            "65/65 [==============================] - 0s 6ms/step - loss: 0.7690 - val_loss: 0.7759\n",
            "Epoch 37/350\n",
            "65/65 [==============================] - 0s 6ms/step - loss: 0.7675 - val_loss: 0.7723\n",
            "Epoch 38/350\n",
            "65/65 [==============================] - 0s 6ms/step - loss: 0.7670 - val_loss: 0.7709\n",
            "Epoch 39/350\n",
            "65/65 [==============================] - 0s 7ms/step - loss: 0.7644 - val_loss: 0.7745\n",
            "Epoch 40/350\n",
            "65/65 [==============================] - 0s 6ms/step - loss: 0.7637 - val_loss: 0.7692\n",
            "Epoch 41/350\n",
            "65/65 [==============================] - 0s 6ms/step - loss: 0.7596 - val_loss: 0.7645\n",
            "Epoch 42/350\n",
            "65/65 [==============================] - 0s 7ms/step - loss: 0.7589 - val_loss: 0.7635\n",
            "Epoch 43/350\n",
            "65/65 [==============================] - 0s 7ms/step - loss: 0.7569 - val_loss: 0.7625\n",
            "Epoch 44/350\n",
            "65/65 [==============================] - 0s 7ms/step - loss: 0.7562 - val_loss: 0.7625\n",
            "Epoch 45/350\n",
            "65/65 [==============================] - 1s 8ms/step - loss: 0.7552 - val_loss: 0.7612\n",
            "Epoch 46/350\n",
            "65/65 [==============================] - 0s 6ms/step - loss: 0.7537 - val_loss: 0.7575\n",
            "Epoch 47/350\n",
            "65/65 [==============================] - 0s 6ms/step - loss: 0.7519 - val_loss: 0.7629\n",
            "Epoch 48/350\n",
            "65/65 [==============================] - 0s 6ms/step - loss: 0.7522 - val_loss: 0.7603\n",
            "Epoch 49/350\n",
            "65/65 [==============================] - 0s 6ms/step - loss: 0.7519 - val_loss: 0.7558\n",
            "Epoch 50/350\n",
            "65/65 [==============================] - 0s 7ms/step - loss: 0.7480 - val_loss: 0.7524\n",
            "Epoch 51/350\n",
            "65/65 [==============================] - 0s 6ms/step - loss: 0.7469 - val_loss: 0.7530\n",
            "Epoch 52/350\n",
            "65/65 [==============================] - 0s 5ms/step - loss: 0.7459 - val_loss: 0.7563\n",
            "Epoch 53/350\n",
            "65/65 [==============================] - 0s 6ms/step - loss: 0.7470 - val_loss: 0.7487\n",
            "Epoch 54/350\n",
            "65/65 [==============================] - 0s 6ms/step - loss: 0.7456 - val_loss: 0.7481\n",
            "Epoch 55/350\n",
            "65/65 [==============================] - 0s 6ms/step - loss: 0.7427 - val_loss: 0.7513\n",
            "Epoch 56/350\n",
            "65/65 [==============================] - 0s 7ms/step - loss: 0.7422 - val_loss: 0.7500\n",
            "Epoch 57/350\n",
            "65/65 [==============================] - 0s 7ms/step - loss: 0.7411 - val_loss: 0.7503\n",
            "Epoch 58/350\n",
            "65/65 [==============================] - 0s 6ms/step - loss: 0.7399 - val_loss: 0.7452\n",
            "Epoch 59/350\n",
            "65/65 [==============================] - 0s 6ms/step - loss: 0.7404 - val_loss: 0.7512\n",
            "Epoch 60/350\n",
            "65/65 [==============================] - 0s 6ms/step - loss: 0.7409 - val_loss: 0.7425\n",
            "Epoch 61/350\n",
            "65/65 [==============================] - 0s 6ms/step - loss: 0.7372 - val_loss: 0.7411\n",
            "Epoch 62/350\n",
            "65/65 [==============================] - 0s 6ms/step - loss: 0.7353 - val_loss: 0.7402\n",
            "Epoch 63/350\n",
            "65/65 [==============================] - 0s 6ms/step - loss: 0.7356 - val_loss: 0.7393\n",
            "Epoch 64/350\n",
            "65/65 [==============================] - 0s 6ms/step - loss: 0.7348 - val_loss: 0.7421\n",
            "Epoch 65/350\n",
            "65/65 [==============================] - 0s 6ms/step - loss: 0.7349 - val_loss: 0.7387\n",
            "Epoch 66/350\n",
            "65/65 [==============================] - 0s 6ms/step - loss: 0.7338 - val_loss: 0.7367\n",
            "Epoch 67/350\n",
            "65/65 [==============================] - 0s 6ms/step - loss: 0.7320 - val_loss: 0.7369\n",
            "Epoch 68/350\n",
            "65/65 [==============================] - 1s 8ms/step - loss: 0.7309 - val_loss: 0.7364\n",
            "Epoch 69/350\n",
            "65/65 [==============================] - 0s 7ms/step - loss: 0.7299 - val_loss: 0.7403\n",
            "Epoch 70/350\n",
            "65/65 [==============================] - 0s 8ms/step - loss: 0.7302 - val_loss: 0.7336\n",
            "Epoch 71/350\n",
            "65/65 [==============================] - 0s 6ms/step - loss: 0.7331 - val_loss: 0.7323\n",
            "Epoch 72/350\n",
            "65/65 [==============================] - 0s 7ms/step - loss: 0.7318 - val_loss: 0.7349\n",
            "Epoch 73/350\n",
            "65/65 [==============================] - 0s 6ms/step - loss: 0.7300 - val_loss: 0.7311\n",
            "Epoch 74/350\n",
            "65/65 [==============================] - 0s 7ms/step - loss: 0.7290 - val_loss: 0.7372\n",
            "Epoch 75/350\n",
            "65/65 [==============================] - 0s 7ms/step - loss: 0.7264 - val_loss: 0.7307\n",
            "Epoch 76/350\n",
            "65/65 [==============================] - 0s 7ms/step - loss: 0.7265 - val_loss: 0.7306\n",
            "Epoch 77/350\n",
            "65/65 [==============================] - 0s 7ms/step - loss: 0.7280 - val_loss: 0.7291\n",
            "Epoch 78/350\n",
            "65/65 [==============================] - 0s 6ms/step - loss: 0.7257 - val_loss: 0.7334\n",
            "Epoch 79/350\n",
            "65/65 [==============================] - 0s 6ms/step - loss: 0.7249 - val_loss: 0.7278\n",
            "Epoch 80/350\n",
            "65/65 [==============================] - 0s 7ms/step - loss: 0.7237 - val_loss: 0.7322\n",
            "Epoch 81/350\n",
            "65/65 [==============================] - 0s 7ms/step - loss: 0.7224 - val_loss: 0.7260\n",
            "Epoch 82/350\n",
            "65/65 [==============================] - 0s 7ms/step - loss: 0.7237 - val_loss: 0.7286\n",
            "Epoch 83/350\n",
            "65/65 [==============================] - 0s 7ms/step - loss: 0.7237 - val_loss: 0.7249\n",
            "Epoch 84/350\n",
            "65/65 [==============================] - 0s 6ms/step - loss: 0.7204 - val_loss: 0.7240\n",
            "Epoch 85/350\n",
            "65/65 [==============================] - 0s 6ms/step - loss: 0.7221 - val_loss: 0.7270\n",
            "Epoch 86/350\n",
            "65/65 [==============================] - 0s 6ms/step - loss: 0.7192 - val_loss: 0.7257\n",
            "Epoch 87/350\n",
            "65/65 [==============================] - 0s 7ms/step - loss: 0.7189 - val_loss: 0.7225\n",
            "Epoch 88/350\n",
            "65/65 [==============================] - 0s 7ms/step - loss: 0.7179 - val_loss: 0.7269\n",
            "Epoch 89/350\n",
            "65/65 [==============================] - 0s 7ms/step - loss: 0.7176 - val_loss: 0.7237\n",
            "Epoch 90/350\n",
            "65/65 [==============================] - 0s 7ms/step - loss: 0.7189 - val_loss: 0.7233\n",
            "Epoch 91/350\n",
            "65/65 [==============================] - 1s 9ms/step - loss: 0.7167 - val_loss: 0.7211\n",
            "Epoch 92/350\n",
            "65/65 [==============================] - 0s 7ms/step - loss: 0.7163 - val_loss: 0.7209\n",
            "Epoch 93/350\n",
            "65/65 [==============================] - 0s 7ms/step - loss: 0.7162 - val_loss: 0.7214\n",
            "Epoch 94/350\n",
            "65/65 [==============================] - 0s 6ms/step - loss: 0.7189 - val_loss: 0.7222\n",
            "Epoch 95/350\n",
            "65/65 [==============================] - 0s 6ms/step - loss: 0.7164 - val_loss: 0.7205\n",
            "Epoch 96/350\n",
            "65/65 [==============================] - 0s 7ms/step - loss: 0.7168 - val_loss: 0.7196\n",
            "Epoch 97/350\n",
            "65/65 [==============================] - 0s 7ms/step - loss: 0.7140 - val_loss: 0.7195\n",
            "Epoch 98/350\n",
            "65/65 [==============================] - 0s 8ms/step - loss: 0.7134 - val_loss: 0.7197\n",
            "Epoch 99/350\n",
            "65/65 [==============================] - 0s 7ms/step - loss: 0.7134 - val_loss: 0.7218\n",
            "Epoch 100/350\n",
            "65/65 [==============================] - 0s 7ms/step - loss: 0.7135 - val_loss: 0.7183\n",
            "Epoch 101/350\n",
            "65/65 [==============================] - 0s 7ms/step - loss: 0.7128 - val_loss: 0.7191\n",
            "Epoch 102/350\n",
            "65/65 [==============================] - 0s 6ms/step - loss: 0.7121 - val_loss: 0.7173\n",
            "Epoch 103/350\n",
            "65/65 [==============================] - 0s 6ms/step - loss: 0.7120 - val_loss: 0.7200\n",
            "Epoch 104/350\n",
            "65/65 [==============================] - 0s 6ms/step - loss: 0.7135 - val_loss: 0.7255\n",
            "Epoch 105/350\n",
            "65/65 [==============================] - 0s 6ms/step - loss: 0.7130 - val_loss: 0.7183\n",
            "Epoch 106/350\n",
            "65/65 [==============================] - 0s 6ms/step - loss: 0.7116 - val_loss: 0.7174\n",
            "Epoch 107/350\n",
            "65/65 [==============================] - 0s 6ms/step - loss: 0.7098 - val_loss: 0.7215\n",
            "Epoch 108/350\n",
            "65/65 [==============================] - 0s 6ms/step - loss: 0.7115 - val_loss: 0.7172\n",
            "Epoch 109/350\n",
            "65/65 [==============================] - 0s 6ms/step - loss: 0.7109 - val_loss: 0.7186\n",
            "Epoch 110/350\n",
            "65/65 [==============================] - 0s 7ms/step - loss: 0.7102 - val_loss: 0.7157\n",
            "Epoch 111/350\n",
            "65/65 [==============================] - 1s 8ms/step - loss: 0.7090 - val_loss: 0.7168\n",
            "Epoch 112/350\n",
            "65/65 [==============================] - 0s 6ms/step - loss: 0.7090 - val_loss: 0.7191\n",
            "Epoch 113/350\n",
            "65/65 [==============================] - 0s 6ms/step - loss: 0.7090 - val_loss: 0.7208\n",
            "Epoch 114/350\n",
            "65/65 [==============================] - 0s 6ms/step - loss: 0.7091 - val_loss: 0.7203\n",
            "Epoch 115/350\n",
            "65/65 [==============================] - 0s 6ms/step - loss: 0.7100 - val_loss: 0.7174\n",
            "Epoch 116/350\n",
            "65/65 [==============================] - 0s 6ms/step - loss: 0.7082 - val_loss: 0.7251\n",
            "Epoch 117/350\n",
            "65/65 [==============================] - 0s 7ms/step - loss: 0.7081 - val_loss: 0.7157\n",
            "Epoch 118/350\n",
            "65/65 [==============================] - 0s 7ms/step - loss: 0.7085 - val_loss: 0.7158\n",
            "Epoch 119/350\n",
            "65/65 [==============================] - 1s 8ms/step - loss: 0.7075 - val_loss: 0.7192\n",
            "Epoch 120/350\n",
            "65/65 [==============================] - 1s 8ms/step - loss: 0.7079 - val_loss: 0.7153\n",
            "Epoch 121/350\n",
            "65/65 [==============================] - 1s 8ms/step - loss: 0.7072 - val_loss: 0.7241\n",
            "Epoch 122/350\n",
            "65/65 [==============================] - 0s 7ms/step - loss: 0.7097 - val_loss: 0.7181\n",
            "Epoch 123/350\n",
            "65/65 [==============================] - 1s 8ms/step - loss: 0.7097 - val_loss: 0.7138\n",
            "Epoch 124/350\n",
            "65/65 [==============================] - 0s 7ms/step - loss: 0.7057 - val_loss: 0.7146\n",
            "Epoch 125/350\n",
            "65/65 [==============================] - 0s 7ms/step - loss: 0.7080 - val_loss: 0.7229\n",
            "Epoch 126/350\n",
            "65/65 [==============================] - 1s 8ms/step - loss: 0.7080 - val_loss: 0.7146\n",
            "Epoch 127/350\n",
            "65/65 [==============================] - 1s 8ms/step - loss: 0.7064 - val_loss: 0.7125\n",
            "Epoch 128/350\n",
            "65/65 [==============================] - 0s 7ms/step - loss: 0.7082 - val_loss: 0.7191\n",
            "Epoch 129/350\n",
            "65/65 [==============================] - 0s 7ms/step - loss: 0.7055 - val_loss: 0.7123\n",
            "Epoch 130/350\n",
            "65/65 [==============================] - 1s 9ms/step - loss: 0.7041 - val_loss: 0.7135\n",
            "Epoch 131/350\n",
            "65/65 [==============================] - 0s 7ms/step - loss: 0.7046 - val_loss: 0.7108\n",
            "Epoch 132/350\n",
            "65/65 [==============================] - 0s 7ms/step - loss: 0.7043 - val_loss: 0.7123\n",
            "Epoch 133/350\n",
            "65/65 [==============================] - 1s 8ms/step - loss: 0.7048 - val_loss: 0.7113\n",
            "Epoch 134/350\n",
            "65/65 [==============================] - 0s 6ms/step - loss: 0.7048 - val_loss: 0.7111\n",
            "Epoch 135/350\n",
            "65/65 [==============================] - 0s 7ms/step - loss: 0.7042 - val_loss: 0.7110\n",
            "Epoch 136/350\n",
            "65/65 [==============================] - 0s 6ms/step - loss: 0.7029 - val_loss: 0.7139\n",
            "Epoch 137/350\n",
            "65/65 [==============================] - 0s 6ms/step - loss: 0.7036 - val_loss: 0.7101\n",
            "Epoch 138/350\n",
            "65/65 [==============================] - 0s 5ms/step - loss: 0.7026 - val_loss: 0.7106\n",
            "Epoch 139/350\n",
            "65/65 [==============================] - 0s 6ms/step - loss: 0.7021 - val_loss: 0.7141\n",
            "Epoch 140/350\n",
            "65/65 [==============================] - 0s 6ms/step - loss: 0.7035 - val_loss: 0.7098\n",
            "Epoch 141/350\n",
            "65/65 [==============================] - 0s 6ms/step - loss: 0.7028 - val_loss: 0.7096\n",
            "Epoch 142/350\n",
            "65/65 [==============================] - 0s 6ms/step - loss: 0.7028 - val_loss: 0.7131\n",
            "Epoch 143/350\n",
            "65/65 [==============================] - 0s 6ms/step - loss: 0.7032 - val_loss: 0.7090\n",
            "Epoch 144/350\n",
            "65/65 [==============================] - 0s 6ms/step - loss: 0.7025 - val_loss: 0.7086\n",
            "Epoch 145/350\n",
            "65/65 [==============================] - 0s 6ms/step - loss: 0.7000 - val_loss: 0.7107\n",
            "Epoch 146/350\n",
            "65/65 [==============================] - 0s 6ms/step - loss: 0.7022 - val_loss: 0.7102\n",
            "Epoch 147/350\n",
            "65/65 [==============================] - 0s 6ms/step - loss: 0.7019 - val_loss: 0.7093\n",
            "Epoch 148/350\n",
            "65/65 [==============================] - 0s 6ms/step - loss: 0.7016 - val_loss: 0.7101\n",
            "Epoch 149/350\n",
            "65/65 [==============================] - 0s 7ms/step - loss: 0.7005 - val_loss: 0.7120\n",
            "Epoch 150/350\n",
            "65/65 [==============================] - 1s 8ms/step - loss: 0.6998 - val_loss: 0.7136\n",
            "Epoch 151/350\n",
            "65/65 [==============================] - 0s 7ms/step - loss: 0.7009 - val_loss: 0.7069\n",
            "Epoch 152/350\n",
            "65/65 [==============================] - 1s 8ms/step - loss: 0.7020 - val_loss: 0.7077\n",
            "Epoch 153/350\n",
            "65/65 [==============================] - 0s 7ms/step - loss: 0.7023 - val_loss: 0.7102\n",
            "Epoch 154/350\n",
            "65/65 [==============================] - 0s 6ms/step - loss: 0.7030 - val_loss: 0.7102\n",
            "Epoch 155/350\n",
            "65/65 [==============================] - 0s 7ms/step - loss: 0.7013 - val_loss: 0.7080\n",
            "Epoch 156/350\n",
            "65/65 [==============================] - 0s 6ms/step - loss: 0.7011 - val_loss: 0.7070\n",
            "Epoch 157/350\n",
            "65/65 [==============================] - 0s 7ms/step - loss: 0.7001 - val_loss: 0.7085\n",
            "Epoch 158/350\n",
            "65/65 [==============================] - 0s 6ms/step - loss: 0.6992 - val_loss: 0.7057\n",
            "Epoch 159/350\n",
            "65/65 [==============================] - 0s 7ms/step - loss: 0.6987 - val_loss: 0.7106\n",
            "Epoch 160/350\n",
            "65/65 [==============================] - 0s 6ms/step - loss: 0.6978 - val_loss: 0.7077\n",
            "Epoch 161/350\n",
            "65/65 [==============================] - 0s 7ms/step - loss: 0.7007 - val_loss: 0.7051\n",
            "Epoch 162/350\n",
            "65/65 [==============================] - 1s 8ms/step - loss: 0.7007 - val_loss: 0.7162\n",
            "Epoch 163/350\n",
            "65/65 [==============================] - 0s 6ms/step - loss: 0.6999 - val_loss: 0.7056\n",
            "Epoch 164/350\n",
            "65/65 [==============================] - 0s 6ms/step - loss: 0.6990 - val_loss: 0.7119\n",
            "Epoch 165/350\n",
            "65/65 [==============================] - 0s 7ms/step - loss: 0.6980 - val_loss: 0.7065\n",
            "Epoch 166/350\n",
            "65/65 [==============================] - 1s 8ms/step - loss: 0.6982 - val_loss: 0.7078\n",
            "Epoch 167/350\n",
            "65/65 [==============================] - 0s 7ms/step - loss: 0.6992 - val_loss: 0.7059\n",
            "Epoch 168/350\n",
            "65/65 [==============================] - 0s 7ms/step - loss: 0.6981 - val_loss: 0.7086\n",
            "Epoch 169/350\n",
            "65/65 [==============================] - 0s 7ms/step - loss: 0.7013 - val_loss: 0.7078\n",
            "Epoch 170/350\n",
            "65/65 [==============================] - 0s 6ms/step - loss: 0.6982 - val_loss: 0.7046\n",
            "Epoch 171/350\n",
            "65/65 [==============================] - 0s 8ms/step - loss: 0.6980 - val_loss: 0.7041\n",
            "Epoch 172/350\n",
            "65/65 [==============================] - 0s 7ms/step - loss: 0.6974 - val_loss: 0.7039\n",
            "Epoch 173/350\n",
            "65/65 [==============================] - 1s 9ms/step - loss: 0.6985 - val_loss: 0.7037\n",
            "Epoch 174/350\n",
            "65/65 [==============================] - 0s 6ms/step - loss: 0.6958 - val_loss: 0.7053\n",
            "Epoch 175/350\n",
            "65/65 [==============================] - 0s 7ms/step - loss: 0.6952 - val_loss: 0.7039\n",
            "Epoch 176/350\n",
            "65/65 [==============================] - 0s 6ms/step - loss: 0.6988 - val_loss: 0.7046\n",
            "Epoch 177/350\n",
            "65/65 [==============================] - 0s 6ms/step - loss: 0.6969 - val_loss: 0.7035\n",
            "Epoch 178/350\n",
            "65/65 [==============================] - 0s 6ms/step - loss: 0.6959 - val_loss: 0.7027\n",
            "Epoch 179/350\n",
            "65/65 [==============================] - 0s 7ms/step - loss: 0.6960 - val_loss: 0.7034\n",
            "Epoch 180/350\n",
            "65/65 [==============================] - 1s 8ms/step - loss: 0.6955 - val_loss: 0.7034\n",
            "Epoch 181/350\n",
            "65/65 [==============================] - 0s 6ms/step - loss: 0.6957 - val_loss: 0.7106\n",
            "Epoch 182/350\n",
            "65/65 [==============================] - 0s 7ms/step - loss: 0.6960 - val_loss: 0.7067\n",
            "Epoch 183/350\n",
            "65/65 [==============================] - 1s 8ms/step - loss: 0.6938 - val_loss: 0.7021\n",
            "Epoch 184/350\n",
            "65/65 [==============================] - 1s 8ms/step - loss: 0.6937 - val_loss: 0.7028\n",
            "Epoch 185/350\n",
            "65/65 [==============================] - 0s 8ms/step - loss: 0.6956 - val_loss: 0.7030\n",
            "Epoch 186/350\n",
            "65/65 [==============================] - 0s 7ms/step - loss: 0.6936 - val_loss: 0.7027\n",
            "Epoch 187/350\n",
            "65/65 [==============================] - 0s 6ms/step - loss: 0.6953 - val_loss: 0.7043\n",
            "Epoch 188/350\n",
            "65/65 [==============================] - 0s 7ms/step - loss: 0.6956 - val_loss: 0.7028\n",
            "Epoch 189/350\n",
            "65/65 [==============================] - 0s 7ms/step - loss: 0.6942 - val_loss: 0.7056\n",
            "Epoch 190/350\n",
            "65/65 [==============================] - 0s 7ms/step - loss: 0.6951 - val_loss: 0.7032\n",
            "Epoch 191/350\n",
            "65/65 [==============================] - 0s 7ms/step - loss: 0.6943 - val_loss: 0.6998\n",
            "Epoch 192/350\n",
            "65/65 [==============================] - 1s 9ms/step - loss: 0.6934 - val_loss: 0.7007\n",
            "Epoch 193/350\n",
            "65/65 [==============================] - 0s 8ms/step - loss: 0.6946 - val_loss: 0.7010\n",
            "Epoch 194/350\n",
            "65/65 [==============================] - 0s 7ms/step - loss: 0.6938 - val_loss: 0.7082\n",
            "Epoch 195/350\n",
            "65/65 [==============================] - 0s 8ms/step - loss: 0.6936 - val_loss: 0.7038\n",
            "Epoch 196/350\n",
            "65/65 [==============================] - 1s 9ms/step - loss: 0.6932 - val_loss: 0.7023\n",
            "Epoch 197/350\n",
            "65/65 [==============================] - 0s 6ms/step - loss: 0.6914 - val_loss: 0.7012\n",
            "Epoch 198/350\n",
            "65/65 [==============================] - 0s 7ms/step - loss: 0.6923 - val_loss: 0.7031\n",
            "Epoch 199/350\n",
            "65/65 [==============================] - 0s 6ms/step - loss: 0.6910 - val_loss: 0.7000\n",
            "Epoch 200/350\n",
            "65/65 [==============================] - 0s 6ms/step - loss: 0.6924 - val_loss: 0.7017\n",
            "Epoch 201/350\n",
            "65/65 [==============================] - 0s 6ms/step - loss: 0.6923 - val_loss: 0.6990\n",
            "Epoch 202/350\n",
            "65/65 [==============================] - 0s 7ms/step - loss: 0.6911 - val_loss: 0.7006\n",
            "Epoch 203/350\n",
            "65/65 [==============================] - 0s 7ms/step - loss: 0.6918 - val_loss: 0.6993\n",
            "Epoch 204/350\n",
            "65/65 [==============================] - 0s 7ms/step - loss: 0.6941 - val_loss: 0.7021\n",
            "Epoch 205/350\n",
            "65/65 [==============================] - 0s 7ms/step - loss: 0.6916 - val_loss: 0.7000\n",
            "Epoch 206/350\n",
            "65/65 [==============================] - 0s 7ms/step - loss: 0.6908 - val_loss: 0.6988\n",
            "Epoch 207/350\n",
            "65/65 [==============================] - 0s 7ms/step - loss: 0.6909 - val_loss: 0.7039\n",
            "Epoch 208/350\n",
            "65/65 [==============================] - 0s 7ms/step - loss: 0.6922 - val_loss: 0.7028\n",
            "Epoch 209/350\n",
            "65/65 [==============================] - 0s 7ms/step - loss: 0.6898 - val_loss: 0.6977\n",
            "Epoch 210/350\n",
            "65/65 [==============================] - 0s 7ms/step - loss: 0.6902 - val_loss: 0.6974\n",
            "Epoch 211/350\n",
            "65/65 [==============================] - 0s 7ms/step - loss: 0.6893 - val_loss: 0.6969\n",
            "Epoch 212/350\n",
            "65/65 [==============================] - 0s 7ms/step - loss: 0.6906 - val_loss: 0.7016\n",
            "Epoch 213/350\n",
            "65/65 [==============================] - 0s 7ms/step - loss: 0.6921 - val_loss: 0.6983\n",
            "Epoch 214/350\n",
            "65/65 [==============================] - 0s 7ms/step - loss: 0.6907 - val_loss: 0.7051\n",
            "Epoch 215/350\n",
            "65/65 [==============================] - 0s 7ms/step - loss: 0.6895 - val_loss: 0.6977\n",
            "Epoch 216/350\n",
            "65/65 [==============================] - 0s 7ms/step - loss: 0.6890 - val_loss: 0.6969\n",
            "Epoch 217/350\n",
            "65/65 [==============================] - 1s 9ms/step - loss: 0.6892 - val_loss: 0.6974\n",
            "Epoch 218/350\n",
            "65/65 [==============================] - 0s 7ms/step - loss: 0.6885 - val_loss: 0.6971\n",
            "Epoch 219/350\n",
            "65/65 [==============================] - 0s 7ms/step - loss: 0.6886 - val_loss: 0.7011\n",
            "Epoch 220/350\n",
            "65/65 [==============================] - 0s 7ms/step - loss: 0.6874 - val_loss: 0.7005\n",
            "Epoch 221/350\n",
            "65/65 [==============================] - 0s 7ms/step - loss: 0.6890 - val_loss: 0.7013\n",
            "Epoch 222/350\n",
            "65/65 [==============================] - 0s 7ms/step - loss: 0.6886 - val_loss: 0.6954\n",
            "Epoch 223/350\n",
            "65/65 [==============================] - 0s 7ms/step - loss: 0.6879 - val_loss: 0.6997\n",
            "Epoch 224/350\n",
            "65/65 [==============================] - 0s 8ms/step - loss: 0.6888 - val_loss: 0.6960\n",
            "Epoch 225/350\n",
            "65/65 [==============================] - 0s 7ms/step - loss: 0.6880 - val_loss: 0.6997\n",
            "Epoch 226/350\n",
            "65/65 [==============================] - 1s 9ms/step - loss: 0.6890 - val_loss: 0.6942\n",
            "Epoch 227/350\n",
            "65/65 [==============================] - 0s 6ms/step - loss: 0.6886 - val_loss: 0.6951\n",
            "Epoch 228/350\n",
            "65/65 [==============================] - 0s 7ms/step - loss: 0.6855 - val_loss: 0.6949\n",
            "Epoch 229/350\n",
            "65/65 [==============================] - 0s 7ms/step - loss: 0.6864 - val_loss: 0.6997\n",
            "Epoch 230/350\n",
            "65/65 [==============================] - 0s 7ms/step - loss: 0.6884 - val_loss: 0.7065\n",
            "Epoch 231/350\n",
            "65/65 [==============================] - 0s 6ms/step - loss: 0.6863 - val_loss: 0.6934\n",
            "Epoch 232/350\n",
            "65/65 [==============================] - 0s 7ms/step - loss: 0.6864 - val_loss: 0.6964\n",
            "Epoch 233/350\n",
            "65/65 [==============================] - 0s 7ms/step - loss: 0.6864 - val_loss: 0.6954\n",
            "Epoch 234/350\n",
            "65/65 [==============================] - 0s 6ms/step - loss: 0.6864 - val_loss: 0.6951\n",
            "Epoch 235/350\n",
            "65/65 [==============================] - 0s 6ms/step - loss: 0.6859 - val_loss: 0.6942\n",
            "Epoch 236/350\n",
            "65/65 [==============================] - 0s 7ms/step - loss: 0.6851 - val_loss: 0.6933\n",
            "Epoch 237/350\n",
            "65/65 [==============================] - 1s 8ms/step - loss: 0.6874 - val_loss: 0.6936\n",
            "Epoch 238/350\n",
            "65/65 [==============================] - 0s 7ms/step - loss: 0.6866 - val_loss: 0.6943\n",
            "Epoch 239/350\n",
            "65/65 [==============================] - 1s 9ms/step - loss: 0.6874 - val_loss: 0.6931\n",
            "Epoch 240/350\n",
            "65/65 [==============================] - 0s 7ms/step - loss: 0.6860 - val_loss: 0.6938\n",
            "Epoch 241/350\n",
            "65/65 [==============================] - 0s 7ms/step - loss: 0.6849 - val_loss: 0.6987\n",
            "Epoch 242/350\n",
            "65/65 [==============================] - 0s 6ms/step - loss: 0.6860 - val_loss: 0.6922\n",
            "Epoch 243/350\n",
            "65/65 [==============================] - 0s 6ms/step - loss: 0.6840 - val_loss: 0.6930\n",
            "Epoch 244/350\n",
            "65/65 [==============================] - 1s 8ms/step - loss: 0.6849 - val_loss: 0.6923\n",
            "Epoch 245/350\n",
            "65/65 [==============================] - 0s 7ms/step - loss: 0.6842 - val_loss: 0.6930\n",
            "Epoch 246/350\n",
            "65/65 [==============================] - 1s 8ms/step - loss: 0.6854 - val_loss: 0.6922\n",
            "Epoch 247/350\n",
            "65/65 [==============================] - 1s 8ms/step - loss: 0.6828 - val_loss: 0.6979\n",
            "Epoch 248/350\n",
            "65/65 [==============================] - 0s 7ms/step - loss: 0.6835 - val_loss: 0.6921\n",
            "Epoch 249/350\n",
            "65/65 [==============================] - 0s 6ms/step - loss: 0.6832 - val_loss: 0.6914\n",
            "Epoch 250/350\n",
            "65/65 [==============================] - 0s 7ms/step - loss: 0.6831 - val_loss: 0.6939\n",
            "Epoch 251/350\n",
            "65/65 [==============================] - 1s 8ms/step - loss: 0.6843 - val_loss: 0.6955\n",
            "Epoch 252/350\n",
            "65/65 [==============================] - 1s 9ms/step - loss: 0.6843 - val_loss: 0.6920\n",
            "Epoch 253/350\n",
            "65/65 [==============================] - 0s 7ms/step - loss: 0.6829 - val_loss: 0.6909\n",
            "Epoch 254/350\n",
            "65/65 [==============================] - 1s 8ms/step - loss: 0.6815 - val_loss: 0.6976\n",
            "Epoch 255/350\n",
            "65/65 [==============================] - 0s 7ms/step - loss: 0.6845 - val_loss: 0.6917\n",
            "Epoch 256/350\n",
            "65/65 [==============================] - 0s 7ms/step - loss: 0.6818 - val_loss: 0.6893\n",
            "Epoch 257/350\n",
            "65/65 [==============================] - 0s 6ms/step - loss: 0.6828 - val_loss: 0.6917\n",
            "Epoch 258/350\n",
            "65/65 [==============================] - 0s 6ms/step - loss: 0.6829 - val_loss: 0.6901\n",
            "Epoch 259/350\n",
            "65/65 [==============================] - 0s 6ms/step - loss: 0.6818 - val_loss: 0.6922\n",
            "Epoch 260/350\n",
            "65/65 [==============================] - 0s 6ms/step - loss: 0.6813 - val_loss: 0.6909\n",
            "Epoch 261/350\n",
            "65/65 [==============================] - 0s 6ms/step - loss: 0.6809 - val_loss: 0.6912\n",
            "Epoch 262/350\n",
            "65/65 [==============================] - 1s 8ms/step - loss: 0.6851 - val_loss: 0.6893\n",
            "Epoch 263/350\n",
            "65/65 [==============================] - 0s 7ms/step - loss: 0.6807 - val_loss: 0.6908\n",
            "Epoch 264/350\n",
            "65/65 [==============================] - 0s 7ms/step - loss: 0.6823 - val_loss: 0.6882\n",
            "Epoch 265/350\n",
            "65/65 [==============================] - 0s 6ms/step - loss: 0.6841 - val_loss: 0.6909\n",
            "Epoch 266/350\n",
            "65/65 [==============================] - 0s 6ms/step - loss: 0.6803 - val_loss: 0.6884\n",
            "Epoch 267/350\n",
            "65/65 [==============================] - 0s 7ms/step - loss: 0.6808 - val_loss: 0.6929\n",
            "Epoch 268/350\n",
            "65/65 [==============================] - 0s 7ms/step - loss: 0.6836 - val_loss: 0.6908\n",
            "Epoch 269/350\n",
            "65/65 [==============================] - 0s 7ms/step - loss: 0.6804 - val_loss: 0.6871\n",
            "Epoch 270/350\n",
            "65/65 [==============================] - 1s 8ms/step - loss: 0.6801 - val_loss: 0.6882\n",
            "Epoch 271/350\n",
            "65/65 [==============================] - 0s 7ms/step - loss: 0.6805 - val_loss: 0.6906\n",
            "Epoch 272/350\n",
            "65/65 [==============================] - 0s 7ms/step - loss: 0.6796 - val_loss: 0.6924\n",
            "Epoch 273/350\n",
            "65/65 [==============================] - 0s 7ms/step - loss: 0.6780 - val_loss: 0.6926\n",
            "Epoch 274/350\n",
            "65/65 [==============================] - 0s 7ms/step - loss: 0.6787 - val_loss: 0.6889\n",
            "Epoch 275/350\n",
            "65/65 [==============================] - 0s 8ms/step - loss: 0.6816 - val_loss: 0.6944\n",
            "Epoch 276/350\n",
            "65/65 [==============================] - 1s 8ms/step - loss: 0.6819 - val_loss: 0.6865\n",
            "Epoch 277/350\n",
            "65/65 [==============================] - 0s 8ms/step - loss: 0.6797 - val_loss: 0.6981\n",
            "Epoch 278/350\n",
            "65/65 [==============================] - 1s 11ms/step - loss: 0.6812 - val_loss: 0.6870\n",
            "Epoch 279/350\n",
            "65/65 [==============================] - 1s 10ms/step - loss: 0.6794 - val_loss: 0.6881\n",
            "Epoch 280/350\n",
            "65/65 [==============================] - 1s 11ms/step - loss: 0.6795 - val_loss: 0.6924\n",
            "Epoch 281/350\n",
            "65/65 [==============================] - 1s 12ms/step - loss: 0.6799 - val_loss: 0.6903\n",
            "Epoch 282/350\n",
            "65/65 [==============================] - 1s 10ms/step - loss: 0.6779 - val_loss: 0.6889\n",
            "Epoch 283/350\n",
            "65/65 [==============================] - 1s 12ms/step - loss: 0.6781 - val_loss: 0.6896\n",
            "Epoch 284/350\n",
            "65/65 [==============================] - 1s 12ms/step - loss: 0.6793 - val_loss: 0.6881\n",
            "Epoch 285/350\n",
            "65/65 [==============================] - 0s 7ms/step - loss: 0.6796 - val_loss: 0.6898\n",
            "Epoch 286/350\n",
            "65/65 [==============================] - 0s 7ms/step - loss: 0.6782 - val_loss: 0.6873\n",
            "Epoch 287/350\n",
            "65/65 [==============================] - 0s 6ms/step - loss: 0.6802 - val_loss: 0.6972\n",
            "Epoch 288/350\n",
            "65/65 [==============================] - 0s 6ms/step - loss: 0.6788 - val_loss: 0.6884\n",
            "Epoch 289/350\n",
            "65/65 [==============================] - 0s 7ms/step - loss: 0.6782 - val_loss: 0.6850\n",
            "Epoch 290/350\n",
            "65/65 [==============================] - 0s 6ms/step - loss: 0.6768 - val_loss: 0.6860\n",
            "Epoch 291/350\n",
            "65/65 [==============================] - 0s 7ms/step - loss: 0.6775 - val_loss: 0.6860\n",
            "Epoch 292/350\n",
            "65/65 [==============================] - 0s 7ms/step - loss: 0.6800 - val_loss: 0.6912\n",
            "Epoch 293/350\n",
            "65/65 [==============================] - 1s 8ms/step - loss: 0.6789 - val_loss: 0.6847\n",
            "Epoch 294/350\n",
            "65/65 [==============================] - 0s 6ms/step - loss: 0.6772 - val_loss: 0.6880\n",
            "Epoch 295/350\n",
            "65/65 [==============================] - 0s 6ms/step - loss: 0.6771 - val_loss: 0.6881\n",
            "Epoch 296/350\n",
            "65/65 [==============================] - 0s 7ms/step - loss: 0.6779 - val_loss: 0.6860\n",
            "Epoch 297/350\n",
            "65/65 [==============================] - 0s 7ms/step - loss: 0.6773 - val_loss: 0.6848\n",
            "Epoch 298/350\n",
            "65/65 [==============================] - 1s 9ms/step - loss: 0.6748 - val_loss: 0.6879\n",
            "Epoch 299/350\n",
            "65/65 [==============================] - 0s 7ms/step - loss: 0.6762 - val_loss: 0.6842\n",
            "Epoch 300/350\n",
            "65/65 [==============================] - 0s 7ms/step - loss: 0.6761 - val_loss: 0.6904\n",
            "Epoch 301/350\n",
            "65/65 [==============================] - 0s 6ms/step - loss: 0.6794 - val_loss: 0.6858\n",
            "Epoch 302/350\n",
            "65/65 [==============================] - 0s 6ms/step - loss: 0.6777 - val_loss: 0.6838\n",
            "Epoch 303/350\n",
            "65/65 [==============================] - 0s 6ms/step - loss: 0.6756 - val_loss: 0.6868\n",
            "Epoch 304/350\n",
            "65/65 [==============================] - 0s 6ms/step - loss: 0.6743 - val_loss: 0.6869\n",
            "Epoch 305/350\n",
            "65/65 [==============================] - 0s 6ms/step - loss: 0.6755 - val_loss: 0.6833\n",
            "Epoch 306/350\n",
            "65/65 [==============================] - 0s 7ms/step - loss: 0.6750 - val_loss: 0.6851\n",
            "Epoch 307/350\n",
            "65/65 [==============================] - 0s 6ms/step - loss: 0.6746 - val_loss: 0.6838\n",
            "Epoch 308/350\n",
            "65/65 [==============================] - 0s 6ms/step - loss: 0.6786 - val_loss: 0.6855\n",
            "Epoch 309/350\n",
            "65/65 [==============================] - 0s 6ms/step - loss: 0.6754 - val_loss: 0.6850\n",
            "Epoch 310/350\n",
            "65/65 [==============================] - 0s 6ms/step - loss: 0.6731 - val_loss: 0.6824\n",
            "Epoch 311/350\n",
            "65/65 [==============================] - 0s 6ms/step - loss: 0.6746 - val_loss: 0.6831\n",
            "Epoch 312/350\n",
            "65/65 [==============================] - 0s 6ms/step - loss: 0.6736 - val_loss: 0.6834\n",
            "Epoch 313/350\n",
            "65/65 [==============================] - 0s 7ms/step - loss: 0.6745 - val_loss: 0.6830\n",
            "Epoch 314/350\n",
            "65/65 [==============================] - 0s 6ms/step - loss: 0.6765 - val_loss: 0.6829\n",
            "Epoch 315/350\n",
            "65/65 [==============================] - 0s 8ms/step - loss: 0.6735 - val_loss: 0.6819\n",
            "Epoch 316/350\n",
            "65/65 [==============================] - 0s 7ms/step - loss: 0.6732 - val_loss: 0.6815\n",
            "Epoch 317/350\n",
            "65/65 [==============================] - 0s 7ms/step - loss: 0.6786 - val_loss: 0.6913\n",
            "Epoch 318/350\n",
            "65/65 [==============================] - 0s 6ms/step - loss: 0.6747 - val_loss: 0.6854\n",
            "Epoch 319/350\n",
            "65/65 [==============================] - 0s 6ms/step - loss: 0.6735 - val_loss: 0.6821\n",
            "Epoch 320/350\n",
            "65/65 [==============================] - 0s 6ms/step - loss: 0.6744 - val_loss: 0.6834\n",
            "Epoch 321/350\n",
            "65/65 [==============================] - 0s 6ms/step - loss: 0.6736 - val_loss: 0.6853\n",
            "Epoch 322/350\n",
            "65/65 [==============================] - 0s 6ms/step - loss: 0.6730 - val_loss: 0.6854\n",
            "Epoch 323/350\n",
            "65/65 [==============================] - 0s 6ms/step - loss: 0.6744 - val_loss: 0.6965\n",
            "Epoch 324/350\n",
            "65/65 [==============================] - 0s 6ms/step - loss: 0.6745 - val_loss: 0.6812\n",
            "Epoch 325/350\n",
            "65/65 [==============================] - 0s 6ms/step - loss: 0.6718 - val_loss: 0.6827\n",
            "Epoch 326/350\n",
            "65/65 [==============================] - 0s 6ms/step - loss: 0.6715 - val_loss: 0.7029\n",
            "Epoch 327/350\n",
            "65/65 [==============================] - 0s 6ms/step - loss: 0.6720 - val_loss: 0.6802\n",
            "Epoch 328/350\n",
            "65/65 [==============================] - 0s 7ms/step - loss: 0.6733 - val_loss: 0.6847\n",
            "Epoch 329/350\n",
            "65/65 [==============================] - 0s 6ms/step - loss: 0.6717 - val_loss: 0.6831\n",
            "Epoch 330/350\n",
            "65/65 [==============================] - 0s 7ms/step - loss: 0.6737 - val_loss: 0.6805\n",
            "Epoch 331/350\n",
            "65/65 [==============================] - 0s 7ms/step - loss: 0.6723 - val_loss: 0.6895\n",
            "Epoch 332/350\n",
            "65/65 [==============================] - 0s 7ms/step - loss: 0.6717 - val_loss: 0.6830\n",
            "Epoch 333/350\n",
            "65/65 [==============================] - 0s 7ms/step - loss: 0.6715 - val_loss: 0.6800\n",
            "Epoch 334/350\n",
            "65/65 [==============================] - 0s 7ms/step - loss: 0.6723 - val_loss: 0.6824\n",
            "Epoch 335/350\n",
            "65/65 [==============================] - 0s 7ms/step - loss: 0.6717 - val_loss: 0.6803\n",
            "Epoch 336/350\n",
            "65/65 [==============================] - 0s 6ms/step - loss: 0.6710 - val_loss: 0.6810\n",
            "Epoch 337/350\n",
            "65/65 [==============================] - 0s 7ms/step - loss: 0.6714 - val_loss: 0.6864\n",
            "Epoch 338/350\n",
            "65/65 [==============================] - 0s 7ms/step - loss: 0.6727 - val_loss: 0.6805\n",
            "Epoch 339/350\n",
            "65/65 [==============================] - 0s 7ms/step - loss: 0.6712 - val_loss: 0.6807\n",
            "Epoch 340/350\n",
            "65/65 [==============================] - 0s 7ms/step - loss: 0.6705 - val_loss: 0.6789\n",
            "Epoch 341/350\n",
            "65/65 [==============================] - 0s 7ms/step - loss: 0.6720 - val_loss: 0.6820\n",
            "Epoch 342/350\n",
            "65/65 [==============================] - 0s 7ms/step - loss: 0.6712 - val_loss: 0.6799\n",
            "Epoch 343/350\n",
            "65/65 [==============================] - 0s 7ms/step - loss: 0.6696 - val_loss: 0.6845\n",
            "Epoch 344/350\n",
            "65/65 [==============================] - 0s 7ms/step - loss: 0.6708 - val_loss: 0.6861\n",
            "Epoch 345/350\n",
            "65/65 [==============================] - 0s 7ms/step - loss: 0.6700 - val_loss: 0.6802\n",
            "Epoch 346/350\n",
            "65/65 [==============================] - 1s 9ms/step - loss: 0.6705 - val_loss: 0.6788\n",
            "Epoch 347/350\n",
            "65/65 [==============================] - 0s 7ms/step - loss: 0.6691 - val_loss: 0.6808\n",
            "Epoch 348/350\n",
            "65/65 [==============================] - 0s 6ms/step - loss: 0.6698 - val_loss: 0.6784\n",
            "Epoch 349/350\n",
            "65/65 [==============================] - 0s 6ms/step - loss: 0.6692 - val_loss: 0.6775\n",
            "Epoch 350/350\n",
            "65/65 [==============================] - 1s 8ms/step - loss: 0.6687 - val_loss: 0.6774\n"
          ]
        }
      ]
    },
    {
      "cell_type": "code",
      "source": [
        "plt.figure(figsize=(8,6))\n",
        "plt.plot(history.history['loss'])\n",
        "plt.plot(history.history['val_loss'])\n",
        "plt.title('model loss')\n",
        "plt.ylabel('loss')\n",
        "plt.xlabel('epoch')\n",
        "plt.legend(['train', 'test'], loc='upper left')\n",
        "plt.show()"
      ],
      "metadata": {
        "colab": {
          "base_uri": "https://localhost:8080/",
          "height": 404
        },
        "id": "HgttcCm6bB0Y",
        "outputId": "088d5c89-fee3-4945-8beb-0995e5c19cef"
      },
      "execution_count": null,
      "outputs": [
        {
          "output_type": "display_data",
          "data": {
            "text/plain": [
              "<Figure size 576x432 with 1 Axes>"
            ],
            "image/png": "[encoded data removed]"
          },
          "metadata": {
            "needs_background": "light"
          }
        }
      ]
    },
    {
      "cell_type": "markdown",
      "source": [
        "### Prediction and Gaussian/Lorentzian fit"
      ],
      "metadata": {
        "id": "9MOHqMFJQM9m"
      }
    },
    {
      "cell_type": "code",
      "source": [
        "INPUT_test = V1[:,60:124,:] #Fuente na22 centrada\n",
        "#tiempo_test = np.linspace(0, 64, 64)  # 64 time points (initially) 0.2ns step\n",
        "#f_out = interp1d(tiempo_test, INPUT_test, axis=1)\n",
        "#INPUT_64_test = f_out(tiempo_test)\n",
        "Ncasos_test=INPUT_test.shape[0]\n",
        "print(tf.shape(INPUT_test))"
      ],
      "metadata": {
        "colab": {
          "base_uri": "https://localhost:8080/"
        },
        "outputId": "255bd92a-7ffb-4ee1-f872-301adfdce31c",
        "id": "WbaKst7dcKlQ"
      },
      "execution_count": null,
      "outputs": [
        {
          "output_type": "stream",
          "name": "stdout",
          "text": [
            "tf.Tensor([11744    64     2], shape=(3,), dtype=int32)\n"
          ]
        }
      ]
    },
    {
      "cell_type": "code",
      "source": [
        "INPUT2_test = np.zeros_like(INPUT_test)\n",
        "REF_test_1 = np.zeros((Ncasos_test,),dtype=np.float32)\n",
        "\n",
        "tstep = 0.2\n",
        "NRD0 = 1+np.random.randint(9, size=Ncasos_test)  # +-10 steps of 0.1ns of offset --> 1ns = 30cm --> EQUIVALENT TO MOVING THE SOURCE +-30cm\n",
        "NRD1 = 1+np.random.randint(9, size=Ncasos_test)\n",
        "\n",
        "for i in range(Ncasos_test):\n",
        "  N0 = NRD0[i]\n",
        "  INPUT2_test[i,:,0]=np.roll(INPUT_test[i,:,0],N0)\n",
        "  INPUT2_test[i,0:N0,0] = INPUT_test[i,0:N0,0]\n",
        "  N1 = NRD1[i]\n",
        "  INPUT2_test[i,:,1]=np.roll(INPUT_test[i,:,1],N1)\n",
        "  INPUT2_test[i,0:N1,1] = INPUT_test[i,0:N1,1]\n",
        "  #REF_test_1[i]=tstep*(N1-N0)  #ns\n",
        "  REF_test_1[i]=(N1-N0) #ns   #SE USA EL OFFSET EN EL VALOR DE REFRENCIA\n",
        "print(NRD0[0],NRD1[0])"
      ],
      "metadata": {
        "id": "ugIMeMIScDR9",
        "colab": {
          "base_uri": "https://localhost:8080/"
        },
        "outputId": "0a81e081-65e1-4025-9a10-045f3636eed7"
      },
      "execution_count": null,
      "outputs": [
        {
          "output_type": "stream",
          "name": "stdout",
          "text": [
            "4 8\n"
          ]
        }
      ]
    },
    {
      "cell_type": "code",
      "source": [
        "t0,t1 = model_na_5_5.predict([INPUT2_test[:,:,0],INPUT2_test[:,:,1],REF_test_1])\n",
        "print(t0.shape)\n",
        "#print(o1[0:5],o2[0:5],REF_test[0:5])\n",
        "#print(o2[0:5]-o1[0:5]-np.expand_dims(REF_test[0:5],-1))\n",
        "TOFN = tstep*(t1-t0-np.expand_dims(REF_test_1,-1))\n",
        "print(np.mean(TOFN))\n",
        "print (\"STD =\",np.std(TOFN))"
      ],
      "metadata": {
        "colab": {
          "base_uri": "https://localhost:8080/"
        },
        "id": "WXvWnAZ8eBRl",
        "outputId": "59eaf887-7d9d-4034-f937-580089b23ad0"
      },
      "execution_count": null,
      "outputs": [
        {
          "output_type": "stream",
          "name": "stdout",
          "text": [
            "367/367 [==============================] - 1s 2ms/step\n",
            "(11744, 1)\n",
            "0.22156152\n",
            "STD = 0.09120952\n"
          ]
        }
      ]
    },
    {
      "cell_type": "code",
      "source": [
        "t0,t1 = model_na_5_5.predict([testX[:,:,0],testX[:,:,1],REF_test])\n",
        "#t0,t1 = model_na_5_5.predict([trainX[:,:,0],trainX[:,:,1],REF_train])\n",
        "print(t0.shape)\n",
        "#print(o1[0:5],o2[0:5],REF_test[0:5])\n",
        "#print(o2[0:5]-o1[0:5]-np.expand_dims(REF_test[0:5],-1))\n",
        "TOFN = tstep*(t1-t0-np.expand_dims(REF_test,-1))\n",
        "print(TOFN)\n",
        "print (\"STD =\",np.std(TOFN))"
      ],
      "metadata": {
        "colab": {
          "base_uri": "https://localhost:8080/"
        },
        "id": "eMnU9yvakBxJ",
        "outputId": "472d1051-714b-4be4-8ff8-d5bc5d5a86c7"
      },
      "execution_count": null,
      "outputs": [
        {
          "output_type": "stream",
          "name": "stdout",
          "text": [
            "111/111 [==============================] - 0s 2ms/step\n",
            "(3550, 1)\n",
            "[[-0.26355016]\n",
            " [-0.3329478 ]\n",
            " [-0.24010532]\n",
            " ...\n",
            " [-0.24819009]\n",
            " [-0.34778795]\n",
            " [-0.19160628]]\n",
            "STD = 0.090774685\n"
          ]
        }
      ]
    },
    {
      "cell_type": "code",
      "source": [
        "plt.figure(figsize=(8,8))\n",
        "nbins=3*41\n",
        "histogN, binsN, patchesN  = plt.hist(TOFN,bins=nbins,color='white',edgecolor='blue',histtype=u'step');\n",
        "cbinsN = 0.5*(binsN[1:]+binsN[0:-1])\n",
        "\n",
        "\n",
        "#a_guess = 1 / (np.pi * max(histogN))\n",
        "#x0_guess = sum(cbinsN * histogN) / sum(histogN)\n",
        "\n",
        "def lorentz(x, *p):\n",
        "    I, gamma, x0 = p\n",
        "    return I * gamma**2 / ((x - x0)**2 + gamma**2)\n",
        "\n",
        "# initial parameter guesses\n",
        " #[height, HWHM, shift]\n",
        "#p1 = np.array([700, a_guess, x0_guess], dtype=np.double)   # single quantum\n",
        "\n",
        "\n",
        "def fit(p, x, y):\n",
        "    return curve_fit(lorentz, x, y, p0 = p)\n",
        "  \n",
        "\n",
        " #Get the fitting parameters for the best lorentzian\n",
        "#a, x0 = fit(p1, cbinsN, histogN)\n",
        "#print(a)\n",
        "#plt.plot(cbinsN,lorentz(cbinsN,*a),'r-')\n",
        "HN, AN, x0N, sigmaN = gauss_fit(cbinsN, histogN)\n",
        "FWHMN = 2.35482 * sigmaN\n",
        "plt.plot(cbinsN,gauss(cbinsN, HN, AN, x0N, sigmaN),'r-')\n",
        "print(\"CENTROID= \",x0N)\n",
        "print(\"SIGMA = \",sigmaN)\n",
        "print(\"FWHM (ns)= \",FWHMN)\n",
        "\n",
        "#plt.title('$^{22}$Na 5cm-5cm: predicted with model trained by 5cm-5cm data')\n",
        "plt.xlabel('Tiempo (ns)')"
      ],
      "metadata": {
        "colab": {
          "base_uri": "https://localhost:8080/",
          "height": 565
        },
        "id": "IZKZw8TdkBbk",
        "outputId": "bdbcba65-d21e-4b2b-8a5f-58d997ab685e"
      },
      "execution_count": null,
      "outputs": [
        {
          "output_type": "stream",
          "name": "stdout",
          "text": [
            "CENTROID=  0.2202031998637943\n",
            "SIGMA =  0.08114278106374627\n",
            "FWHM (ns)=  0.191076643704531\n"
          ]
        },
        {
          "output_type": "execute_result",
          "data": {
            "text/plain": [
              "Text(0.5, 0, 'Tiempo (ns)')"
            ]
          },
          "metadata": {},
          "execution_count": 182
        },
        {
          "output_type": "display_data",
          "data": {
            "text/plain": [
              "<Figure size 576x576 with 1 Axes>"
            ],
            "image/png": "[encoded data removed]"
          },
          "metadata": {
            "needs_background": "light"
          }
        }
      ]
    },
    {
      "cell_type": "markdown",
      "source": [
        "## Every position"
      ],
      "metadata": {
        "id": "8sEW_5GuXHkc"
      }
    },
    {
      "cell_type": "code",
      "source": [
        "SUM1=np.sum(V1*0.2,axis=1)\n",
        "print(np.mean(SUM1[:,0]),np.mean(SUM1[:,1]))\n",
        "\n",
        "#Para el primer detector\n",
        "histogE, binsE = np.histogram(SUM1[:,0],bins=100);\n",
        "histog_max=np.max(histogE)\n",
        "index=np.where(histogE==histog_max)[0]\n",
        "m11=511/((binsE[index+1]+binsE[index])/2)\n",
        "calibrado11=m11*SUM1[:,0]\n",
        "\n",
        "\n",
        "#Para el segundo detector\n",
        "histogE, binsE = np.histogram(SUM1[:,1],bins=100);\n",
        "histog_max=np.max(histogE)\n",
        "index=np.where(histogE==histog_max)[0]\n",
        "m21=511/((binsE[index+1]+binsE[index])/2)\n",
        "calibrado21=m21*SUM1[:,0]\n",
        "\n",
        "SUM2=np.sum(V2*0.2,axis=1)\n",
        "print(np.mean(SUM2[:,0]),np.mean(SUM2[:,1]))\n",
        "\n",
        "#Para el primer detector\n",
        "histogE, binsE = np.histogram(SUM2[:,0],bins=100);\n",
        "histog_max=np.max(histogE)\n",
        "index=np.where(histogE==histog_max)[0]\n",
        "m12=511/((binsE[index+1]+binsE[index])/2)\n",
        "calibrado21=m12*SUM2[:,0]\n",
        "\n",
        "\n",
        "#Para el segundo detector\n",
        "histogE, binsE = np.histogram(SUM2[:,1],bins=100);\n",
        "histog_max=np.max(histogE)\n",
        "index=np.where(histogE==histog_max)[0]\n",
        "m22=511/((binsE[index+1]+binsE[index])/2)\n",
        "calibrado22=m22*SUM2[:,0]\n",
        "\n",
        "\n",
        "SUM3=np.sum(V3*0.2,axis=1)\n",
        "print(np.mean(SUM3[:,0]),np.mean(SUM3[:,1]))\n",
        "\n",
        "\n",
        "#Para el primer detector\n",
        "histogE, binsE = np.histogram(SUM3[:,0],bins=100);\n",
        "histog_max=np.max(histogE)\n",
        "index=np.where(histogE==histog_max)[0]\n",
        "m13=511/((binsE[index+1]+binsE[index])/2)\n",
        "calibrado31=m13*SUM3[:,0]\n",
        "\n",
        "\n",
        "#Para el segundo detector\n",
        "histogE, binsE = np.histogram(SUM3[:,1],bins=100);\n",
        "histog_max=np.max(histogE)\n",
        "index=np.where(histogE==histog_max)[0]\n",
        "m23=511/((binsE[index+1]+binsE[index])/2)\n",
        "#calibrado33=m23*SUM3[:,0]\n",
        "\n",
        "\n",
        "V1 = V1[(m11*SUM1[:,0]>480) & (m11*SUM1[:,0]<540) & (m21*SUM1[:,1]>480) & (m21*SUM1[:,1]<540),:,:]\n",
        "V2 = V2[(m12*SUM2[:,0]>480) & (m12*SUM2[:,0]<540) & (m22*SUM2[:,1]>480) & (m22*SUM2[:,1]<540),:,:]\n",
        "V3 = V3[(m13*SUM3[:,0]>480) & (m13*SUM3[:,0]<540) & (m23*SUM3[:,1]>480) & (m23*SUM3[:,1]<540),:,:]\n",
        "\n",
        "\n",
        "mean_0=np.mean([np.mean(V1[:,:,0]),np.mean(V2[:,:,0]),np.mean(V3[:,:,0])])\n",
        "mean_1=np.mean([np.mean(V1[:,:,1]),np.mean(V2[:,:,1]),np.mean(V3[:,:,1])])\n",
        "desv_est_0=np.mean([np.std(V1[:,:,0]),np.std(V2[:,:,0]),np.std(V3[:,:,0])])\n",
        "desv_est_1=np.mean([np.std(V1[:,:,1]),np.std(V2[:,:,1]),np.std(V3[:,:,1])])\n",
        "\n",
        "V1[:,:,0]=(V1[:,:,0]-mean_0)/desv_est_0\n",
        "V1[:,:,1]=(V1[:,:,1]-mean_1)/desv_est_1\n",
        "V2[:,:,0]=(V2[:,:,0]-mean_0)/desv_est_0\n",
        "V2[:,:,1]=(V2[:,:,1]-mean_1)/desv_est_1\n",
        "V3[:,:,0]=(V3[:,:,0]-mean_0)/desv_est_0\n",
        "V3[:,:,1]=(V3[:,:,1]-mean_1)/desv_est_1\n",
        "\n",
        "\n",
        "print(V1.shape,V2.shape,V3.shape)\n"
      ],
      "metadata": {
        "id": "41RQAooCmL9W",
        "colab": {
          "base_uri": "https://localhost:8080/"
        },
        "outputId": "f006e23d-3806-432a-e323-621f441bf24a"
      },
      "execution_count": 8,
      "outputs": [
        {
          "output_type": "stream",
          "name": "stdout",
          "text": [
            "4.8790483 3.2595406\n",
            "4.8404737 3.5354571\n",
            "4.4527645 3.5460122\n",
            "(11411, 600, 2) (12648, 600, 2) (10571, 600, 2)\n"
          ]
        }
      ]
    },
    {
      "cell_type": "code",
      "source": [
        "plt.plot(V1[0,:,0],'b-')\n",
        "plt.plot(V1[0,:,1],'r-')"
      ],
      "metadata": {
        "colab": {
          "base_uri": "https://localhost:8080/",
          "height": 282
        },
        "id": "SYIzM_qBTUWm",
        "outputId": "8e5e0e1d-919f-49f1-f45d-3e51ace8c85f"
      },
      "execution_count": null,
      "outputs": [
        {
          "output_type": "execute_result",
          "data": {
            "text/plain": [
              "[<matplotlib.lines.Line2D at 0x7f4cd6e00b80>]"
            ]
          },
          "metadata": {},
          "execution_count": 8
        },
        {
          "output_type": "display_data",
          "data": {
            "text/plain": [
              "<Figure size 432x288 with 1 Axes>"
            ],
            "image/png": "[encoded data removed]"
          },
          "metadata": {
            "needs_background": "light"
          }
        }
      ]
    },
    {
      "cell_type": "code",
      "source": [
        "VNN1 = V1[:,:,:]\n",
        "VNN2 = V2[:,:,:]\n",
        "VNN3 = V2[:,:,:]\n",
        "\n",
        "\n",
        "Nev1 = [VNN1.shape[0],VNN2.shape[0],VNN3.shape[0]]\n",
        "Ncasos = np.min(Nev1)  #Numero de eventos tras filtrar en energia AMBOS\n",
        "remainder=(Ncasos % 128)\n",
        "Ncasos=Ncasos-remainder\n",
        "print(Ncasos,Ncasos/128)\n",
        "Na_complete = np.concatenate((VNN1[0:Ncasos,60:124,:],VNN2[0:Ncasos,60:124,:],VNN3[0:Ncasos,60:124,:]), axis=0, out=None)\n",
        "\n",
        "Npositions = 3\n",
        "print(np.shape(Na_complete))\n",
        "INPUT = Na_complete"
      ],
      "metadata": {
        "colab": {
          "base_uri": "https://localhost:8080/"
        },
        "id": "c_4Kerp8YnCq",
        "outputId": "89e4c98d-9259-498c-894a-77ba1118ba09"
      },
      "execution_count": 9,
      "outputs": [
        {
          "output_type": "stream",
          "name": "stdout",
          "text": [
            "11392 89.0\n",
            "(34176, 64, 2)\n"
          ]
        }
      ]
    },
    {
      "cell_type": "code",
      "source": [
        "INPUT2 = np.zeros_like(INPUT)\n",
        "REF = np.zeros((Ncasos*Npositions,),dtype=np.float32)\n",
        "\n",
        "tstep = 0.2\n",
        "NRD0 = 1+np.random.randint(9, size=Ncasos*Npositions)  \n",
        "NRD1 = 1+np.random.randint(9, size=Ncasos*Npositions)\n",
        "\n",
        "offsets_position=[1.0029,0,-1.0029]\n",
        "for j in range(Npositions):   \n",
        "  offsetT = offsets_position[j]  \n",
        "  for i in range(Ncasos*Npositions):\n",
        "    N0 = NRD0[i] \n",
        "    INPUT2[i,:,0]=np.roll(INPUT[i,:,0],N0)\n",
        "    INPUT2[i,0:N0,0] = INPUT[i,0:N0,0]\n",
        "    N1 = NRD1[i]\n",
        "    INPUT2[i,:,1]=np.roll(INPUT[i,:,1],N1)\n",
        "    INPUT2[i,0:N1,1] = INPUT[i,0:N1,1]\n",
        "    REF[i]=(N1-N0-offsetT)  #ns\n",
        "    #REF[i]=N1-N0  #time steps\n"
      ],
      "metadata": {
        "id": "Iy20rzVcYxHY"
      },
      "execution_count": 10,
      "outputs": []
    },
    {
      "cell_type": "code",
      "source": [
        "Ntrain = Ncasos-20*128\n",
        "print(Ntrain/3) \n",
        "\n",
        "trainX_1 = INPUT2[0:Ntrain,:,:]\n",
        "testX_1 = INPUT2[Ntrain:Ncasos,:,:]\n",
        "\n",
        "trainX_2 = INPUT2[Ncasos:Ntrain+Ncasos,:,:]\n",
        "testX_2 = INPUT2[Ntrain+Ncasos:2*Ncasos,:,:]\n",
        "\n",
        "trainX_3 = INPUT2[2*Ncasos:2*Ncasos+Ntrain,:,:]\n",
        "testX_3 = INPUT2[Ntrain+2*Ncasos:,:,:]\n",
        "\n",
        "print(np.shape(trainX_1),np.shape(trainX_2),np.shape(trainX_3),np.shape(testX_3))\n",
        "\n",
        "trainX = np.concatenate((trainX_1,trainX_2,trainX_3), axis=0, out=None)\n",
        "testX = np.concatenate((testX_1,testX_2,testX_3), axis=0, out=None)\n",
        "\n",
        "REF_train_1 = REF[0:Ntrain]\n",
        "REF_test_1 = REF[Ntrain:Ncasos]\n",
        "\n",
        "REF_train_2 = REF[Ncasos:Ntrain+Ncasos]\n",
        "REF_test_2 = REF[Ntrain+Ncasos:2*Ncasos]\n",
        "\n",
        "REF_train_3  = REF[2*Ncasos:2*Ncasos+Ntrain]\n",
        "REF_test_3 = REF[Ntrain+2*Ncasos:]\n",
        "\n",
        "REF_train = np.concatenate((REF_train_1,REF_train_2,REF_train_3), axis=0, out=None)\n",
        "REF_test = np.concatenate((REF_test_1,REF_test_2,REF_test_3), axis=0, out=None)\n",
        "\n",
        "\n",
        "print(testX.shape)"
      ],
      "metadata": {
        "colab": {
          "base_uri": "https://localhost:8080/"
        },
        "id": "ppKW0_VyY0VX",
        "outputId": "6f9a2803-99ba-4509-bf87-384906a27512"
      },
      "execution_count": 11,
      "outputs": [
        {
          "output_type": "stream",
          "name": "stdout",
          "text": [
            "2944.0\n",
            "(8832, 64, 2) (8832, 64, 2) (8832, 64, 2) (2560, 64, 2)\n",
            "(7680, 64, 2)\n"
          ]
        }
      ]
    },
    {
      "cell_type": "code",
      "source": [
        "# define two sets of inputs\n",
        "# https://stackoverflow.com/questions/49875127/share-weights-between-two-dense-layers-in-keras\n",
        "# https://stackoverflow.com/questions/66934276/how-to-create-a-model-with-multiple-shared-layers-in-keras-functional-api\n",
        "offset_inicial = 0.0\n",
        "inputA = Input(shape=(64,),)\n",
        "inputB = Input(shape=(64,))\n",
        "input_REF = Input(shape=(1,))\n",
        "\n",
        "x1 = Dense(128, activation=\"relu\",kernel_initializer=initializers.RandomNormal(mean=0,stddev=0.1))\n",
        "x2 = Dense(64, activation=\"relu\",kernel_initializer=initializers.RandomNormal(mean=0,stddev=0.1))\n",
        "x3 = Dense(1, activation=\"relu\")\n",
        "\n",
        "#kernel_initializer=initializers.RandomNormal(mean=0,stddev=0.5)\n",
        "\n",
        "op1A = x1(inputA)\n",
        "op2A = x2(op1A)\n",
        "op3A = x3(op2A)\n",
        "\n",
        "op1B = x1(inputB)\n",
        "op2B = x2(op1B)\n",
        "op3B = x3(op2B)\n",
        "\n",
        "model_na_5_5 = Model(inputs=[inputA, inputB, input_REF], outputs=[op3A,op3B])\n",
        "\n",
        "# OPTION 1 - USING LOSS FUNCTION IN THE MODEL\n",
        "# https://stackoverflow.com/questions/51680818/keras-custom-loss-as-a-function-of-multiple-outputs\n",
        "# Construct your custom loss as a tensor And Compile without specifying a loss\n",
        "#loss = K.std(op3B-op3A-input_REF-offset_inicial) \n",
        "loss = 1*K.mean(abs(op3B-op3A-input_REF))+0*K.std(op3B-op3A-input_REF)\n",
        "## Add loss to model\n",
        "model_na_5_5.add_loss(loss)\n",
        "\n",
        "model_na_5_5.summary()"
      ],
      "metadata": {
        "colab": {
          "base_uri": "https://localhost:8080/"
        },
        "id": "YoqNP015Y67h",
        "outputId": "9bc50512-691b-4634-f0fc-efa8c82a2724"
      },
      "execution_count": 12,
      "outputs": [
        {
          "output_type": "stream",
          "name": "stdout",
          "text": [
            "Model: \"model\"\n",
            "__________________________________________________________________________________________________\n",
            " Layer (type)                   Output Shape         Param #     Connected to                     \n",
            "==================================================================================================\n",
            " input_1 (InputLayer)           [(None, 64)]         0           []                               \n",
            "                                                                                                  \n",
            " input_2 (InputLayer)           [(None, 64)]         0           []                               \n",
            "                                                                                                  \n",
            " dense (Dense)                  (None, 128)          8320        ['input_1[0][0]',                \n",
            "                                                                  'input_2[0][0]']                \n",
            "                                                                                                  \n",
            " dense_1 (Dense)                (None, 64)           8256        ['dense[0][0]',                  \n",
            "                                                                  'dense[1][0]']                  \n",
            "                                                                                                  \n",
            " input_3 (InputLayer)           [(None, 1)]          0           []                               \n",
            "                                                                                                  \n",
            " dense_2 (Dense)                (None, 1)            65          ['dense_1[0][0]',                \n",
            "                                                                  'dense_1[1][0]']                \n",
            "                                                                                                  \n",
            " tf.math.subtract (TFOpLambda)  (None, 1)            0           ['dense_2[1][0]',                \n",
            "                                                                  'dense_2[0][0]']                \n",
            "                                                                                                  \n",
            " tf.math.subtract_1 (TFOpLambda  (None, 1)           0           ['tf.math.subtract[0][0]',       \n",
            " )                                                                'input_3[0][0]']                \n",
            "                                                                                                  \n",
            " tf.math.subtract_2 (TFOpLambda  (None, 1)           0           ['dense_2[1][0]',                \n",
            " )                                                                'dense_2[0][0]']                \n",
            "                                                                                                  \n",
            " tf.math.abs (TFOpLambda)       (None, 1)            0           ['tf.math.subtract_1[0][0]']     \n",
            "                                                                                                  \n",
            " tf.math.subtract_3 (TFOpLambda  (None, 1)           0           ['tf.math.subtract_2[0][0]',     \n",
            " )                                                                'input_3[0][0]']                \n",
            "                                                                                                  \n",
            " tf.math.reduce_mean (TFOpLambd  ()                  0           ['tf.math.abs[0][0]']            \n",
            " a)                                                                                               \n",
            "                                                                                                  \n",
            " tf.math.reduce_std (TFOpLambda  ()                  0           ['tf.math.subtract_3[0][0]']     \n",
            " )                                                                                                \n",
            "                                                                                                  \n",
            " tf.math.multiply (TFOpLambda)  ()                   0           ['tf.math.reduce_mean[0][0]']    \n",
            "                                                                                                  \n",
            " tf.math.multiply_1 (TFOpLambda  ()                  0           ['tf.math.reduce_std[0][0]']     \n",
            " )                                                                                                \n",
            "                                                                                                  \n",
            " tf.__operators__.add (TFOpLamb  ()                  0           ['tf.math.multiply[0][0]',       \n",
            " da)                                                              'tf.math.multiply_1[0][0]']     \n",
            "                                                                                                  \n",
            " add_loss (AddLoss)             ()                   0           ['tf.__operators__.add[0][0]']   \n",
            "                                                                                                  \n",
            "==================================================================================================\n",
            "Total params: 16,641\n",
            "Trainable params: 16,641\n",
            "Non-trainable params: 0\n",
            "__________________________________________________________________________________________________\n"
          ]
        }
      ]
    },
    {
      "cell_type": "code",
      "source": [
        "opt = tf.keras.optimizers.Adam(learning_rate=1e-5)\n",
        "model_na_5_5.compile(optimizer=opt) #, metrics=['accuracy']\n",
        "history = model_na_5_5.fit(x=[trainX[:,:,0], trainX[:,:,1], REF_train],y=None,validation_data=([testX[:,:,0], testX[:,:,1],REF_test],[]),epochs=150, batch_size=128,shuffle=False)  "
      ],
      "metadata": {
        "colab": {
          "base_uri": "https://localhost:8080/"
        },
        "id": "h-lbX72eY-SD",
        "outputId": "c2156a8a-0e80-4ee9-da2f-d5f4c179f996"
      },
      "execution_count": 13,
      "outputs": [
        {
          "output_type": "stream",
          "name": "stdout",
          "text": [
            "Epoch 1/150\n",
            "207/207 [==============================] - 3s 3ms/step - loss: 2.7373 - val_loss: 2.5363\n",
            "Epoch 2/150\n",
            "207/207 [==============================] - 1s 3ms/step - loss: 2.3751 - val_loss: 2.2109\n",
            "Epoch 3/150\n",
            "207/207 [==============================] - 1s 3ms/step - loss: 2.0313 - val_loss: 1.8422\n",
            "Epoch 4/150\n",
            "207/207 [==============================] - 1s 3ms/step - loss: 1.7011 - val_loss: 1.5489\n",
            "Epoch 5/150\n",
            "207/207 [==============================] - 1s 3ms/step - loss: 1.4094 - val_loss: 1.2700\n",
            "Epoch 6/150\n",
            "207/207 [==============================] - 1s 3ms/step - loss: 1.1442 - val_loss: 1.0367\n",
            "Epoch 7/150\n",
            "207/207 [==============================] - 1s 3ms/step - loss: 0.9453 - val_loss: 0.8825\n",
            "Epoch 8/150\n",
            "207/207 [==============================] - 1s 3ms/step - loss: 0.8316 - val_loss: 0.8087\n",
            "Epoch 9/150\n",
            "207/207 [==============================] - 1s 3ms/step - loss: 0.7827 - val_loss: 0.7786\n",
            "Epoch 10/150\n",
            "207/207 [==============================] - 1s 3ms/step - loss: 0.7635 - val_loss: 0.7650\n",
            "Epoch 11/150\n",
            "207/207 [==============================] - 1s 3ms/step - loss: 0.7539 - val_loss: 0.7564\n",
            "Epoch 12/150\n",
            "207/207 [==============================] - 1s 3ms/step - loss: 0.7457 - val_loss: 0.7480\n",
            "Epoch 13/150\n",
            "207/207 [==============================] - 1s 3ms/step - loss: 0.7372 - val_loss: 0.7408\n",
            "Epoch 14/150\n",
            "207/207 [==============================] - 1s 3ms/step - loss: 0.7302 - val_loss: 0.7342\n",
            "Epoch 15/150\n",
            "207/207 [==============================] - 1s 3ms/step - loss: 0.7232 - val_loss: 0.7271\n",
            "Epoch 16/150\n",
            "207/207 [==============================] - 1s 3ms/step - loss: 0.7160 - val_loss: 0.7203\n",
            "Epoch 17/150\n",
            "207/207 [==============================] - 1s 3ms/step - loss: 0.7099 - val_loss: 0.7150\n",
            "Epoch 18/150\n",
            "207/207 [==============================] - 1s 3ms/step - loss: 0.7046 - val_loss: 0.7094\n",
            "Epoch 19/150\n",
            "207/207 [==============================] - 1s 3ms/step - loss: 0.6980 - val_loss: 0.7033\n",
            "Epoch 20/150\n",
            "207/207 [==============================] - 1s 3ms/step - loss: 0.6927 - val_loss: 0.6982\n",
            "Epoch 21/150\n",
            "207/207 [==============================] - 1s 3ms/step - loss: 0.6880 - val_loss: 0.6933\n",
            "Epoch 22/150\n",
            "207/207 [==============================] - 1s 3ms/step - loss: 0.6832 - val_loss: 0.6888\n",
            "Epoch 23/150\n",
            "207/207 [==============================] - 1s 3ms/step - loss: 0.6786 - val_loss: 0.6844\n",
            "Epoch 24/150\n",
            "207/207 [==============================] - 1s 3ms/step - loss: 0.6740 - val_loss: 0.6803\n",
            "Epoch 25/150\n",
            "207/207 [==============================] - 1s 3ms/step - loss: 0.6697 - val_loss: 0.6762\n",
            "Epoch 26/150\n",
            "207/207 [==============================] - 1s 3ms/step - loss: 0.6657 - val_loss: 0.6725\n",
            "Epoch 27/150\n",
            "207/207 [==============================] - 1s 3ms/step - loss: 0.6622 - val_loss: 0.6691\n",
            "Epoch 28/150\n",
            "207/207 [==============================] - 1s 3ms/step - loss: 0.6588 - val_loss: 0.6660\n",
            "Epoch 29/150\n",
            "207/207 [==============================] - 1s 3ms/step - loss: 0.6556 - val_loss: 0.6627\n",
            "Epoch 30/150\n",
            "207/207 [==============================] - 1s 3ms/step - loss: 0.6524 - val_loss: 0.6597\n",
            "Epoch 31/150\n",
            "207/207 [==============================] - 1s 3ms/step - loss: 0.6494 - val_loss: 0.6569\n",
            "Epoch 32/150\n",
            "207/207 [==============================] - 1s 3ms/step - loss: 0.6465 - val_loss: 0.6541\n",
            "Epoch 33/150\n",
            "207/207 [==============================] - 1s 3ms/step - loss: 0.6437 - val_loss: 0.6515\n",
            "Epoch 34/150\n",
            "207/207 [==============================] - 1s 3ms/step - loss: 0.6411 - val_loss: 0.6490\n",
            "Epoch 35/150\n",
            "207/207 [==============================] - 1s 3ms/step - loss: 0.6385 - val_loss: 0.6465\n",
            "Epoch 36/150\n",
            "207/207 [==============================] - 1s 3ms/step - loss: 0.6360 - val_loss: 0.6442\n",
            "Epoch 37/150\n",
            "207/207 [==============================] - 1s 3ms/step - loss: 0.6337 - val_loss: 0.6420\n",
            "Epoch 38/150\n",
            "207/207 [==============================] - 1s 3ms/step - loss: 0.6308 - val_loss: 0.6383\n",
            "Epoch 39/150\n",
            "207/207 [==============================] - 1s 3ms/step - loss: 0.6272 - val_loss: 0.6356\n",
            "Epoch 40/150\n",
            "207/207 [==============================] - 1s 3ms/step - loss: 0.6245 - val_loss: 0.6338\n",
            "Epoch 41/150\n",
            "207/207 [==============================] - 1s 3ms/step - loss: 0.6223 - val_loss: 0.6318\n",
            "Epoch 42/150\n",
            "207/207 [==============================] - 1s 3ms/step - loss: 0.6203 - val_loss: 0.6297\n",
            "Epoch 43/150\n",
            "207/207 [==============================] - 1s 3ms/step - loss: 0.6182 - val_loss: 0.6277\n",
            "Epoch 44/150\n",
            "207/207 [==============================] - 1s 3ms/step - loss: 0.6163 - val_loss: 0.6258\n",
            "Epoch 45/150\n",
            "207/207 [==============================] - 1s 3ms/step - loss: 0.6144 - val_loss: 0.6242\n",
            "Epoch 46/150\n",
            "207/207 [==============================] - 1s 3ms/step - loss: 0.6124 - val_loss: 0.6225\n",
            "Epoch 47/150\n",
            "207/207 [==============================] - 1s 3ms/step - loss: 0.6105 - val_loss: 0.6209\n",
            "Epoch 48/150\n",
            "207/207 [==============================] - 1s 3ms/step - loss: 0.6087 - val_loss: 0.6193\n",
            "Epoch 49/150\n",
            "207/207 [==============================] - 1s 3ms/step - loss: 0.6069 - val_loss: 0.6178\n",
            "Epoch 50/150\n",
            "207/207 [==============================] - 1s 3ms/step - loss: 0.6051 - val_loss: 0.6162\n",
            "Epoch 51/150\n",
            "207/207 [==============================] - 1s 3ms/step - loss: 0.6035 - val_loss: 0.6146\n",
            "Epoch 52/150\n",
            "207/207 [==============================] - 1s 3ms/step - loss: 0.6018 - val_loss: 0.6130\n",
            "Epoch 53/150\n",
            "207/207 [==============================] - 1s 3ms/step - loss: 0.6002 - val_loss: 0.6114\n",
            "Epoch 54/150\n",
            "207/207 [==============================] - 1s 3ms/step - loss: 0.5986 - val_loss: 0.6102\n",
            "Epoch 55/150\n",
            "207/207 [==============================] - 1s 3ms/step - loss: 0.5970 - val_loss: 0.6090\n",
            "Epoch 56/150\n",
            "207/207 [==============================] - 1s 3ms/step - loss: 0.5955 - val_loss: 0.6079\n",
            "Epoch 57/150\n",
            "207/207 [==============================] - 1s 3ms/step - loss: 0.5942 - val_loss: 0.6068\n",
            "Epoch 58/150\n",
            "207/207 [==============================] - 1s 3ms/step - loss: 0.5929 - val_loss: 0.6054\n",
            "Epoch 59/150\n",
            "207/207 [==============================] - 1s 3ms/step - loss: 0.5915 - val_loss: 0.6044\n",
            "Epoch 60/150\n",
            "207/207 [==============================] - 1s 3ms/step - loss: 0.5903 - val_loss: 0.6030\n",
            "Epoch 61/150\n",
            "207/207 [==============================] - 1s 3ms/step - loss: 0.5890 - val_loss: 0.6020\n",
            "Epoch 62/150\n",
            "207/207 [==============================] - 1s 3ms/step - loss: 0.5878 - val_loss: 0.6007\n",
            "Epoch 63/150\n",
            "207/207 [==============================] - 1s 3ms/step - loss: 0.5866 - val_loss: 0.6001\n",
            "Epoch 64/150\n",
            "207/207 [==============================] - 1s 3ms/step - loss: 0.5855 - val_loss: 0.5989\n",
            "Epoch 65/150\n",
            "207/207 [==============================] - 1s 3ms/step - loss: 0.5843 - val_loss: 0.5977\n",
            "Epoch 66/150\n",
            "207/207 [==============================] - 1s 3ms/step - loss: 0.5832 - val_loss: 0.5969\n",
            "Epoch 67/150\n",
            "207/207 [==============================] - 1s 3ms/step - loss: 0.5821 - val_loss: 0.5961\n",
            "Epoch 68/150\n",
            "207/207 [==============================] - 1s 3ms/step - loss: 0.5812 - val_loss: 0.5951\n",
            "Epoch 69/150\n",
            "207/207 [==============================] - 1s 3ms/step - loss: 0.5802 - val_loss: 0.5942\n",
            "Epoch 70/150\n",
            "207/207 [==============================] - 1s 3ms/step - loss: 0.5792 - val_loss: 0.5933\n",
            "Epoch 71/150\n",
            "207/207 [==============================] - 1s 3ms/step - loss: 0.5782 - val_loss: 0.5926\n",
            "Epoch 72/150\n",
            "207/207 [==============================] - 1s 3ms/step - loss: 0.5774 - val_loss: 0.5919\n",
            "Epoch 73/150\n",
            "207/207 [==============================] - 1s 3ms/step - loss: 0.5765 - val_loss: 0.5912\n",
            "Epoch 74/150\n",
            "207/207 [==============================] - 1s 3ms/step - loss: 0.5757 - val_loss: 0.5901\n",
            "Epoch 75/150\n",
            "207/207 [==============================] - 1s 3ms/step - loss: 0.5747 - val_loss: 0.5893\n",
            "Epoch 76/150\n",
            "207/207 [==============================] - 1s 3ms/step - loss: 0.5739 - val_loss: 0.5886\n",
            "Epoch 77/150\n",
            "207/207 [==============================] - 1s 3ms/step - loss: 0.5731 - val_loss: 0.5878\n",
            "Epoch 78/150\n",
            "207/207 [==============================] - 1s 3ms/step - loss: 0.5723 - val_loss: 0.5872\n",
            "Epoch 79/150\n",
            "207/207 [==============================] - 1s 3ms/step - loss: 0.5716 - val_loss: 0.5865\n",
            "Epoch 80/150\n",
            "207/207 [==============================] - 1s 3ms/step - loss: 0.5708 - val_loss: 0.5857\n",
            "Epoch 81/150\n",
            "207/207 [==============================] - 1s 3ms/step - loss: 0.5701 - val_loss: 0.5850\n",
            "Epoch 82/150\n",
            "207/207 [==============================] - 1s 3ms/step - loss: 0.5692 - val_loss: 0.5845\n",
            "Epoch 83/150\n",
            "207/207 [==============================] - 1s 3ms/step - loss: 0.5686 - val_loss: 0.5838\n",
            "Epoch 84/150\n",
            "207/207 [==============================] - 1s 3ms/step - loss: 0.5678 - val_loss: 0.5834\n",
            "Epoch 85/150\n",
            "207/207 [==============================] - 1s 3ms/step - loss: 0.5672 - val_loss: 0.5831\n",
            "Epoch 86/150\n",
            "207/207 [==============================] - 1s 3ms/step - loss: 0.5667 - val_loss: 0.5823\n",
            "Epoch 87/150\n",
            "207/207 [==============================] - 1s 3ms/step - loss: 0.5660 - val_loss: 0.5817\n",
            "Epoch 88/150\n",
            "207/207 [==============================] - 1s 3ms/step - loss: 0.5654 - val_loss: 0.5811\n",
            "Epoch 89/150\n",
            "207/207 [==============================] - 1s 3ms/step - loss: 0.5648 - val_loss: 0.5805\n",
            "Epoch 90/150\n",
            "207/207 [==============================] - 1s 3ms/step - loss: 0.5642 - val_loss: 0.5799\n",
            "Epoch 91/150\n",
            "207/207 [==============================] - 1s 3ms/step - loss: 0.5637 - val_loss: 0.5794\n",
            "Epoch 92/150\n",
            "207/207 [==============================] - 1s 3ms/step - loss: 0.5632 - val_loss: 0.5786\n",
            "Epoch 93/150\n",
            "207/207 [==============================] - 1s 3ms/step - loss: 0.5625 - val_loss: 0.5786\n",
            "Epoch 94/150\n",
            "207/207 [==============================] - 1s 3ms/step - loss: 0.5619 - val_loss: 0.5783\n",
            "Epoch 95/150\n",
            "207/207 [==============================] - 1s 3ms/step - loss: 0.5615 - val_loss: 0.5778\n",
            "Epoch 96/150\n",
            "207/207 [==============================] - 1s 3ms/step - loss: 0.5610 - val_loss: 0.5770\n",
            "Epoch 97/150\n",
            "207/207 [==============================] - 1s 3ms/step - loss: 0.5603 - val_loss: 0.5768\n",
            "Epoch 98/150\n",
            "207/207 [==============================] - 1s 3ms/step - loss: 0.5596 - val_loss: 0.5765\n",
            "Epoch 99/150\n",
            "207/207 [==============================] - 1s 3ms/step - loss: 0.5589 - val_loss: 0.5760\n",
            "Epoch 100/150\n",
            "207/207 [==============================] - 1s 3ms/step - loss: 0.5582 - val_loss: 0.5751\n",
            "Epoch 101/150\n",
            "207/207 [==============================] - 1s 3ms/step - loss: 0.5571 - val_loss: 0.5745\n",
            "Epoch 102/150\n",
            "207/207 [==============================] - 1s 3ms/step - loss: 0.5566 - val_loss: 0.5740\n",
            "Epoch 103/150\n",
            "207/207 [==============================] - 1s 3ms/step - loss: 0.5560 - val_loss: 0.5736\n",
            "Epoch 104/150\n",
            "207/207 [==============================] - 1s 3ms/step - loss: 0.5553 - val_loss: 0.5728\n",
            "Epoch 105/150\n",
            "207/207 [==============================] - 1s 3ms/step - loss: 0.5546 - val_loss: 0.5725\n",
            "Epoch 106/150\n",
            "207/207 [==============================] - 1s 3ms/step - loss: 0.5542 - val_loss: 0.5719\n",
            "Epoch 107/150\n",
            "207/207 [==============================] - 1s 3ms/step - loss: 0.5538 - val_loss: 0.5714\n",
            "Epoch 108/150\n",
            "207/207 [==============================] - 1s 3ms/step - loss: 0.5532 - val_loss: 0.5710\n",
            "Epoch 109/150\n",
            "207/207 [==============================] - 1s 3ms/step - loss: 0.5528 - val_loss: 0.5705\n",
            "Epoch 110/150\n",
            "207/207 [==============================] - 1s 3ms/step - loss: 0.5523 - val_loss: 0.5699\n",
            "Epoch 111/150\n",
            "207/207 [==============================] - 1s 3ms/step - loss: 0.5517 - val_loss: 0.5697\n",
            "Epoch 112/150\n",
            "207/207 [==============================] - 1s 3ms/step - loss: 0.5514 - val_loss: 0.5692\n",
            "Epoch 113/150\n",
            "207/207 [==============================] - 1s 3ms/step - loss: 0.5508 - val_loss: 0.5685\n",
            "Epoch 114/150\n",
            "207/207 [==============================] - 1s 3ms/step - loss: 0.5503 - val_loss: 0.5682\n",
            "Epoch 115/150\n",
            "207/207 [==============================] - 1s 3ms/step - loss: 0.5499 - val_loss: 0.5678\n",
            "Epoch 116/150\n",
            "207/207 [==============================] - 1s 3ms/step - loss: 0.5495 - val_loss: 0.5676\n",
            "Epoch 117/150\n",
            "207/207 [==============================] - 1s 3ms/step - loss: 0.5492 - val_loss: 0.5673\n",
            "Epoch 118/150\n",
            "207/207 [==============================] - 1s 3ms/step - loss: 0.5489 - val_loss: 0.5668\n",
            "Epoch 119/150\n",
            "207/207 [==============================] - 1s 3ms/step - loss: 0.5485 - val_loss: 0.5666\n",
            "Epoch 120/150\n",
            "207/207 [==============================] - 1s 3ms/step - loss: 0.5482 - val_loss: 0.5663\n",
            "Epoch 121/150\n",
            "207/207 [==============================] - 1s 3ms/step - loss: 0.5479 - val_loss: 0.5660\n",
            "Epoch 122/150\n",
            "207/207 [==============================] - 1s 3ms/step - loss: 0.5476 - val_loss: 0.5657\n",
            "Epoch 123/150\n",
            "207/207 [==============================] - 1s 3ms/step - loss: 0.5472 - val_loss: 0.5653\n",
            "Epoch 124/150\n",
            "207/207 [==============================] - 1s 3ms/step - loss: 0.5468 - val_loss: 0.5651\n",
            "Epoch 125/150\n",
            "207/207 [==============================] - 1s 3ms/step - loss: 0.5465 - val_loss: 0.5646\n",
            "Epoch 126/150\n",
            "207/207 [==============================] - 1s 3ms/step - loss: 0.5460 - val_loss: 0.5643\n",
            "Epoch 127/150\n",
            "207/207 [==============================] - 1s 3ms/step - loss: 0.5456 - val_loss: 0.5639\n",
            "Epoch 128/150\n",
            "207/207 [==============================] - 1s 3ms/step - loss: 0.5455 - val_loss: 0.5632\n",
            "Epoch 129/150\n",
            "207/207 [==============================] - 1s 3ms/step - loss: 0.5448 - val_loss: 0.5629\n",
            "Epoch 130/150\n",
            "207/207 [==============================] - 1s 3ms/step - loss: 0.5445 - val_loss: 0.5626\n",
            "Epoch 131/150\n",
            "207/207 [==============================] - 1s 3ms/step - loss: 0.5444 - val_loss: 0.5619\n",
            "Epoch 132/150\n",
            "207/207 [==============================] - 1s 3ms/step - loss: 0.5440 - val_loss: 0.5615\n",
            "Epoch 133/150\n",
            "207/207 [==============================] - 1s 3ms/step - loss: 0.5437 - val_loss: 0.5612\n",
            "Epoch 134/150\n",
            "207/207 [==============================] - 1s 3ms/step - loss: 0.5434 - val_loss: 0.5608\n",
            "Epoch 135/150\n",
            "207/207 [==============================] - 1s 3ms/step - loss: 0.5428 - val_loss: 0.5603\n",
            "Epoch 136/150\n",
            "207/207 [==============================] - 1s 3ms/step - loss: 0.5423 - val_loss: 0.5599\n",
            "Epoch 137/150\n",
            "207/207 [==============================] - 1s 3ms/step - loss: 0.5419 - val_loss: 0.5597\n",
            "Epoch 138/150\n",
            "207/207 [==============================] - 1s 3ms/step - loss: 0.5416 - val_loss: 0.5595\n",
            "Epoch 139/150\n",
            "207/207 [==============================] - 1s 3ms/step - loss: 0.5413 - val_loss: 0.5594\n",
            "Epoch 140/150\n",
            "207/207 [==============================] - 1s 3ms/step - loss: 0.5411 - val_loss: 0.5591\n",
            "Epoch 141/150\n",
            "207/207 [==============================] - 1s 3ms/step - loss: 0.5408 - val_loss: 0.5589\n",
            "Epoch 142/150\n",
            "207/207 [==============================] - 1s 3ms/step - loss: 0.5404 - val_loss: 0.5586\n",
            "Epoch 143/150\n",
            "207/207 [==============================] - 1s 3ms/step - loss: 0.5402 - val_loss: 0.5584\n",
            "Epoch 144/150\n",
            "207/207 [==============================] - 1s 3ms/step - loss: 0.5400 - val_loss: 0.5581\n",
            "Epoch 145/150\n",
            "207/207 [==============================] - 1s 3ms/step - loss: 0.5396 - val_loss: 0.5580\n",
            "Epoch 146/150\n",
            "207/207 [==============================] - 1s 3ms/step - loss: 0.5394 - val_loss: 0.5576\n",
            "Epoch 147/150\n",
            "207/207 [==============================] - 1s 3ms/step - loss: 0.5390 - val_loss: 0.5573\n",
            "Epoch 148/150\n",
            "207/207 [==============================] - 1s 3ms/step - loss: 0.5387 - val_loss: 0.5570\n",
            "Epoch 149/150\n",
            "207/207 [==============================] - 1s 3ms/step - loss: 0.5385 - val_loss: 0.5567\n",
            "Epoch 150/150\n",
            "207/207 [==============================] - 1s 3ms/step - loss: 0.5382 - val_loss: 0.5564\n"
          ]
        }
      ]
    },
    {
      "cell_type": "code",
      "source": [
        "plt.figure(figsize=(8,6))\n",
        "plt.plot(history.history['loss'])\n",
        "plt.plot(history.history['val_loss'])\n",
        "plt.title('model loss')\n",
        "plt.ylabel('loss')\n",
        "plt.xlabel('epoch')\n",
        "plt.legend(['train', 'test'], loc='upper left')\n",
        "plt.show()"
      ],
      "metadata": {
        "colab": {
          "base_uri": "https://localhost:8080/",
          "height": 404
        },
        "id": "4qWp-l13QLet",
        "outputId": "6e97873d-f17c-44ba-a160-ab4f864b4edc"
      },
      "execution_count": 14,
      "outputs": [
        {
          "output_type": "display_data",
          "data": {
            "text/plain": [
              "<Figure size 576x432 with 1 Axes>"
            ],
            "image/png": "[encoded data removed]"
          },
          "metadata": {
            "needs_background": "light"
          }
        }
      ]
    },
    {
      "cell_type": "code",
      "source": [
        "t0,t1 = model_na_5_5.predict([testX_1[:,:,0],testX_1[:,:,1],REF_test_1])\n",
        "#t0,t1 = model_na_5_5.predict([trainX[:,:,0],trainX[:,:,1],REF_train])\n",
        "print(t0.shape)\n",
        "#print(o1[0:5],o2[0:5],REF_test[0:5])\n",
        "#print(o2[0:5]-o1[0:5]-np.expand_dims(REF_test[0:5],-1))\n",
        "TOFN = tstep*(t1-t0-np.expand_dims(REF_test_1,-1))\n",
        "print(TOFN)\n",
        "print (\"STD =\",np.std(TOFN))"
      ],
      "metadata": {
        "colab": {
          "base_uri": "https://localhost:8080/"
        },
        "id": "Fx7KkJ88eq11",
        "outputId": "753171b1-27a3-43fd-ad62-fb95133db805"
      },
      "execution_count": 29,
      "outputs": [
        {
          "output_type": "stream",
          "name": "stdout",
          "text": [
            "80/80 [==============================] - 0s 4ms/step\n",
            "(2560, 1)\n",
            "[[-0.12039345]\n",
            " [ 0.03019106]\n",
            " [ 0.29404557]\n",
            " ...\n",
            " [ 0.10073765]\n",
            " [ 0.2826853 ]\n",
            " [ 0.22161904]]\n",
            "STD = 0.12110368\n"
          ]
        }
      ]
    },
    {
      "cell_type": "code",
      "source": [
        "plt.figure(figsize=(8,8))\n",
        "nbins=3*41\n",
        "histogN, binsN, patchesN  = plt.hist(TOFN,bins=nbins,color='white',edgecolor='blue',histtype=u'step');\n",
        "cbinsN = 0.5*(binsN[1:]+binsN[0:-1])\n",
        "\n",
        "\n",
        "#a_guess = 1 / (np.pi * max(histogN))\n",
        "#x0_guess = sum(cbinsN * histogN) / sum(histogN)\n",
        "\n",
        "def lorentz(x, *p):\n",
        "    I, gamma, x0 = p\n",
        "    return I * gamma**2 / ((x - x0)**2 + gamma**2)\n",
        "\n",
        "# initial parameter guesses\n",
        " #[height, HWHM, shift]\n",
        "#p1 = np.array([700, a_guess, x0_guess], dtype=np.double)   # single quantum\n",
        "\n",
        "\n",
        "def fit(p, x, y):\n",
        "    return curve_fit(lorentz, x, y, p0 = p)\n",
        "  \n",
        "\n",
        " #Get the fitting parameters for the best lorentzian\n",
        "#a, x0 = fit(p1, cbinsN, histogN)\n",
        "#print(a)\n",
        "#plt.plot(cbinsN,lorentz(cbinsN,*a),'r-')\n",
        "HN, AN, x0N, sigmaN = gauss_fit(cbinsN, histogN)\n",
        "FWHMN = 2.35482 * sigmaN\n",
        "plt.plot(cbinsN,gauss(cbinsN, HN, AN, x0N, sigmaN),'r-')\n",
        "print(\"CENTROID= \",x0N)\n",
        "print(\"SIGMA = \",sigmaN)\n",
        "print(\"FWHM (ns)= \",FWHMN)\n",
        "\n",
        "plt.title('$^{22}$Na 8cm-2cm: predicted with model trained the full dataset')\n",
        "plt.xlabel('Tiempo (ns)')\n"
      ],
      "metadata": {
        "colab": {
          "base_uri": "https://localhost:8080/",
          "height": 585
        },
        "id": "Nn_Y5Uv5fEgN",
        "outputId": "3fc9d16b-594d-4752-d4ab-68d1b8e0962a"
      },
      "execution_count": 30,
      "outputs": [
        {
          "output_type": "stream",
          "name": "stdout",
          "text": [
            "CENTROID=  0.06708655818304866\n",
            "SIGMA =  0.10747521082062655\n",
            "FWHM (ns)=  0.25308477594462786\n"
          ]
        },
        {
          "output_type": "execute_result",
          "data": {
            "text/plain": [
              "Text(0.5, 0, 'Tiempo (ns)')"
            ]
          },
          "metadata": {},
          "execution_count": 30
        },
        {
          "output_type": "display_data",
          "data": {
            "text/plain": [
              "<Figure size 576x576 with 1 Axes>"
            ],
            "image/png": "[encoded data removed]"
          },
          "metadata": {
            "needs_background": "light"
          }
        }
      ]
    },
    {
      "cell_type": "code",
      "source": [],
      "metadata": {
        "id": "_5yxusJSfKIQ"
      },
      "execution_count": null,
      "outputs": []
    }
  ],
  "metadata": {
    "colab": {
      "provenance": [],
      "toc_visible": true,
      "include_colab_link": true
    },
    "environment": {
      "name": "tf2-2-2-gpu.2-2.m50",
      "type": "gcloud",
      "uri": "gcr.io/deeplearning-platform-release/tf2-2-2-gpu.2-2:m50"
    },
    "kernelspec": {
      "display_name": "Python 3",
      "language": "python",
      "name": "python3"
    },
    "language_info": {
      "codemirror_mode": {
        "name": "ipython",
        "version": 3
      },
      "file_extension": ".py",
      "mimetype": "text/x-python",
      "name": "python",
      "nbconvert_exporter": "python",
      "pygments_lexer": "ipython3",
      "version": "3.8.5"
    },
    "accelerator": "GPU",
    "gpuClass": "standard"
  },
  "nbformat": 4,
  "nbformat_minor": 0
}